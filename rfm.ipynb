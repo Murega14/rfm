{
 "cells": [
  {
   "cell_type": "code",
   "execution_count": 1,
   "metadata": {},
   "outputs": [],
   "source": [
    "#importing the necessary libraries\n",
    "import numpy as np\n",
    "import pandas as pd\n",
    "import matplotlib.pyplot as plt\n",
    "import seaborn as sns\n",
    "\n",
    "import warnings\n",
    "warnings.filterwarnings('ignore')"
   ]
  },
  {
   "cell_type": "code",
   "execution_count": 2,
   "metadata": {},
   "outputs": [
    {
     "data": {
      "text/html": [
       "<div>\n",
       "<style scoped>\n",
       "    .dataframe tbody tr th:only-of-type {\n",
       "        vertical-align: middle;\n",
       "    }\n",
       "\n",
       "    .dataframe tbody tr th {\n",
       "        vertical-align: top;\n",
       "    }\n",
       "\n",
       "    .dataframe thead th {\n",
       "        text-align: right;\n",
       "    }\n",
       "</style>\n",
       "<table border=\"1\" class=\"dataframe\">\n",
       "  <thead>\n",
       "    <tr style=\"text-align: right;\">\n",
       "      <th></th>\n",
       "      <th>CustomerID</th>\n",
       "      <th>PurchaseDate</th>\n",
       "      <th>TransactionAmount</th>\n",
       "      <th>ProductInformation</th>\n",
       "      <th>OrderID</th>\n",
       "      <th>Location</th>\n",
       "    </tr>\n",
       "  </thead>\n",
       "  <tbody>\n",
       "    <tr>\n",
       "      <th>0</th>\n",
       "      <td>8814</td>\n",
       "      <td>2023-04-11</td>\n",
       "      <td>943.31</td>\n",
       "      <td>Product C</td>\n",
       "      <td>890075</td>\n",
       "      <td>Tokyo</td>\n",
       "    </tr>\n",
       "    <tr>\n",
       "      <th>1</th>\n",
       "      <td>2188</td>\n",
       "      <td>2023-04-11</td>\n",
       "      <td>463.70</td>\n",
       "      <td>Product A</td>\n",
       "      <td>176819</td>\n",
       "      <td>London</td>\n",
       "    </tr>\n",
       "    <tr>\n",
       "      <th>2</th>\n",
       "      <td>4608</td>\n",
       "      <td>2023-04-11</td>\n",
       "      <td>80.28</td>\n",
       "      <td>Product A</td>\n",
       "      <td>340062</td>\n",
       "      <td>New York</td>\n",
       "    </tr>\n",
       "    <tr>\n",
       "      <th>3</th>\n",
       "      <td>2559</td>\n",
       "      <td>2023-04-11</td>\n",
       "      <td>221.29</td>\n",
       "      <td>Product A</td>\n",
       "      <td>239145</td>\n",
       "      <td>London</td>\n",
       "    </tr>\n",
       "    <tr>\n",
       "      <th>4</th>\n",
       "      <td>9482</td>\n",
       "      <td>2023-04-11</td>\n",
       "      <td>739.56</td>\n",
       "      <td>Product A</td>\n",
       "      <td>194545</td>\n",
       "      <td>Paris</td>\n",
       "    </tr>\n",
       "    <tr>\n",
       "      <th>...</th>\n",
       "      <td>...</td>\n",
       "      <td>...</td>\n",
       "      <td>...</td>\n",
       "      <td>...</td>\n",
       "      <td>...</td>\n",
       "      <td>...</td>\n",
       "    </tr>\n",
       "    <tr>\n",
       "      <th>995</th>\n",
       "      <td>2970</td>\n",
       "      <td>2023-06-10</td>\n",
       "      <td>759.62</td>\n",
       "      <td>Product B</td>\n",
       "      <td>275284</td>\n",
       "      <td>London</td>\n",
       "    </tr>\n",
       "    <tr>\n",
       "      <th>996</th>\n",
       "      <td>6669</td>\n",
       "      <td>2023-06-10</td>\n",
       "      <td>941.50</td>\n",
       "      <td>Product C</td>\n",
       "      <td>987025</td>\n",
       "      <td>New York</td>\n",
       "    </tr>\n",
       "    <tr>\n",
       "      <th>997</th>\n",
       "      <td>8836</td>\n",
       "      <td>2023-06-10</td>\n",
       "      <td>545.36</td>\n",
       "      <td>Product C</td>\n",
       "      <td>512842</td>\n",
       "      <td>London</td>\n",
       "    </tr>\n",
       "    <tr>\n",
       "      <th>998</th>\n",
       "      <td>1440</td>\n",
       "      <td>2023-06-10</td>\n",
       "      <td>729.94</td>\n",
       "      <td>Product B</td>\n",
       "      <td>559753</td>\n",
       "      <td>Paris</td>\n",
       "    </tr>\n",
       "    <tr>\n",
       "      <th>999</th>\n",
       "      <td>4759</td>\n",
       "      <td>2023-06-10</td>\n",
       "      <td>804.28</td>\n",
       "      <td>Product D</td>\n",
       "      <td>467544</td>\n",
       "      <td>New York</td>\n",
       "    </tr>\n",
       "  </tbody>\n",
       "</table>\n",
       "<p>1000 rows × 6 columns</p>\n",
       "</div>"
      ],
      "text/plain": [
       "     CustomerID PurchaseDate  TransactionAmount ProductInformation  OrderID  \\\n",
       "0          8814   2023-04-11             943.31          Product C   890075   \n",
       "1          2188   2023-04-11             463.70          Product A   176819   \n",
       "2          4608   2023-04-11              80.28          Product A   340062   \n",
       "3          2559   2023-04-11             221.29          Product A   239145   \n",
       "4          9482   2023-04-11             739.56          Product A   194545   \n",
       "..          ...          ...                ...                ...      ...   \n",
       "995        2970   2023-06-10             759.62          Product B   275284   \n",
       "996        6669   2023-06-10             941.50          Product C   987025   \n",
       "997        8836   2023-06-10             545.36          Product C   512842   \n",
       "998        1440   2023-06-10             729.94          Product B   559753   \n",
       "999        4759   2023-06-10             804.28          Product D   467544   \n",
       "\n",
       "     Location  \n",
       "0       Tokyo  \n",
       "1      London  \n",
       "2    New York  \n",
       "3      London  \n",
       "4       Paris  \n",
       "..        ...  \n",
       "995    London  \n",
       "996  New York  \n",
       "997    London  \n",
       "998     Paris  \n",
       "999  New York  \n",
       "\n",
       "[1000 rows x 6 columns]"
      ]
     },
     "execution_count": 2,
     "metadata": {},
     "output_type": "execute_result"
    }
   ],
   "source": [
    "#loading the dataset\n",
    "df = pd.read_csv('rfm_data.csv')\n",
    "df"
   ]
  },
  {
   "cell_type": "code",
   "execution_count": 3,
   "metadata": {},
   "outputs": [
    {
     "name": "stdout",
     "output_type": "stream",
     "text": [
      "<class 'pandas.core.frame.DataFrame'>\n",
      "RangeIndex: 1000 entries, 0 to 999\n",
      "Data columns (total 6 columns):\n",
      " #   Column              Non-Null Count  Dtype  \n",
      "---  ------              --------------  -----  \n",
      " 0   CustomerID          1000 non-null   int64  \n",
      " 1   PurchaseDate        1000 non-null   object \n",
      " 2   TransactionAmount   1000 non-null   float64\n",
      " 3   ProductInformation  1000 non-null   object \n",
      " 4   OrderID             1000 non-null   int64  \n",
      " 5   Location            1000 non-null   object \n",
      "dtypes: float64(1), int64(2), object(3)\n",
      "memory usage: 215.0 KB\n"
     ]
    }
   ],
   "source": [
    "#getting information about the dataframe\n",
    "df.info(memory_usage='deep')"
   ]
  },
  {
   "cell_type": "code",
   "execution_count": 4,
   "metadata": {},
   "outputs": [
    {
     "data": {
      "text/html": [
       "<div>\n",
       "<style scoped>\n",
       "    .dataframe tbody tr th:only-of-type {\n",
       "        vertical-align: middle;\n",
       "    }\n",
       "\n",
       "    .dataframe tbody tr th {\n",
       "        vertical-align: top;\n",
       "    }\n",
       "\n",
       "    .dataframe thead th {\n",
       "        text-align: right;\n",
       "    }\n",
       "</style>\n",
       "<table border=\"1\" class=\"dataframe\">\n",
       "  <thead>\n",
       "    <tr style=\"text-align: right;\">\n",
       "      <th></th>\n",
       "      <th>count</th>\n",
       "      <th>mean</th>\n",
       "      <th>std</th>\n",
       "      <th>min</th>\n",
       "      <th>25%</th>\n",
       "      <th>50%</th>\n",
       "      <th>75%</th>\n",
       "      <th>max</th>\n",
       "    </tr>\n",
       "  </thead>\n",
       "  <tbody>\n",
       "    <tr>\n",
       "      <th>CustomerID</th>\n",
       "      <td>1000.0</td>\n",
       "      <td>5554.78900</td>\n",
       "      <td>2605.014863</td>\n",
       "      <td>1011.00</td>\n",
       "      <td>3273.00</td>\n",
       "      <td>5538.000</td>\n",
       "      <td>7821.75</td>\n",
       "      <td>9991.00</td>\n",
       "    </tr>\n",
       "    <tr>\n",
       "      <th>TransactionAmount</th>\n",
       "      <td>1000.0</td>\n",
       "      <td>513.67781</td>\n",
       "      <td>286.098700</td>\n",
       "      <td>12.13</td>\n",
       "      <td>257.12</td>\n",
       "      <td>523.565</td>\n",
       "      <td>759.86</td>\n",
       "      <td>999.44</td>\n",
       "    </tr>\n",
       "    <tr>\n",
       "      <th>OrderID</th>\n",
       "      <td>1000.0</td>\n",
       "      <td>554071.39800</td>\n",
       "      <td>264695.448814</td>\n",
       "      <td>100096.00</td>\n",
       "      <td>313152.00</td>\n",
       "      <td>564671.500</td>\n",
       "      <td>783052.25</td>\n",
       "      <td>999695.00</td>\n",
       "    </tr>\n",
       "  </tbody>\n",
       "</table>\n",
       "</div>"
      ],
      "text/plain": [
       "                    count          mean            std        min        25%  \\\n",
       "CustomerID         1000.0    5554.78900    2605.014863    1011.00    3273.00   \n",
       "TransactionAmount  1000.0     513.67781     286.098700      12.13     257.12   \n",
       "OrderID            1000.0  554071.39800  264695.448814  100096.00  313152.00   \n",
       "\n",
       "                          50%        75%        max  \n",
       "CustomerID           5538.000    7821.75    9991.00  \n",
       "TransactionAmount     523.565     759.86     999.44  \n",
       "OrderID            564671.500  783052.25  999695.00  "
      ]
     },
     "execution_count": 4,
     "metadata": {},
     "output_type": "execute_result"
    }
   ],
   "source": [
    "#describing the dataframe\n",
    "df.describe().T"
   ]
  },
  {
   "cell_type": "code",
   "execution_count": 5,
   "metadata": {},
   "outputs": [
    {
     "data": {
      "text/plain": [
       "array(['Tokyo', 'London', 'New York', 'Paris'], dtype=object)"
      ]
     },
     "execution_count": 5,
     "metadata": {},
     "output_type": "execute_result"
    }
   ],
   "source": [
    "#analyzing the dataframe to see the different locations in the dataset\n",
    "df['Location'].unique()"
   ]
  },
  {
   "cell_type": "code",
   "execution_count": 6,
   "metadata": {},
   "outputs": [
    {
     "data": {
      "text/plain": [
       "array(['Product C', 'Product A', 'Product B', 'Product D'], dtype=object)"
      ]
     },
     "execution_count": 6,
     "metadata": {},
     "output_type": "execute_result"
    }
   ],
   "source": [
    "#analyzing to see the different products\n",
    "df['ProductInformation'].unique()"
   ]
  },
  {
   "cell_type": "code",
   "execution_count": 7,
   "metadata": {},
   "outputs": [
    {
     "data": {
      "text/plain": [
       "946"
      ]
     },
     "execution_count": 7,
     "metadata": {},
     "output_type": "execute_result"
    }
   ],
   "source": [
    "#analyzing to see how many customers\n",
    "df['CustomerID'].nunique()"
   ]
  },
  {
   "cell_type": "code",
   "execution_count": 8,
   "metadata": {},
   "outputs": [],
   "source": [
    "#converting Purchase Date to datetime\n",
    "df['PurchaseDate'] = pd.to_datetime(df['PurchaseDate'])"
   ]
  },
  {
   "cell_type": "code",
   "execution_count": 9,
   "metadata": {},
   "outputs": [
    {
     "data": {
      "text/html": [
       "<div>\n",
       "<style scoped>\n",
       "    .dataframe tbody tr th:only-of-type {\n",
       "        vertical-align: middle;\n",
       "    }\n",
       "\n",
       "    .dataframe tbody tr th {\n",
       "        vertical-align: top;\n",
       "    }\n",
       "\n",
       "    .dataframe thead th {\n",
       "        text-align: right;\n",
       "    }\n",
       "</style>\n",
       "<table border=\"1\" class=\"dataframe\">\n",
       "  <thead>\n",
       "    <tr style=\"text-align: right;\">\n",
       "      <th></th>\n",
       "      <th>CustomerID</th>\n",
       "      <th>PurchaseDate</th>\n",
       "      <th>recency</th>\n",
       "    </tr>\n",
       "  </thead>\n",
       "  <tbody>\n",
       "    <tr>\n",
       "      <th>0</th>\n",
       "      <td>1011</td>\n",
       "      <td>2023-05-08</td>\n",
       "      <td>33 days</td>\n",
       "    </tr>\n",
       "    <tr>\n",
       "      <th>1</th>\n",
       "      <td>1025</td>\n",
       "      <td>2023-05-20</td>\n",
       "      <td>21 days</td>\n",
       "    </tr>\n",
       "    <tr>\n",
       "      <th>2</th>\n",
       "      <td>1029</td>\n",
       "      <td>2023-06-10</td>\n",
       "      <td>0 days</td>\n",
       "    </tr>\n",
       "    <tr>\n",
       "      <th>3</th>\n",
       "      <td>1046</td>\n",
       "      <td>2023-04-28</td>\n",
       "      <td>43 days</td>\n",
       "    </tr>\n",
       "    <tr>\n",
       "      <th>4</th>\n",
       "      <td>1049</td>\n",
       "      <td>2023-05-28</td>\n",
       "      <td>13 days</td>\n",
       "    </tr>\n",
       "  </tbody>\n",
       "</table>\n",
       "</div>"
      ],
      "text/plain": [
       "   CustomerID PurchaseDate recency\n",
       "0        1011   2023-05-08 33 days\n",
       "1        1025   2023-05-20 21 days\n",
       "2        1029   2023-06-10  0 days\n",
       "3        1046   2023-04-28 43 days\n",
       "4        1049   2023-05-28 13 days"
      ]
     },
     "execution_count": 9,
     "metadata": {},
     "output_type": "execute_result"
    }
   ],
   "source": [
    "#calculating  customer recency\n",
    "recency = df.groupby('CustomerID')['PurchaseDate'].max().reset_index()\n",
    "recency['recency'] = recency['PurchaseDate'].max() - recency['PurchaseDate']\n",
    "recency.head()"
   ]
  },
  {
   "cell_type": "code",
   "execution_count": 10,
   "metadata": {},
   "outputs": [
    {
     "data": {
      "text/html": [
       "<div>\n",
       "<style scoped>\n",
       "    .dataframe tbody tr th:only-of-type {\n",
       "        vertical-align: middle;\n",
       "    }\n",
       "\n",
       "    .dataframe tbody tr th {\n",
       "        vertical-align: top;\n",
       "    }\n",
       "\n",
       "    .dataframe thead th {\n",
       "        text-align: right;\n",
       "    }\n",
       "</style>\n",
       "<table border=\"1\" class=\"dataframe\">\n",
       "  <thead>\n",
       "    <tr style=\"text-align: right;\">\n",
       "      <th></th>\n",
       "      <th>CustomerID</th>\n",
       "      <th>Frequency</th>\n",
       "    </tr>\n",
       "  </thead>\n",
       "  <tbody>\n",
       "    <tr>\n",
       "      <th>0</th>\n",
       "      <td>1011</td>\n",
       "      <td>2</td>\n",
       "    </tr>\n",
       "    <tr>\n",
       "      <th>1</th>\n",
       "      <td>1025</td>\n",
       "      <td>1</td>\n",
       "    </tr>\n",
       "    <tr>\n",
       "      <th>2</th>\n",
       "      <td>1029</td>\n",
       "      <td>1</td>\n",
       "    </tr>\n",
       "    <tr>\n",
       "      <th>3</th>\n",
       "      <td>1046</td>\n",
       "      <td>1</td>\n",
       "    </tr>\n",
       "    <tr>\n",
       "      <th>4</th>\n",
       "      <td>1049</td>\n",
       "      <td>1</td>\n",
       "    </tr>\n",
       "    <tr>\n",
       "      <th>...</th>\n",
       "      <td>...</td>\n",
       "      <td>...</td>\n",
       "    </tr>\n",
       "    <tr>\n",
       "      <th>941</th>\n",
       "      <td>9941</td>\n",
       "      <td>1</td>\n",
       "    </tr>\n",
       "    <tr>\n",
       "      <th>942</th>\n",
       "      <td>9950</td>\n",
       "      <td>1</td>\n",
       "    </tr>\n",
       "    <tr>\n",
       "      <th>943</th>\n",
       "      <td>9954</td>\n",
       "      <td>1</td>\n",
       "    </tr>\n",
       "    <tr>\n",
       "      <th>944</th>\n",
       "      <td>9985</td>\n",
       "      <td>1</td>\n",
       "    </tr>\n",
       "    <tr>\n",
       "      <th>945</th>\n",
       "      <td>9991</td>\n",
       "      <td>1</td>\n",
       "    </tr>\n",
       "  </tbody>\n",
       "</table>\n",
       "<p>946 rows × 2 columns</p>\n",
       "</div>"
      ],
      "text/plain": [
       "     CustomerID  Frequency\n",
       "0          1011          2\n",
       "1          1025          1\n",
       "2          1029          1\n",
       "3          1046          1\n",
       "4          1049          1\n",
       "..          ...        ...\n",
       "941        9941          1\n",
       "942        9950          1\n",
       "943        9954          1\n",
       "944        9985          1\n",
       "945        9991          1\n",
       "\n",
       "[946 rows x 2 columns]"
      ]
     },
     "execution_count": 10,
     "metadata": {},
     "output_type": "execute_result"
    }
   ],
   "source": [
    "#calculating customer frequency\n",
    "frequency = df.drop_duplicates().groupby('CustomerID').size().reset_index(name='Frequency')\n",
    "frequency.columns = ['CustomerID', 'Frequency']\n",
    "frequency"
   ]
  },
  {
   "cell_type": "code",
   "execution_count": 11,
   "metadata": {},
   "outputs": [
    {
     "data": {
      "text/html": [
       "<div>\n",
       "<style scoped>\n",
       "    .dataframe tbody tr th:only-of-type {\n",
       "        vertical-align: middle;\n",
       "    }\n",
       "\n",
       "    .dataframe tbody tr th {\n",
       "        vertical-align: top;\n",
       "    }\n",
       "\n",
       "    .dataframe thead th {\n",
       "        text-align: right;\n",
       "    }\n",
       "</style>\n",
       "<table border=\"1\" class=\"dataframe\">\n",
       "  <thead>\n",
       "    <tr style=\"text-align: right;\">\n",
       "      <th></th>\n",
       "      <th>CustomerID</th>\n",
       "      <th>monetary</th>\n",
       "    </tr>\n",
       "  </thead>\n",
       "  <tbody>\n",
       "    <tr>\n",
       "      <th>0</th>\n",
       "      <td>1011</td>\n",
       "      <td>1129.02</td>\n",
       "    </tr>\n",
       "    <tr>\n",
       "      <th>1</th>\n",
       "      <td>1025</td>\n",
       "      <td>359.29</td>\n",
       "    </tr>\n",
       "    <tr>\n",
       "      <th>2</th>\n",
       "      <td>1029</td>\n",
       "      <td>704.99</td>\n",
       "    </tr>\n",
       "    <tr>\n",
       "      <th>3</th>\n",
       "      <td>1046</td>\n",
       "      <td>859.82</td>\n",
       "    </tr>\n",
       "    <tr>\n",
       "      <th>4</th>\n",
       "      <td>1049</td>\n",
       "      <td>225.72</td>\n",
       "    </tr>\n",
       "  </tbody>\n",
       "</table>\n",
       "</div>"
      ],
      "text/plain": [
       "   CustomerID  monetary\n",
       "0        1011   1129.02\n",
       "1        1025    359.29\n",
       "2        1029    704.99\n",
       "3        1046    859.82\n",
       "4        1049    225.72"
      ]
     },
     "execution_count": 11,
     "metadata": {},
     "output_type": "execute_result"
    }
   ],
   "source": [
    "#calculating monetary value\n",
    "monetary = df.groupby('CustomerID')['TransactionAmount'].sum().reset_index()\n",
    "monetary.columns = ['CustomerID', 'monetary']\n",
    "monetary.head()"
   ]
  },
  {
   "cell_type": "code",
   "execution_count": 12,
   "metadata": {},
   "outputs": [
    {
     "data": {
      "text/html": [
       "<div>\n",
       "<style scoped>\n",
       "    .dataframe tbody tr th:only-of-type {\n",
       "        vertical-align: middle;\n",
       "    }\n",
       "\n",
       "    .dataframe tbody tr th {\n",
       "        vertical-align: top;\n",
       "    }\n",
       "\n",
       "    .dataframe thead th {\n",
       "        text-align: right;\n",
       "    }\n",
       "</style>\n",
       "<table border=\"1\" class=\"dataframe\">\n",
       "  <thead>\n",
       "    <tr style=\"text-align: right;\">\n",
       "      <th></th>\n",
       "      <th>CustomerID</th>\n",
       "      <th>recency</th>\n",
       "      <th>Frequency</th>\n",
       "      <th>monetary</th>\n",
       "    </tr>\n",
       "  </thead>\n",
       "  <tbody>\n",
       "    <tr>\n",
       "      <th>0</th>\n",
       "      <td>1011</td>\n",
       "      <td>33 days</td>\n",
       "      <td>2</td>\n",
       "      <td>1129.02</td>\n",
       "    </tr>\n",
       "    <tr>\n",
       "      <th>1</th>\n",
       "      <td>1025</td>\n",
       "      <td>21 days</td>\n",
       "      <td>1</td>\n",
       "      <td>359.29</td>\n",
       "    </tr>\n",
       "    <tr>\n",
       "      <th>2</th>\n",
       "      <td>1029</td>\n",
       "      <td>0 days</td>\n",
       "      <td>1</td>\n",
       "      <td>704.99</td>\n",
       "    </tr>\n",
       "    <tr>\n",
       "      <th>3</th>\n",
       "      <td>1046</td>\n",
       "      <td>43 days</td>\n",
       "      <td>1</td>\n",
       "      <td>859.82</td>\n",
       "    </tr>\n",
       "    <tr>\n",
       "      <th>4</th>\n",
       "      <td>1049</td>\n",
       "      <td>13 days</td>\n",
       "      <td>1</td>\n",
       "      <td>225.72</td>\n",
       "    </tr>\n",
       "    <tr>\n",
       "      <th>...</th>\n",
       "      <td>...</td>\n",
       "      <td>...</td>\n",
       "      <td>...</td>\n",
       "      <td>...</td>\n",
       "    </tr>\n",
       "    <tr>\n",
       "      <th>941</th>\n",
       "      <td>9941</td>\n",
       "      <td>42 days</td>\n",
       "      <td>1</td>\n",
       "      <td>960.53</td>\n",
       "    </tr>\n",
       "    <tr>\n",
       "      <th>942</th>\n",
       "      <td>9950</td>\n",
       "      <td>38 days</td>\n",
       "      <td>1</td>\n",
       "      <td>679.11</td>\n",
       "    </tr>\n",
       "    <tr>\n",
       "      <th>943</th>\n",
       "      <td>9954</td>\n",
       "      <td>12 days</td>\n",
       "      <td>1</td>\n",
       "      <td>798.01</td>\n",
       "    </tr>\n",
       "    <tr>\n",
       "      <th>944</th>\n",
       "      <td>9985</td>\n",
       "      <td>57 days</td>\n",
       "      <td>1</td>\n",
       "      <td>36.10</td>\n",
       "    </tr>\n",
       "    <tr>\n",
       "      <th>945</th>\n",
       "      <td>9991</td>\n",
       "      <td>30 days</td>\n",
       "      <td>1</td>\n",
       "      <td>626.81</td>\n",
       "    </tr>\n",
       "  </tbody>\n",
       "</table>\n",
       "<p>946 rows × 4 columns</p>\n",
       "</div>"
      ],
      "text/plain": [
       "     CustomerID recency  Frequency  monetary\n",
       "0          1011 33 days          2   1129.02\n",
       "1          1025 21 days          1    359.29\n",
       "2          1029  0 days          1    704.99\n",
       "3          1046 43 days          1    859.82\n",
       "4          1049 13 days          1    225.72\n",
       "..          ...     ...        ...       ...\n",
       "941        9941 42 days          1    960.53\n",
       "942        9950 38 days          1    679.11\n",
       "943        9954 12 days          1    798.01\n",
       "944        9985 57 days          1     36.10\n",
       "945        9991 30 days          1    626.81\n",
       "\n",
       "[946 rows x 4 columns]"
      ]
     },
     "execution_count": 12,
     "metadata": {},
     "output_type": "execute_result"
    }
   ],
   "source": [
    "#merging recency, frequency and monetary into one column\n",
    "rfm = recency.merge(frequency, on='CustomerID', how='left')\n",
    "rfm_df = rfm.merge(monetary, on='CustomerID', how='left').drop(columns='PurchaseDate')\n",
    "rfm_df"
   ]
  },
  {
   "cell_type": "code",
   "execution_count": 13,
   "metadata": {},
   "outputs": [
    {
     "data": {
      "text/html": [
       "<div>\n",
       "<style scoped>\n",
       "    .dataframe tbody tr th:only-of-type {\n",
       "        vertical-align: middle;\n",
       "    }\n",
       "\n",
       "    .dataframe tbody tr th {\n",
       "        vertical-align: top;\n",
       "    }\n",
       "\n",
       "    .dataframe thead th {\n",
       "        text-align: right;\n",
       "    }\n",
       "</style>\n",
       "<table border=\"1\" class=\"dataframe\">\n",
       "  <thead>\n",
       "    <tr style=\"text-align: right;\">\n",
       "      <th></th>\n",
       "      <th>CustomerID</th>\n",
       "      <th>recency</th>\n",
       "      <th>Frequency</th>\n",
       "      <th>monetary</th>\n",
       "      <th>R_rank_norm</th>\n",
       "      <th>F_rank_norm</th>\n",
       "      <th>M_rank_norm</th>\n",
       "    </tr>\n",
       "  </thead>\n",
       "  <tbody>\n",
       "    <tr>\n",
       "      <th>0</th>\n",
       "      <td>1011</td>\n",
       "      <td>33 days</td>\n",
       "      <td>2</td>\n",
       "      <td>1129.02</td>\n",
       "      <td>47.331910</td>\n",
       "      <td>97.301587</td>\n",
       "      <td>97.198732</td>\n",
       "    </tr>\n",
       "    <tr>\n",
       "      <th>1</th>\n",
       "      <td>1025</td>\n",
       "      <td>21 days</td>\n",
       "      <td>1</td>\n",
       "      <td>359.29</td>\n",
       "      <td>64.727855</td>\n",
       "      <td>47.407407</td>\n",
       "      <td>47.357294</td>\n",
       "    </tr>\n",
       "    <tr>\n",
       "      <th>2</th>\n",
       "      <td>1029</td>\n",
       "      <td>0 days</td>\n",
       "      <td>1</td>\n",
       "      <td>704.99</td>\n",
       "      <td>100.000000</td>\n",
       "      <td>47.407407</td>\n",
       "      <td>47.357294</td>\n",
       "    </tr>\n",
       "    <tr>\n",
       "      <th>3</th>\n",
       "      <td>1046</td>\n",
       "      <td>43 days</td>\n",
       "      <td>1</td>\n",
       "      <td>859.82</td>\n",
       "      <td>27.908218</td>\n",
       "      <td>47.407407</td>\n",
       "      <td>47.357294</td>\n",
       "    </tr>\n",
       "    <tr>\n",
       "      <th>4</th>\n",
       "      <td>1049</td>\n",
       "      <td>13 days</td>\n",
       "      <td>1</td>\n",
       "      <td>225.72</td>\n",
       "      <td>78.762006</td>\n",
       "      <td>47.407407</td>\n",
       "      <td>47.357294</td>\n",
       "    </tr>\n",
       "  </tbody>\n",
       "</table>\n",
       "</div>"
      ],
      "text/plain": [
       "   CustomerID recency  Frequency  monetary  R_rank_norm  F_rank_norm  \\\n",
       "0        1011 33 days          2   1129.02    47.331910    97.301587   \n",
       "1        1025 21 days          1    359.29    64.727855    47.407407   \n",
       "2        1029  0 days          1    704.99   100.000000    47.407407   \n",
       "3        1046 43 days          1    859.82    27.908218    47.407407   \n",
       "4        1049 13 days          1    225.72    78.762006    47.407407   \n",
       "\n",
       "   M_rank_norm  \n",
       "0    97.198732  \n",
       "1    47.357294  \n",
       "2    47.357294  \n",
       "3    47.357294  \n",
       "4    47.357294  "
      ]
     },
     "execution_count": 13,
     "metadata": {},
     "output_type": "execute_result"
    }
   ],
   "source": [
    "#sorting the dataframe by calculating ranks and normalizing them\n",
    "rfm_df['R_rank'] = rfm_df['recency'].rank(ascending=False)\n",
    "rfm_df['F_rank'] = rfm_df['Frequency'].rank(ascending=True)\n",
    "rfm_df['M_rank'] = rfm_df['monetary'].rank(ascending=True)\n",
    " \n",
    "# normalizing the rank of the customers\n",
    "rfm_df['R_rank_norm'] = (rfm_df['R_rank']/rfm_df['R_rank'].max())*100\n",
    "rfm_df['F_rank_norm'] = (rfm_df['F_rank']/rfm_df['F_rank'].max())*100\n",
    "rfm_df['M_rank_norm'] = (rfm_df['F_rank']/rfm_df['M_rank'].max())*100\n",
    " \n",
    "rfm_df.drop(columns=['R_rank', 'F_rank', 'M_rank'], inplace=True)\n",
    " \n",
    "rfm_df.head()"
   ]
  },
  {
   "cell_type": "code",
   "execution_count": 14,
   "metadata": {},
   "outputs": [
    {
     "data": {
      "text/html": [
       "<div>\n",
       "<style scoped>\n",
       "    .dataframe tbody tr th:only-of-type {\n",
       "        vertical-align: middle;\n",
       "    }\n",
       "\n",
       "    .dataframe tbody tr th {\n",
       "        vertical-align: top;\n",
       "    }\n",
       "\n",
       "    .dataframe thead th {\n",
       "        text-align: right;\n",
       "    }\n",
       "</style>\n",
       "<table border=\"1\" class=\"dataframe\">\n",
       "  <thead>\n",
       "    <tr style=\"text-align: right;\">\n",
       "      <th></th>\n",
       "      <th>CustomerID</th>\n",
       "      <th>recency</th>\n",
       "      <th>Frequency</th>\n",
       "      <th>monetary</th>\n",
       "      <th>R_rank_norm</th>\n",
       "      <th>F_rank_norm</th>\n",
       "      <th>M_rank_norm</th>\n",
       "      <th>RFM_Score</th>\n",
       "    </tr>\n",
       "  </thead>\n",
       "  <tbody>\n",
       "    <tr>\n",
       "      <th>0</th>\n",
       "      <td>1011</td>\n",
       "      <td>33 days</td>\n",
       "      <td>2</td>\n",
       "      <td>1129.02</td>\n",
       "      <td>47.33</td>\n",
       "      <td>97.30</td>\n",
       "      <td>97.20</td>\n",
       "      <td>8.97</td>\n",
       "    </tr>\n",
       "    <tr>\n",
       "      <th>1</th>\n",
       "      <td>1025</td>\n",
       "      <td>21 days</td>\n",
       "      <td>1</td>\n",
       "      <td>359.29</td>\n",
       "      <td>64.73</td>\n",
       "      <td>47.41</td>\n",
       "      <td>47.36</td>\n",
       "      <td>5.00</td>\n",
       "    </tr>\n",
       "    <tr>\n",
       "      <th>2</th>\n",
       "      <td>1029</td>\n",
       "      <td>0 days</td>\n",
       "      <td>1</td>\n",
       "      <td>704.99</td>\n",
       "      <td>100.00</td>\n",
       "      <td>47.41</td>\n",
       "      <td>47.36</td>\n",
       "      <td>5.53</td>\n",
       "    </tr>\n",
       "    <tr>\n",
       "      <th>3</th>\n",
       "      <td>1046</td>\n",
       "      <td>43 days</td>\n",
       "      <td>1</td>\n",
       "      <td>859.82</td>\n",
       "      <td>27.91</td>\n",
       "      <td>47.41</td>\n",
       "      <td>47.36</td>\n",
       "      <td>4.45</td>\n",
       "    </tr>\n",
       "    <tr>\n",
       "      <th>4</th>\n",
       "      <td>1049</td>\n",
       "      <td>13 days</td>\n",
       "      <td>1</td>\n",
       "      <td>225.72</td>\n",
       "      <td>78.76</td>\n",
       "      <td>47.41</td>\n",
       "      <td>47.36</td>\n",
       "      <td>5.21</td>\n",
       "    </tr>\n",
       "    <tr>\n",
       "      <th>5</th>\n",
       "      <td>1082</td>\n",
       "      <td>24 days</td>\n",
       "      <td>1</td>\n",
       "      <td>600.69</td>\n",
       "      <td>60.41</td>\n",
       "      <td>47.41</td>\n",
       "      <td>47.36</td>\n",
       "      <td>4.93</td>\n",
       "    </tr>\n",
       "    <tr>\n",
       "      <th>6</th>\n",
       "      <td>1086</td>\n",
       "      <td>9 days</td>\n",
       "      <td>1</td>\n",
       "      <td>100.18</td>\n",
       "      <td>86.29</td>\n",
       "      <td>47.41</td>\n",
       "      <td>47.36</td>\n",
       "      <td>5.32</td>\n",
       "    </tr>\n",
       "    <tr>\n",
       "      <th>7</th>\n",
       "      <td>1104</td>\n",
       "      <td>34 days</td>\n",
       "      <td>1</td>\n",
       "      <td>146.12</td>\n",
       "      <td>45.78</td>\n",
       "      <td>47.41</td>\n",
       "      <td>47.36</td>\n",
       "      <td>4.71</td>\n",
       "    </tr>\n",
       "    <tr>\n",
       "      <th>8</th>\n",
       "      <td>1108</td>\n",
       "      <td>28 days</td>\n",
       "      <td>1</td>\n",
       "      <td>883.21</td>\n",
       "      <td>55.12</td>\n",
       "      <td>47.41</td>\n",
       "      <td>47.36</td>\n",
       "      <td>4.85</td>\n",
       "    </tr>\n",
       "    <tr>\n",
       "      <th>9</th>\n",
       "      <td>1120</td>\n",
       "      <td>28 days</td>\n",
       "      <td>1</td>\n",
       "      <td>999.44</td>\n",
       "      <td>55.12</td>\n",
       "      <td>47.41</td>\n",
       "      <td>47.36</td>\n",
       "      <td>4.85</td>\n",
       "    </tr>\n",
       "  </tbody>\n",
       "</table>\n",
       "</div>"
      ],
      "text/plain": [
       "   CustomerID recency  Frequency  monetary  R_rank_norm  F_rank_norm  \\\n",
       "0        1011 33 days          2   1129.02        47.33        97.30   \n",
       "1        1025 21 days          1    359.29        64.73        47.41   \n",
       "2        1029  0 days          1    704.99       100.00        47.41   \n",
       "3        1046 43 days          1    859.82        27.91        47.41   \n",
       "4        1049 13 days          1    225.72        78.76        47.41   \n",
       "5        1082 24 days          1    600.69        60.41        47.41   \n",
       "6        1086  9 days          1    100.18        86.29        47.41   \n",
       "7        1104 34 days          1    146.12        45.78        47.41   \n",
       "8        1108 28 days          1    883.21        55.12        47.41   \n",
       "9        1120 28 days          1    999.44        55.12        47.41   \n",
       "\n",
       "   M_rank_norm  RFM_Score  \n",
       "0        97.20       8.97  \n",
       "1        47.36       5.00  \n",
       "2        47.36       5.53  \n",
       "3        47.36       4.45  \n",
       "4        47.36       5.21  \n",
       "5        47.36       4.93  \n",
       "6        47.36       5.32  \n",
       "7        47.36       4.71  \n",
       "8        47.36       4.85  \n",
       "9        47.36       4.85  "
      ]
     },
     "execution_count": 14,
     "metadata": {},
     "output_type": "execute_result"
    }
   ],
   "source": [
    "#calculating the RFM score\n",
    "rfm_df['RFM_Score'] = 0.15*rfm_df['R_rank_norm']+0.28 * rfm_df['F_rank_norm']+0.57*rfm_df['M_rank_norm']\n",
    "\n",
    "rfm_df['RFM_Score'] *= 0.1\n",
    "#rounding the score\n",
    "rfm_df = rfm_df.round(2)\n",
    "\n",
    "rfm_df.head(10)\n"
   ]
  },
  {
   "cell_type": "code",
   "execution_count": 15,
   "metadata": {},
   "outputs": [
    {
     "data": {
      "text/html": [
       "<div>\n",
       "<style scoped>\n",
       "    .dataframe tbody tr th:only-of-type {\n",
       "        vertical-align: middle;\n",
       "    }\n",
       "\n",
       "    .dataframe tbody tr th {\n",
       "        vertical-align: top;\n",
       "    }\n",
       "\n",
       "    .dataframe thead th {\n",
       "        text-align: right;\n",
       "    }\n",
       "</style>\n",
       "<table border=\"1\" class=\"dataframe\">\n",
       "  <thead>\n",
       "    <tr style=\"text-align: right;\">\n",
       "      <th></th>\n",
       "      <th>CustomerID</th>\n",
       "      <th>recency</th>\n",
       "      <th>Frequency</th>\n",
       "      <th>monetary</th>\n",
       "      <th>R_rank_norm</th>\n",
       "      <th>F_rank_norm</th>\n",
       "      <th>M_rank_norm</th>\n",
       "      <th>RFM_Score</th>\n",
       "      <th>RFM_Segment</th>\n",
       "    </tr>\n",
       "  </thead>\n",
       "  <tbody>\n",
       "    <tr>\n",
       "      <th>0</th>\n",
       "      <td>1011</td>\n",
       "      <td>33 days</td>\n",
       "      <td>2</td>\n",
       "      <td>1129.02</td>\n",
       "      <td>47.33</td>\n",
       "      <td>97.30</td>\n",
       "      <td>97.20</td>\n",
       "      <td>8.97</td>\n",
       "      <td>High Value</td>\n",
       "    </tr>\n",
       "    <tr>\n",
       "      <th>1</th>\n",
       "      <td>1025</td>\n",
       "      <td>21 days</td>\n",
       "      <td>1</td>\n",
       "      <td>359.29</td>\n",
       "      <td>64.73</td>\n",
       "      <td>47.41</td>\n",
       "      <td>47.36</td>\n",
       "      <td>5.00</td>\n",
       "      <td>Mid Value</td>\n",
       "    </tr>\n",
       "    <tr>\n",
       "      <th>2</th>\n",
       "      <td>1029</td>\n",
       "      <td>0 days</td>\n",
       "      <td>1</td>\n",
       "      <td>704.99</td>\n",
       "      <td>100.00</td>\n",
       "      <td>47.41</td>\n",
       "      <td>47.36</td>\n",
       "      <td>5.53</td>\n",
       "      <td>High Value</td>\n",
       "    </tr>\n",
       "    <tr>\n",
       "      <th>3</th>\n",
       "      <td>1046</td>\n",
       "      <td>43 days</td>\n",
       "      <td>1</td>\n",
       "      <td>859.82</td>\n",
       "      <td>27.91</td>\n",
       "      <td>47.41</td>\n",
       "      <td>47.36</td>\n",
       "      <td>4.45</td>\n",
       "      <td>Low Value</td>\n",
       "    </tr>\n",
       "    <tr>\n",
       "      <th>4</th>\n",
       "      <td>1049</td>\n",
       "      <td>13 days</td>\n",
       "      <td>1</td>\n",
       "      <td>225.72</td>\n",
       "      <td>78.76</td>\n",
       "      <td>47.41</td>\n",
       "      <td>47.36</td>\n",
       "      <td>5.21</td>\n",
       "      <td>High Value</td>\n",
       "    </tr>\n",
       "    <tr>\n",
       "      <th>...</th>\n",
       "      <td>...</td>\n",
       "      <td>...</td>\n",
       "      <td>...</td>\n",
       "      <td>...</td>\n",
       "      <td>...</td>\n",
       "      <td>...</td>\n",
       "      <td>...</td>\n",
       "      <td>...</td>\n",
       "      <td>...</td>\n",
       "    </tr>\n",
       "    <tr>\n",
       "      <th>941</th>\n",
       "      <td>9941</td>\n",
       "      <td>42 days</td>\n",
       "      <td>1</td>\n",
       "      <td>960.53</td>\n",
       "      <td>29.72</td>\n",
       "      <td>47.41</td>\n",
       "      <td>47.36</td>\n",
       "      <td>4.47</td>\n",
       "      <td>Low Value</td>\n",
       "    </tr>\n",
       "    <tr>\n",
       "      <th>942</th>\n",
       "      <td>9950</td>\n",
       "      <td>38 days</td>\n",
       "      <td>1</td>\n",
       "      <td>679.11</td>\n",
       "      <td>37.78</td>\n",
       "      <td>47.41</td>\n",
       "      <td>47.36</td>\n",
       "      <td>4.59</td>\n",
       "      <td>Mid Value</td>\n",
       "    </tr>\n",
       "    <tr>\n",
       "      <th>943</th>\n",
       "      <td>9954</td>\n",
       "      <td>12 days</td>\n",
       "      <td>1</td>\n",
       "      <td>798.01</td>\n",
       "      <td>81.06</td>\n",
       "      <td>47.41</td>\n",
       "      <td>47.36</td>\n",
       "      <td>5.24</td>\n",
       "      <td>High Value</td>\n",
       "    </tr>\n",
       "    <tr>\n",
       "      <th>944</th>\n",
       "      <td>9985</td>\n",
       "      <td>57 days</td>\n",
       "      <td>1</td>\n",
       "      <td>36.10</td>\n",
       "      <td>5.50</td>\n",
       "      <td>47.41</td>\n",
       "      <td>47.36</td>\n",
       "      <td>4.11</td>\n",
       "      <td>Low Value</td>\n",
       "    </tr>\n",
       "    <tr>\n",
       "      <th>945</th>\n",
       "      <td>9991</td>\n",
       "      <td>30 days</td>\n",
       "      <td>1</td>\n",
       "      <td>626.81</td>\n",
       "      <td>52.67</td>\n",
       "      <td>47.41</td>\n",
       "      <td>47.36</td>\n",
       "      <td>4.82</td>\n",
       "      <td>Mid Value</td>\n",
       "    </tr>\n",
       "  </tbody>\n",
       "</table>\n",
       "<p>946 rows × 9 columns</p>\n",
       "</div>"
      ],
      "text/plain": [
       "     CustomerID recency  Frequency  monetary  R_rank_norm  F_rank_norm  \\\n",
       "0          1011 33 days          2   1129.02        47.33        97.30   \n",
       "1          1025 21 days          1    359.29        64.73        47.41   \n",
       "2          1029  0 days          1    704.99       100.00        47.41   \n",
       "3          1046 43 days          1    859.82        27.91        47.41   \n",
       "4          1049 13 days          1    225.72        78.76        47.41   \n",
       "..          ...     ...        ...       ...          ...          ...   \n",
       "941        9941 42 days          1    960.53        29.72        47.41   \n",
       "942        9950 38 days          1    679.11        37.78        47.41   \n",
       "943        9954 12 days          1    798.01        81.06        47.41   \n",
       "944        9985 57 days          1     36.10         5.50        47.41   \n",
       "945        9991 30 days          1    626.81        52.67        47.41   \n",
       "\n",
       "     M_rank_norm  RFM_Score RFM_Segment  \n",
       "0          97.20       8.97  High Value  \n",
       "1          47.36       5.00   Mid Value  \n",
       "2          47.36       5.53  High Value  \n",
       "3          47.36       4.45   Low Value  \n",
       "4          47.36       5.21  High Value  \n",
       "..           ...        ...         ...  \n",
       "941        47.36       4.47   Low Value  \n",
       "942        47.36       4.59   Mid Value  \n",
       "943        47.36       5.24  High Value  \n",
       "944        47.36       4.11   Low Value  \n",
       "945        47.36       4.82   Mid Value  \n",
       "\n",
       "[946 rows x 9 columns]"
      ]
     },
     "execution_count": 15,
     "metadata": {},
     "output_type": "execute_result"
    }
   ],
   "source": [
    "#value segmentation\n",
    "\n",
    "#create rfm segments based on the RFM_Score\n",
    "segment_labels = ['Low Value', 'Mid Value', 'High Value']\n",
    "rfm_df['RFM_Segment'] = pd.qcut(rfm_df['RFM_Score'], q=3, labels=segment_labels)\n",
    "rfm_df"
   ]
  },
  {
   "cell_type": "code",
   "execution_count": 16,
   "metadata": {},
   "outputs": [
    {
     "data": {
      "text/html": [
       "<div>\n",
       "<style scoped>\n",
       "    .dataframe tbody tr th:only-of-type {\n",
       "        vertical-align: middle;\n",
       "    }\n",
       "\n",
       "    .dataframe tbody tr th {\n",
       "        vertical-align: top;\n",
       "    }\n",
       "\n",
       "    .dataframe thead th {\n",
       "        text-align: right;\n",
       "    }\n",
       "</style>\n",
       "<table border=\"1\" class=\"dataframe\">\n",
       "  <thead>\n",
       "    <tr style=\"text-align: right;\">\n",
       "      <th></th>\n",
       "      <th>CustomerID</th>\n",
       "      <th>recency</th>\n",
       "      <th>Frequency</th>\n",
       "      <th>monetary</th>\n",
       "      <th>R_rank_norm</th>\n",
       "      <th>F_rank_norm</th>\n",
       "      <th>M_rank_norm</th>\n",
       "      <th>RFM_Score</th>\n",
       "      <th>RFM_Segment</th>\n",
       "      <th>customer_segment</th>\n",
       "    </tr>\n",
       "  </thead>\n",
       "  <tbody>\n",
       "    <tr>\n",
       "      <th>0</th>\n",
       "      <td>1011</td>\n",
       "      <td>33 days</td>\n",
       "      <td>2</td>\n",
       "      <td>1129.02</td>\n",
       "      <td>47.33</td>\n",
       "      <td>97.30</td>\n",
       "      <td>97.20</td>\n",
       "      <td>8.97</td>\n",
       "      <td>High Value</td>\n",
       "      <td>Potential Loyalists</td>\n",
       "    </tr>\n",
       "    <tr>\n",
       "      <th>1</th>\n",
       "      <td>1025</td>\n",
       "      <td>21 days</td>\n",
       "      <td>1</td>\n",
       "      <td>359.29</td>\n",
       "      <td>64.73</td>\n",
       "      <td>47.41</td>\n",
       "      <td>47.36</td>\n",
       "      <td>5.00</td>\n",
       "      <td>Mid Value</td>\n",
       "      <td>At Risk Customers</td>\n",
       "    </tr>\n",
       "    <tr>\n",
       "      <th>2</th>\n",
       "      <td>1029</td>\n",
       "      <td>0 days</td>\n",
       "      <td>1</td>\n",
       "      <td>704.99</td>\n",
       "      <td>100.00</td>\n",
       "      <td>47.41</td>\n",
       "      <td>47.36</td>\n",
       "      <td>5.53</td>\n",
       "      <td>High Value</td>\n",
       "      <td>At Risk Customers</td>\n",
       "    </tr>\n",
       "    <tr>\n",
       "      <th>3</th>\n",
       "      <td>1046</td>\n",
       "      <td>43 days</td>\n",
       "      <td>1</td>\n",
       "      <td>859.82</td>\n",
       "      <td>27.91</td>\n",
       "      <td>47.41</td>\n",
       "      <td>47.36</td>\n",
       "      <td>4.45</td>\n",
       "      <td>Low Value</td>\n",
       "      <td>Can't Lose</td>\n",
       "    </tr>\n",
       "    <tr>\n",
       "      <th>4</th>\n",
       "      <td>1049</td>\n",
       "      <td>13 days</td>\n",
       "      <td>1</td>\n",
       "      <td>225.72</td>\n",
       "      <td>78.76</td>\n",
       "      <td>47.41</td>\n",
       "      <td>47.36</td>\n",
       "      <td>5.21</td>\n",
       "      <td>High Value</td>\n",
       "      <td>At Risk Customers</td>\n",
       "    </tr>\n",
       "    <tr>\n",
       "      <th>5</th>\n",
       "      <td>1082</td>\n",
       "      <td>24 days</td>\n",
       "      <td>1</td>\n",
       "      <td>600.69</td>\n",
       "      <td>60.41</td>\n",
       "      <td>47.41</td>\n",
       "      <td>47.36</td>\n",
       "      <td>4.93</td>\n",
       "      <td>Mid Value</td>\n",
       "      <td>Can't Lose</td>\n",
       "    </tr>\n",
       "    <tr>\n",
       "      <th>6</th>\n",
       "      <td>1086</td>\n",
       "      <td>9 days</td>\n",
       "      <td>1</td>\n",
       "      <td>100.18</td>\n",
       "      <td>86.29</td>\n",
       "      <td>47.41</td>\n",
       "      <td>47.36</td>\n",
       "      <td>5.32</td>\n",
       "      <td>High Value</td>\n",
       "      <td>At Risk Customers</td>\n",
       "    </tr>\n",
       "    <tr>\n",
       "      <th>7</th>\n",
       "      <td>1104</td>\n",
       "      <td>34 days</td>\n",
       "      <td>1</td>\n",
       "      <td>146.12</td>\n",
       "      <td>45.78</td>\n",
       "      <td>47.41</td>\n",
       "      <td>47.36</td>\n",
       "      <td>4.71</td>\n",
       "      <td>Mid Value</td>\n",
       "      <td>Can't Lose</td>\n",
       "    </tr>\n",
       "    <tr>\n",
       "      <th>8</th>\n",
       "      <td>1108</td>\n",
       "      <td>28 days</td>\n",
       "      <td>1</td>\n",
       "      <td>883.21</td>\n",
       "      <td>55.12</td>\n",
       "      <td>47.41</td>\n",
       "      <td>47.36</td>\n",
       "      <td>4.85</td>\n",
       "      <td>Mid Value</td>\n",
       "      <td>Can't Lose</td>\n",
       "    </tr>\n",
       "    <tr>\n",
       "      <th>9</th>\n",
       "      <td>1120</td>\n",
       "      <td>28 days</td>\n",
       "      <td>1</td>\n",
       "      <td>999.44</td>\n",
       "      <td>55.12</td>\n",
       "      <td>47.41</td>\n",
       "      <td>47.36</td>\n",
       "      <td>4.85</td>\n",
       "      <td>Mid Value</td>\n",
       "      <td>Can't Lose</td>\n",
       "    </tr>\n",
       "  </tbody>\n",
       "</table>\n",
       "</div>"
      ],
      "text/plain": [
       "   CustomerID recency  Frequency  monetary  R_rank_norm  F_rank_norm  \\\n",
       "0        1011 33 days          2   1129.02        47.33        97.30   \n",
       "1        1025 21 days          1    359.29        64.73        47.41   \n",
       "2        1029  0 days          1    704.99       100.00        47.41   \n",
       "3        1046 43 days          1    859.82        27.91        47.41   \n",
       "4        1049 13 days          1    225.72        78.76        47.41   \n",
       "5        1082 24 days          1    600.69        60.41        47.41   \n",
       "6        1086  9 days          1    100.18        86.29        47.41   \n",
       "7        1104 34 days          1    146.12        45.78        47.41   \n",
       "8        1108 28 days          1    883.21        55.12        47.41   \n",
       "9        1120 28 days          1    999.44        55.12        47.41   \n",
       "\n",
       "   M_rank_norm  RFM_Score RFM_Segment     customer_segment  \n",
       "0        97.20       8.97  High Value  Potential Loyalists  \n",
       "1        47.36       5.00   Mid Value    At Risk Customers  \n",
       "2        47.36       5.53  High Value    At Risk Customers  \n",
       "3        47.36       4.45   Low Value           Can't Lose  \n",
       "4        47.36       5.21  High Value    At Risk Customers  \n",
       "5        47.36       4.93   Mid Value           Can't Lose  \n",
       "6        47.36       5.32  High Value    At Risk Customers  \n",
       "7        47.36       4.71   Mid Value           Can't Lose  \n",
       "8        47.36       4.85   Mid Value           Can't Lose  \n",
       "9        47.36       4.85   Mid Value           Can't Lose  "
      ]
     },
     "execution_count": 16,
     "metadata": {},
     "output_type": "execute_result"
    }
   ],
   "source": [
    "#customer segmentation\n",
    "\n",
    "#defining segment labels\n",
    "import numpy as np\n",
    "conditions = [\n",
    "    (rfm_df['RFM_Score'] >= 9),\n",
    "    (rfm_df['RFM_Score'] >= 7) & (rfm_df['RFM_Score'] < 9),\n",
    "    (rfm_df['RFM_Score'] >= 5) & (rfm_df['RFM_Score'] < 7),\n",
    "    (rfm_df['RFM_Score'] >= 4) & (rfm_df['RFM_Score'] < 5),\n",
    "     (rfm_df['RFM_Score'] < 4)\n",
    "]\n",
    "\n",
    "condition_labels = ['Champions', 'Potential Loyalists', 'At Risk Customers',\n",
    "                    \"Can't Lose\", 'Lost']\n",
    "\n",
    "#creating a column 'Customer_segment'\n",
    "rfm_df['customer_segment'] = np.select(conditions, condition_labels)\n",
    "\n",
    "#checking the head of the dataframe\n",
    "rfm_df.head(10)"
   ]
  },
  {
   "cell_type": "code",
   "execution_count": 17,
   "metadata": {},
   "outputs": [
    {
     "data": {
      "text/plain": [
       "customer_segment\n",
       "Can't Lose             574\n",
       "At Risk Customers      321\n",
       "Champions               36\n",
       "Potential Loyalists     15\n",
       "Name: count, dtype: int64"
      ]
     },
     "execution_count": 17,
     "metadata": {},
     "output_type": "execute_result"
    }
   ],
   "source": [
    "rfm_df['customer_segment'].value_counts()"
   ]
  },
  {
   "cell_type": "code",
   "execution_count": 18,
   "metadata": {},
   "outputs": [
    {
     "name": "stderr",
     "output_type": "stream",
     "text": [
      "Done! Use 'show' commands to display/save.   |██████████| [100%]   00:01 -> (00:00 left)\n"
     ]
    },
    {
     "data": {
      "text/html": [
       " <iframe width=\"100%\" height=\"750\" srcdoc=\"&lt;!doctype html&gt;\n",
       "&lt;html lang=&quot;en&quot;&gt;\n",
       "&lt;head&gt;\n",
       "    &lt;meta charset=&quot;UTF-8&quot;&gt;\n",
       "    &lt;link rel=&quot;icon&quot; href=&quot;data:image/x-icon;base64,AAABAAEAEBAAAAEACABoBQAAFgAAACgAAAAQAAAAIAAAAAEACAAAAAAAAAEAAAAAAAAAAAAAAAEAAAAAAAAAAAAAPD4/AC0vMADd3+AAWFpbAFlaWwC8vb0AOjw9AERHRwCSlJUAk5SVAJ6fnwD39/cAW1xeAGVnaAC0t7YAgYOEAI2OjgDk5uYA9fX1AFhaXABzdHUA5ubmAG5wcAA6PD4Ax8jIAEVHSAA2ODkAqaqqAPLz8wB7fX0AQ0VGADQ2NwB6e3sAs7W1AJqbnAAjJSYAi4yNAP7+/gDu7+8A7+/vAHZ5eQDf4OAAtbe4ANHR0QBPUFEAwsLCAKioqQCjpKQA/Pz8AO3t7QBrbG0AvcDAAExOTwDJy8oAlpeYAC4wMQDe4OEAkZOTAPr6+gBoamsAWVtcANzc3ABkZmYAKy4vAK6vrwAsLi8A/fz9AJCRkQDe3t8AZmhpANna2gDa2toAYmRkAJGTlADr6+wA9vb2AH6AgABlZmcAYGJiAMjJyQBGSEkAr6+wAIGCgwC3uLgAqKmpANTU1ABSU1QAqqusAEJERQC1trYAlpiYAC8xMQD///8AfX5/AH5+fwBtb3AA8PDwAODh4QB6enoAuLi5ALO0tAA8Pj4A/f39AHt8fQDu7u4Ad3h4AExPUADFxcYA0NDQAMDBwQBOT1AAPkBBAPn7+wDq7OwAeXp7ANvd3QDc3d0AdHZ2AEtNTgBMTU4AAAAAAAAAAAAAAAAAAAAAAAAAAAAAAAAAAAAAAAAAAAAAAAAAAAAAAAAAAAAAAAAAAAAAAAAAAAAAAAAAAAAAAAAAAAAAAAAAAAAAAAAAAAAAAAAAAAAAAAAAAAAAAAAAAAAAAAAAAAAAAAAAAAAAAAAAAAAAAAAAAAAAAAAAAAAAAAAAAAAAAAAAAAAAAAAAAAAAAAAAAAAAAAAAAAAAAAAAAAAAAAAAAAAAAAAAAAAAAAAAAAAAAAAAAAAAAAAAAAAAAAAAAAAAAAAAAAAAAAAAAAAAAAAAAAAAAAAAAAAAAAAAAAAAAAAAAAAAAAAAAAAAAAAAAAAAAAAAAAAAAAAAAAAAAAAAAAAAAAAAAAAAAAAAAAAAAAAAAAAAAAAAAAAAAAAAAAAAAAAAAAAAAAAAAAAAAAAAAAAAAAAAAAAAAAAAAAAAAAAAAAAAAAAAAAAAAAAAAAAAAAAAAAAAAAAAAAAAAAAAAAAAAAAAAAAAAAAAAAAAAAAAAAAAAAAAAAAAAAAAAAAAAAAAAAAAAAAAAAAAAAAAAAAAAAAAAAAAAAAAAAAAAAAAAAAAAAAAAAAAAAAAAAAAAAAAAAAAAAAAAAAAAAAAAAAAAAAAAAAAAAAAAAAAAAAAAAAAAAAAAAAAAAAAAAAAAAAAAAAAAAAAAAAAAAAAAAAAAAAAAAAAAAAAAAAAAAAAAAAAAAAAAAAAAAAAAAAAAAAAS1gjNy91XV0MDUItMl1dXSFwGxsbHy5dZEBuPGpdXV0sUx5oNRsbFngiXTkkMl1dXV1dXTtZGzBrXV1dT0RdXV1dXV0dcBsFC11yXTRcQ11dXV1dThsBBzFdFANdGG1dXV1dJRsbeBBdNgBbXQlXXV1dWhsbUzh0XTxjBF1xAkhdKAEbDlVgXSp3XV4PXSlfXVIbHydoK11GVF1QCF0SIF0wGz1dGRdNURxhXWZKU0ldVhsHPl1Fc2UbP10TClJdXV0zG3dHXV1MGhtsXV1dXV1daW8bGzpiJjMbEV1dXV1dXV0nFRsbGwEbG0FdXV1dXV1dXV0GdgcbWTpnXV1dXQAAAAAAAAAAAAAAAAAAAAAAAAAAAAAAAAAAAAAAAAAAAAAAAAAAAAAAAAAAAAAAAAAAAAAAAAAAAAAAAAAAAAA=&quot; type=&quot;image/x-icon&quot; /&gt;\n",
       "        &lt;script&gt; /*! jQuery v3.4.1 | (c) JS Foundation and other contributors | jquery.org/license */\n",
       "!function(e,t){&quot;use strict&quot;;&quot;object&quot;==typeof module&amp;&amp;&quot;object&quot;==typeof module.exports?module.exports=e.document?t(e,!0):function(e){if(!e.document)throw new Error(&quot;jQuery requires a window with a document&quot;);return t(e)}:t(e)}(&quot;undefined&quot;!=typeof window?window:this,function(C,e){&quot;use strict&quot;;var t=[],E=C.document,r=Object.getPrototypeOf,s=t.slice,g=t.concat,u=t.push,i=t.indexOf,n={},o=n.toString,v=n.hasOwnProperty,a=v.toString,l=a.call(Object),y={},m=function(e){return&quot;function&quot;==typeof e&amp;&amp;&quot;number&quot;!=typeof e.nodeType},x=function(e){return null!=e&amp;&amp;e===e.window},c={type:!0,src:!0,nonce:!0,noModule:!0};function b(e,t,n){var r,i,o=(n=n||E).createElement(&quot;script&quot;);if(o.text=e,t)for(r in c)(i=t[r]||t.getAttribute&amp;&amp;t.getAttribute(r))&amp;&amp;o.setAttribute(r,i);n.head.appendChild(o).parentNode.removeChild(o)}function w(e){return null==e?e+&quot;&quot;:&quot;object&quot;==typeof e||&quot;function&quot;==typeof e?n[o.call(e)]||&quot;object&quot;:typeof e}var f=&quot;3.4.1&quot;,k=function(e,t){return new k.fn.init(e,t)},p=/^[\\s\\uFEFF\\xA0]+|[\\s\\uFEFF\\xA0]+$/g;function d(e){var t=!!e&amp;&amp;&quot;length&quot;in e&amp;&amp;e.length,n=w(e);return!m(e)&amp;&amp;!x(e)&amp;&amp;(&quot;array&quot;===n||0===t||&quot;number&quot;==typeof t&amp;&amp;0&lt;t&amp;&amp;t-1 in e)}k.fn=k.prototype={jquery:f,constructor:k,length:0,toArray:function(){return s.call(this)},get:function(e){return null==e?s.call(this):e&lt;0?this[e+this.length]:this[e]},pushStack:function(e){var t=k.merge(this.constructor(),e);return t.prevObject=this,t},each:function(e){return k.each(this,e)},map:function(n){return this.pushStack(k.map(this,function(e,t){return n.call(e,t,e)}))},slice:function(){return this.pushStack(s.apply(this,arguments))},first:function(){return this.eq(0)},last:function(){return this.eq(-1)},eq:function(e){var t=this.length,n=+e+(e&lt;0?t:0);return this.pushStack(0&lt;=n&amp;&amp;n&lt;t?[this[n]]:[])},end:function(){return this.prevObject||this.constructor()},push:u,sort:t.sort,splice:t.splice},k.extend=k.fn.extend=function(){var e,t,n,r,i,o,a=arguments[0]||{},s=1,u=arguments.length,l=!1;for(&quot;boolean&quot;==typeof a&amp;&amp;(l=a,a=arguments[s]||{},s++),&quot;object&quot;==typeof a||m(a)||(a={}),s===u&amp;&amp;(a=this,s--);s&lt;u;s++)if(null!=(e=arguments[s]))for(t in e)r=e[t],&quot;__proto__&quot;!==t&amp;&amp;a!==r&amp;&amp;(l&amp;&amp;r&amp;&amp;(k.isPlainObject(r)||(i=Array.isArray(r)))?(n=a[t],o=i&amp;&amp;!Array.isArray(n)?[]:i||k.isPlainObject(n)?n:{},i=!1,a[t]=k.extend(l,o,r)):void 0!==r&amp;&amp;(a[t]=r));return a},k.extend({expando:&quot;jQuery&quot;+(f+Math.random()).replace(/\\D/g,&quot;&quot;),isReady:!0,error:function(e){throw new Error(e)},noop:function(){},isPlainObject:function(e){var t,n;return!(!e||&quot;[object Object]&quot;!==o.call(e))&amp;&amp;(!(t=r(e))||&quot;function&quot;==typeof(n=v.call(t,&quot;constructor&quot;)&amp;&amp;t.constructor)&amp;&amp;a.call(n)===l)},isEmptyObject:function(e){var t;for(t in e)return!1;return!0},globalEval:function(e,t){b(e,{nonce:t&amp;&amp;t.nonce})},each:function(e,t){var n,r=0;if(d(e)){for(n=e.length;r&lt;n;r++)if(!1===t.call(e[r],r,e[r]))break}else for(r in e)if(!1===t.call(e[r],r,e[r]))break;return e},trim:function(e){return null==e?&quot;&quot;:(e+&quot;&quot;).replace(p,&quot;&quot;)},makeArray:function(e,t){var n=t||[];return null!=e&amp;&amp;(d(Object(e))?k.merge(n,&quot;string&quot;==typeof e?[e]:e):u.call(n,e)),n},inArray:function(e,t,n){return null==t?-1:i.call(t,e,n)},merge:function(e,t){for(var n=+t.length,r=0,i=e.length;r&lt;n;r++)e[i++]=t[r];return e.length=i,e},grep:function(e,t,n){for(var r=[],i=0,o=e.length,a=!n;i&lt;o;i++)!t(e[i],i)!==a&amp;&amp;r.push(e[i]);return r},map:function(e,t,n){var r,i,o=0,a=[];if(d(e))for(r=e.length;o&lt;r;o++)null!=(i=t(e[o],o,n))&amp;&amp;a.push(i);else for(o in e)null!=(i=t(e[o],o,n))&amp;&amp;a.push(i);return g.apply([],a)},guid:1,support:y}),&quot;function&quot;==typeof Symbol&amp;&amp;(k.fn[Symbol.iterator]=t[Symbol.iterator]),k.each(&quot;Boolean Number String Function Array Date RegExp Object Error Symbol&quot;.split(&quot; &quot;),function(e,t){n[&quot;[object &quot;+t+&quot;]&quot;]=t.toLowerCase()});var h=function(n){var e,d,b,o,i,h,f,g,w,u,l,T,C,a,E,v,s,c,y,k=&quot;sizzle&quot;+1*new Date,m=n.document,S=0,r=0,p=ue(),x=ue(),N=ue(),A=ue(),D=function(e,t){return e===t&amp;&amp;(l=!0),0},j={}.hasOwnProperty,t=[],q=t.pop,L=t.push,H=t.push,O=t.slice,P=function(e,t){for(var n=0,r=e.length;n&lt;r;n++)if(e[n]===t)return n;return-1},R=&quot;checked|selected|async|autofocus|autoplay|controls|defer|disabled|hidden|ismap|loop|multiple|open|readonly|required|scoped&quot;,M=&quot;[\\\\x20\\\\t\\\\r\\\\n\\\\f]&quot;,I=&quot;(?:\\\\\\\\.|[\\\\w-]|[^\\0-\\\\xa0])+&quot;,W=&quot;\\\\[&quot;+M+&quot;*(&quot;+I+&quot;)(?:&quot;+M+&quot;*([*^$|!~]?=)&quot;+M+&quot;*(?:&#x27;((?:\\\\\\\\.|[^\\\\\\\\&#x27;])*)&#x27;|\\&quot;((?:\\\\\\\\.|[^\\\\\\\\\\&quot;])*)\\&quot;|(&quot;+I+&quot;))|)&quot;+M+&quot;*\\\\]&quot;,$=&quot;:(&quot;+I+&quot;)(?:\\\\(((&#x27;((?:\\\\\\\\.|[^\\\\\\\\&#x27;])*)&#x27;|\\&quot;((?:\\\\\\\\.|[^\\\\\\\\\\&quot;])*)\\&quot;)|((?:\\\\\\\\.|[^\\\\\\\\()[\\\\]]|&quot;+W+&quot;)*)|.*)\\\\)|)&quot;,F=new RegExp(M+&quot;+&quot;,&quot;g&quot;),B=new RegExp(&quot;^&quot;+M+&quot;+|((?:^|[^\\\\\\\\])(?:\\\\\\\\.)*)&quot;+M+&quot;+$&quot;,&quot;g&quot;),_=new RegExp(&quot;^&quot;+M+&quot;*,&quot;+M+&quot;*&quot;),z=new RegExp(&quot;^&quot;+M+&quot;*([&gt;+~]|&quot;+M+&quot;)&quot;+M+&quot;*&quot;),U=new RegExp(M+&quot;|&gt;&quot;),X=new RegExp($),V=new RegExp(&quot;^&quot;+I+&quot;$&quot;),G={ID:new RegExp(&quot;^#(&quot;+I+&quot;)&quot;),CLASS:new RegExp(&quot;^\\\\.(&quot;+I+&quot;)&quot;),TAG:new RegExp(&quot;^(&quot;+I+&quot;|[*])&quot;),ATTR:new RegExp(&quot;^&quot;+W),PSEUDO:new RegExp(&quot;^&quot;+$),CHILD:new RegExp(&quot;^:(only|first|last|nth|nth-last)-(child|of-type)(?:\\\\(&quot;+M+&quot;*(even|odd|(([+-]|)(\\\\d*)n|)&quot;+M+&quot;*(?:([+-]|)&quot;+M+&quot;*(\\\\d+)|))&quot;+M+&quot;*\\\\)|)&quot;,&quot;i&quot;),bool:new RegExp(&quot;^(?:&quot;+R+&quot;)$&quot;,&quot;i&quot;),needsContext:new RegExp(&quot;^&quot;+M+&quot;*[&gt;+~]|:(even|odd|eq|gt|lt|nth|first|last)(?:\\\\(&quot;+M+&quot;*((?:-\\\\d)?\\\\d*)&quot;+M+&quot;*\\\\)|)(?=[^-]|$)&quot;,&quot;i&quot;)},Y=/HTML$/i,Q=/^(?:input|select|textarea|button)$/i,J=/^h\\d$/i,K=/^[^{]+\\{\\s*\\[native \\w/,Z=/^(?:#([\\w-]+)|(\\w+)|\\.([\\w-]+))$/,ee=/[+~]/,te=new RegExp(&quot;\\\\\\\\([\\\\da-f]{1,6}&quot;+M+&quot;?|(&quot;+M+&quot;)|.)&quot;,&quot;ig&quot;),ne=function(e,t,n){var r=&quot;0x&quot;+t-65536;return r!=r||n?t:r&lt;0?String.fromCharCode(r+65536):String.fromCharCode(r&gt;&gt;10|55296,1023&amp;r|56320)},re=/([\\0-\\x1f\\x7f]|^-?\\d)|^-$|[^\\0-\\x1f\\x7f-\\uFFFF\\w-]/g,ie=function(e,t){return t?&quot;\\0&quot;===e?&quot;\\ufffd&quot;:e.slice(0,-1)+&quot;\\\\&quot;+e.charCodeAt(e.length-1).toString(16)+&quot; &quot;:&quot;\\\\&quot;+e},oe=function(){T()},ae=be(function(e){return!0===e.disabled&amp;&amp;&quot;fieldset&quot;===e.nodeName.toLowerCase()},{dir:&quot;parentNode&quot;,next:&quot;legend&quot;});try{H.apply(t=O.call(m.childNodes),m.childNodes),t[m.childNodes.length].nodeType}catch(e){H={apply:t.length?function(e,t){L.apply(e,O.call(t))}:function(e,t){var n=e.length,r=0;while(e[n++]=t[r++]);e.length=n-1}}}function se(t,e,n,r){var i,o,a,s,u,l,c,f=e&amp;&amp;e.ownerDocument,p=e?e.nodeType:9;if(n=n||[],&quot;string&quot;!=typeof t||!t||1!==p&amp;&amp;9!==p&amp;&amp;11!==p)return n;if(!r&amp;&amp;((e?e.ownerDocument||e:m)!==C&amp;&amp;T(e),e=e||C,E)){if(11!==p&amp;&amp;(u=Z.exec(t)))if(i=u[1]){if(9===p){if(!(a=e.getElementById(i)))return n;if(a.id===i)return n.push(a),n}else if(f&amp;&amp;(a=f.getElementById(i))&amp;&amp;y(e,a)&amp;&amp;a.id===i)return n.push(a),n}else{if(u[2])return H.apply(n,e.getElementsByTagName(t)),n;if((i=u[3])&amp;&amp;d.getElementsByClassName&amp;&amp;e.getElementsByClassName)return H.apply(n,e.getElementsByClassName(i)),n}if(d.qsa&amp;&amp;!A[t+&quot; &quot;]&amp;&amp;(!v||!v.test(t))&amp;&amp;(1!==p||&quot;object&quot;!==e.nodeName.toLowerCase())){if(c=t,f=e,1===p&amp;&amp;U.test(t)){(s=e.getAttribute(&quot;id&quot;))?s=s.replace(re,ie):e.setAttribute(&quot;id&quot;,s=k),o=(l=h(t)).length;while(o--)l[o]=&quot;#&quot;+s+&quot; &quot;+xe(l[o]);c=l.join(&quot;,&quot;),f=ee.test(t)&amp;&amp;ye(e.parentNode)||e}try{return H.apply(n,f.querySelectorAll(c)),n}catch(e){A(t,!0)}finally{s===k&amp;&amp;e.removeAttribute(&quot;id&quot;)}}}return g(t.replace(B,&quot;$1&quot;),e,n,r)}function ue(){var r=[];return function e(t,n){return r.push(t+&quot; &quot;)&gt;b.cacheLength&amp;&amp;delete e[r.shift()],e[t+&quot; &quot;]=n}}function le(e){return e[k]=!0,e}function ce(e){var t=C.createElement(&quot;fieldset&quot;);try{return!!e(t)}catch(e){return!1}finally{t.parentNode&amp;&amp;t.parentNode.removeChild(t),t=null}}function fe(e,t){var n=e.split(&quot;|&quot;),r=n.length;while(r--)b.attrHandle[n[r]]=t}function pe(e,t){var n=t&amp;&amp;e,r=n&amp;&amp;1===e.nodeType&amp;&amp;1===t.nodeType&amp;&amp;e.sourceIndex-t.sourceIndex;if(r)return r;if(n)while(n=n.nextSibling)if(n===t)return-1;return e?1:-1}function de(t){return function(e){return&quot;input&quot;===e.nodeName.toLowerCase()&amp;&amp;e.type===t}}function he(n){return function(e){var t=e.nodeName.toLowerCase();return(&quot;input&quot;===t||&quot;button&quot;===t)&amp;&amp;e.type===n}}function ge(t){return function(e){return&quot;form&quot;in e?e.parentNode&amp;&amp;!1===e.disabled?&quot;label&quot;in e?&quot;label&quot;in e.parentNode?e.parentNode.disabled===t:e.disabled===t:e.isDisabled===t||e.isDisabled!==!t&amp;&amp;ae(e)===t:e.disabled===t:&quot;label&quot;in e&amp;&amp;e.disabled===t}}function ve(a){return le(function(o){return o=+o,le(function(e,t){var n,r=a([],e.length,o),i=r.length;while(i--)e[n=r[i]]&amp;&amp;(e[n]=!(t[n]=e[n]))})})}function ye(e){return e&amp;&amp;&quot;undefined&quot;!=typeof e.getElementsByTagName&amp;&amp;e}for(e in d=se.support={},i=se.isXML=function(e){var t=e.namespaceURI,n=(e.ownerDocument||e).documentElement;return!Y.test(t||n&amp;&amp;n.nodeName||&quot;HTML&quot;)},T=se.setDocument=function(e){var t,n,r=e?e.ownerDocument||e:m;return r!==C&amp;&amp;9===r.nodeType&amp;&amp;r.documentElement&amp;&amp;(a=(C=r).documentElement,E=!i(C),m!==C&amp;&amp;(n=C.defaultView)&amp;&amp;n.top!==n&amp;&amp;(n.addEventListener?n.addEventListener(&quot;unload&quot;,oe,!1):n.attachEvent&amp;&amp;n.attachEvent(&quot;onunload&quot;,oe)),d.attributes=ce(function(e){return e.className=&quot;i&quot;,!e.getAttribute(&quot;className&quot;)}),d.getElementsByTagName=ce(function(e){return e.appendChild(C.createComment(&quot;&quot;)),!e.getElementsByTagName(&quot;*&quot;).length}),d.getElementsByClassName=K.test(C.getElementsByClassName),d.getById=ce(function(e){return a.appendChild(e).id=k,!C.getElementsByName||!C.getElementsByName(k).length}),d.getById?(b.filter.ID=function(e){var t=e.replace(te,ne);return function(e){return e.getAttribute(&quot;id&quot;)===t}},b.find.ID=function(e,t){if(&quot;undefined&quot;!=typeof t.getElementById&amp;&amp;E){var n=t.getElementById(e);return n?[n]:[]}}):(b.filter.ID=function(e){var n=e.replace(te,ne);return function(e){var t=&quot;undefined&quot;!=typeof e.getAttributeNode&amp;&amp;e.getAttributeNode(&quot;id&quot;);return t&amp;&amp;t.value===n}},b.find.ID=function(e,t){if(&quot;undefined&quot;!=typeof t.getElementById&amp;&amp;E){var n,r,i,o=t.getElementById(e);if(o){if((n=o.getAttributeNode(&quot;id&quot;))&amp;&amp;n.value===e)return[o];i=t.getElementsByName(e),r=0;while(o=i[r++])if((n=o.getAttributeNode(&quot;id&quot;))&amp;&amp;n.value===e)return[o]}return[]}}),b.find.TAG=d.getElementsByTagName?function(e,t){return&quot;undefined&quot;!=typeof t.getElementsByTagName?t.getElementsByTagName(e):d.qsa?t.querySelectorAll(e):void 0}:function(e,t){var n,r=[],i=0,o=t.getElementsByTagName(e);if(&quot;*&quot;===e){while(n=o[i++])1===n.nodeType&amp;&amp;r.push(n);return r}return o},b.find.CLASS=d.getElementsByClassName&amp;&amp;function(e,t){if(&quot;undefined&quot;!=typeof t.getElementsByClassName&amp;&amp;E)return t.getElementsByClassName(e)},s=[],v=[],(d.qsa=K.test(C.querySelectorAll))&amp;&amp;(ce(function(e){a.appendChild(e).innerHTML=&quot;&lt;a id=&#x27;&quot;+k+&quot;&#x27;&gt;&lt;/a&gt;&lt;select id=&#x27;&quot;+k+&quot;-\\r\\\\&#x27; msallowcapture=&#x27;&#x27;&gt;&lt;option selected=&#x27;&#x27;&gt;&lt;/option&gt;&lt;/select&gt;&quot;,e.querySelectorAll(&quot;[msallowcapture^=&#x27;&#x27;]&quot;).length&amp;&amp;v.push(&quot;[*^$]=&quot;+M+&quot;*(?:&#x27;&#x27;|\\&quot;\\&quot;)&quot;),e.querySelectorAll(&quot;[selected]&quot;).length||v.push(&quot;\\\\[&quot;+M+&quot;*(?:value|&quot;+R+&quot;)&quot;),e.querySelectorAll(&quot;[id~=&quot;+k+&quot;-]&quot;).length||v.push(&quot;~=&quot;),e.querySelectorAll(&quot;:checked&quot;).length||v.push(&quot;:checked&quot;),e.querySelectorAll(&quot;a#&quot;+k+&quot;+*&quot;).length||v.push(&quot;.#.+[+~]&quot;)}),ce(function(e){e.innerHTML=&quot;&lt;a href=&#x27;&#x27; disabled=&#x27;disabled&#x27;&gt;&lt;/a&gt;&lt;select disabled=&#x27;disabled&#x27;&gt;&lt;option/&gt;&lt;/select&gt;&quot;;var t=C.createElement(&quot;input&quot;);t.setAttribute(&quot;type&quot;,&quot;hidden&quot;),e.appendChild(t).setAttribute(&quot;name&quot;,&quot;D&quot;),e.querySelectorAll(&quot;[name=d]&quot;).length&amp;&amp;v.push(&quot;name&quot;+M+&quot;*[*^$|!~]?=&quot;),2!==e.querySelectorAll(&quot;:enabled&quot;).length&amp;&amp;v.push(&quot;:enabled&quot;,&quot;:disabled&quot;),a.appendChild(e).disabled=!0,2!==e.querySelectorAll(&quot;:disabled&quot;).length&amp;&amp;v.push(&quot;:enabled&quot;,&quot;:disabled&quot;),e.querySelectorAll(&quot;*,:x&quot;),v.push(&quot;,.*:&quot;)})),(d.matchesSelector=K.test(c=a.matches||a.webkitMatchesSelector||a.mozMatchesSelector||a.oMatchesSelector||a.msMatchesSelector))&amp;&amp;ce(function(e){d.disconnectedMatch=c.call(e,&quot;*&quot;),c.call(e,&quot;[s!=&#x27;&#x27;]:x&quot;),s.push(&quot;!=&quot;,$)}),v=v.length&amp;&amp;new RegExp(v.join(&quot;|&quot;)),s=s.length&amp;&amp;new RegExp(s.join(&quot;|&quot;)),t=K.test(a.compareDocumentPosition),y=t||K.test(a.contains)?function(e,t){var n=9===e.nodeType?e.documentElement:e,r=t&amp;&amp;t.parentNode;return e===r||!(!r||1!==r.nodeType||!(n.contains?n.contains(r):e.compareDocumentPosition&amp;&amp;16&amp;e.compareDocumentPosition(r)))}:function(e,t){if(t)while(t=t.parentNode)if(t===e)return!0;return!1},D=t?function(e,t){if(e===t)return l=!0,0;var n=!e.compareDocumentPosition-!t.compareDocumentPosition;return n||(1&amp;(n=(e.ownerDocument||e)===(t.ownerDocument||t)?e.compareDocumentPosition(t):1)||!d.sortDetached&amp;&amp;t.compareDocumentPosition(e)===n?e===C||e.ownerDocument===m&amp;&amp;y(m,e)?-1:t===C||t.ownerDocument===m&amp;&amp;y(m,t)?1:u?P(u,e)-P(u,t):0:4&amp;n?-1:1)}:function(e,t){if(e===t)return l=!0,0;var n,r=0,i=e.parentNode,o=t.parentNode,a=[e],s=[t];if(!i||!o)return e===C?-1:t===C?1:i?-1:o?1:u?P(u,e)-P(u,t):0;if(i===o)return pe(e,t);n=e;while(n=n.parentNode)a.unshift(n);n=t;while(n=n.parentNode)s.unshift(n);while(a[r]===s[r])r++;return r?pe(a[r],s[r]):a[r]===m?-1:s[r]===m?1:0}),C},se.matches=function(e,t){return se(e,null,null,t)},se.matchesSelector=function(e,t){if((e.ownerDocument||e)!==C&amp;&amp;T(e),d.matchesSelector&amp;&amp;E&amp;&amp;!A[t+&quot; &quot;]&amp;&amp;(!s||!s.test(t))&amp;&amp;(!v||!v.test(t)))try{var n=c.call(e,t);if(n||d.disconnectedMatch||e.document&amp;&amp;11!==e.document.nodeType)return n}catch(e){A(t,!0)}return 0&lt;se(t,C,null,[e]).length},se.contains=function(e,t){return(e.ownerDocument||e)!==C&amp;&amp;T(e),y(e,t)},se.attr=function(e,t){(e.ownerDocument||e)!==C&amp;&amp;T(e);var n=b.attrHandle[t.toLowerCase()],r=n&amp;&amp;j.call(b.attrHandle,t.toLowerCase())?n(e,t,!E):void 0;return void 0!==r?r:d.attributes||!E?e.getAttribute(t):(r=e.getAttributeNode(t))&amp;&amp;r.specified?r.value:null},se.escape=function(e){return(e+&quot;&quot;).replace(re,ie)},se.error=function(e){throw new Error(&quot;Syntax error, unrecognized expression: &quot;+e)},se.uniqueSort=function(e){var t,n=[],r=0,i=0;if(l=!d.detectDuplicates,u=!d.sortStable&amp;&amp;e.slice(0),e.sort(D),l){while(t=e[i++])t===e[i]&amp;&amp;(r=n.push(i));while(r--)e.splice(n[r],1)}return u=null,e},o=se.getText=function(e){var t,n=&quot;&quot;,r=0,i=e.nodeType;if(i){if(1===i||9===i||11===i){if(&quot;string&quot;==typeof e.textContent)return e.textContent;for(e=e.firstChild;e;e=e.nextSibling)n+=o(e)}else if(3===i||4===i)return e.nodeValue}else while(t=e[r++])n+=o(t);return n},(b=se.selectors={cacheLength:50,createPseudo:le,match:G,attrHandle:{},find:{},relative:{&quot;&gt;&quot;:{dir:&quot;parentNode&quot;,first:!0},&quot; &quot;:{dir:&quot;parentNode&quot;},&quot;+&quot;:{dir:&quot;previousSibling&quot;,first:!0},&quot;~&quot;:{dir:&quot;previousSibling&quot;}},preFilter:{ATTR:function(e){return e[1]=e[1].replace(te,ne),e[3]=(e[3]||e[4]||e[5]||&quot;&quot;).replace(te,ne),&quot;~=&quot;===e[2]&amp;&amp;(e[3]=&quot; &quot;+e[3]+&quot; &quot;),e.slice(0,4)},CHILD:function(e){return e[1]=e[1].toLowerCase(),&quot;nth&quot;===e[1].slice(0,3)?(e[3]||se.error(e[0]),e[4]=+(e[4]?e[5]+(e[6]||1):2*(&quot;even&quot;===e[3]||&quot;odd&quot;===e[3])),e[5]=+(e[7]+e[8]||&quot;odd&quot;===e[3])):e[3]&amp;&amp;se.error(e[0]),e},PSEUDO:function(e){var t,n=!e[6]&amp;&amp;e[2];return G.CHILD.test(e[0])?null:(e[3]?e[2]=e[4]||e[5]||&quot;&quot;:n&amp;&amp;X.test(n)&amp;&amp;(t=h(n,!0))&amp;&amp;(t=n.indexOf(&quot;)&quot;,n.length-t)-n.length)&amp;&amp;(e[0]=e[0].slice(0,t),e[2]=n.slice(0,t)),e.slice(0,3))}},filter:{TAG:function(e){var t=e.replace(te,ne).toLowerCase();return&quot;*&quot;===e?function(){return!0}:function(e){return e.nodeName&amp;&amp;e.nodeName.toLowerCase()===t}},CLASS:function(e){var t=p[e+&quot; &quot;];return t||(t=new RegExp(&quot;(^|&quot;+M+&quot;)&quot;+e+&quot;(&quot;+M+&quot;|$)&quot;))&amp;&amp;p(e,function(e){return t.test(&quot;string&quot;==typeof e.className&amp;&amp;e.className||&quot;undefined&quot;!=typeof e.getAttribute&amp;&amp;e.getAttribute(&quot;class&quot;)||&quot;&quot;)})},ATTR:function(n,r,i){return function(e){var t=se.attr(e,n);return null==t?&quot;!=&quot;===r:!r||(t+=&quot;&quot;,&quot;=&quot;===r?t===i:&quot;!=&quot;===r?t!==i:&quot;^=&quot;===r?i&amp;&amp;0===t.indexOf(i):&quot;*=&quot;===r?i&amp;&amp;-1&lt;t.indexOf(i):&quot;$=&quot;===r?i&amp;&amp;t.slice(-i.length)===i:&quot;~=&quot;===r?-1&lt;(&quot; &quot;+t.replace(F,&quot; &quot;)+&quot; &quot;).indexOf(i):&quot;|=&quot;===r&amp;&amp;(t===i||t.slice(0,i.length+1)===i+&quot;-&quot;))}},CHILD:function(h,e,t,g,v){var y=&quot;nth&quot;!==h.slice(0,3),m=&quot;last&quot;!==h.slice(-4),x=&quot;of-type&quot;===e;return 1===g&amp;&amp;0===v?function(e){return!!e.parentNode}:function(e,t,n){var r,i,o,a,s,u,l=y!==m?&quot;nextSibling&quot;:&quot;previousSibling&quot;,c=e.parentNode,f=x&amp;&amp;e.nodeName.toLowerCase(),p=!n&amp;&amp;!x,d=!1;if(c){if(y){while(l){a=e;while(a=a[l])if(x?a.nodeName.toLowerCase()===f:1===a.nodeType)return!1;u=l=&quot;only&quot;===h&amp;&amp;!u&amp;&amp;&quot;nextSibling&quot;}return!0}if(u=[m?c.firstChild:c.lastChild],m&amp;&amp;p){d=(s=(r=(i=(o=(a=c)[k]||(a[k]={}))[a.uniqueID]||(o[a.uniqueID]={}))[h]||[])[0]===S&amp;&amp;r[1])&amp;&amp;r[2],a=s&amp;&amp;c.childNodes[s];while(a=++s&amp;&amp;a&amp;&amp;a[l]||(d=s=0)||u.pop())if(1===a.nodeType&amp;&amp;++d&amp;&amp;a===e){i[h]=[S,s,d];break}}else if(p&amp;&amp;(d=s=(r=(i=(o=(a=e)[k]||(a[k]={}))[a.uniqueID]||(o[a.uniqueID]={}))[h]||[])[0]===S&amp;&amp;r[1]),!1===d)while(a=++s&amp;&amp;a&amp;&amp;a[l]||(d=s=0)||u.pop())if((x?a.nodeName.toLowerCase()===f:1===a.nodeType)&amp;&amp;++d&amp;&amp;(p&amp;&amp;((i=(o=a[k]||(a[k]={}))[a.uniqueID]||(o[a.uniqueID]={}))[h]=[S,d]),a===e))break;return(d-=v)===g||d%g==0&amp;&amp;0&lt;=d/g}}},PSEUDO:function(e,o){var t,a=b.pseudos[e]||b.setFilters[e.toLowerCase()]||se.error(&quot;unsupported pseudo: &quot;+e);return a[k]?a(o):1&lt;a.length?(t=[e,e,&quot;&quot;,o],b.setFilters.hasOwnProperty(e.toLowerCase())?le(function(e,t){var n,r=a(e,o),i=r.length;while(i--)e[n=P(e,r[i])]=!(t[n]=r[i])}):function(e){return a(e,0,t)}):a}},pseudos:{not:le(function(e){var r=[],i=[],s=f(e.replace(B,&quot;$1&quot;));return s[k]?le(function(e,t,n,r){var i,o=s(e,null,r,[]),a=e.length;while(a--)(i=o[a])&amp;&amp;(e[a]=!(t[a]=i))}):function(e,t,n){return r[0]=e,s(r,null,n,i),r[0]=null,!i.pop()}}),has:le(function(t){return function(e){return 0&lt;se(t,e).length}}),contains:le(function(t){return t=t.replace(te,ne),function(e){return-1&lt;(e.textContent||o(e)).indexOf(t)}}),lang:le(function(n){return V.test(n||&quot;&quot;)||se.error(&quot;unsupported lang: &quot;+n),n=n.replace(te,ne).toLowerCase(),function(e){var t;do{if(t=E?e.lang:e.getAttribute(&quot;xml:lang&quot;)||e.getAttribute(&quot;lang&quot;))return(t=t.toLowerCase())===n||0===t.indexOf(n+&quot;-&quot;)}while((e=e.parentNode)&amp;&amp;1===e.nodeType);return!1}}),target:function(e){var t=n.location&amp;&amp;n.location.hash;return t&amp;&amp;t.slice(1)===e.id},root:function(e){return e===a},focus:function(e){return e===C.activeElement&amp;&amp;(!C.hasFocus||C.hasFocus())&amp;&amp;!!(e.type||e.href||~e.tabIndex)},enabled:ge(!1),disabled:ge(!0),checked:function(e){var t=e.nodeName.toLowerCase();return&quot;input&quot;===t&amp;&amp;!!e.checked||&quot;option&quot;===t&amp;&amp;!!e.selected},selected:function(e){return e.parentNode&amp;&amp;e.parentNode.selectedIndex,!0===e.selected},empty:function(e){for(e=e.firstChild;e;e=e.nextSibling)if(e.nodeType&lt;6)return!1;return!0},parent:function(e){return!b.pseudos.empty(e)},header:function(e){return J.test(e.nodeName)},input:function(e){return Q.test(e.nodeName)},button:function(e){var t=e.nodeName.toLowerCase();return&quot;input&quot;===t&amp;&amp;&quot;button&quot;===e.type||&quot;button&quot;===t},text:function(e){var t;return&quot;input&quot;===e.nodeName.toLowerCase()&amp;&amp;&quot;text&quot;===e.type&amp;&amp;(null==(t=e.getAttribute(&quot;type&quot;))||&quot;text&quot;===t.toLowerCase())},first:ve(function(){return[0]}),last:ve(function(e,t){return[t-1]}),eq:ve(function(e,t,n){return[n&lt;0?n+t:n]}),even:ve(function(e,t){for(var n=0;n&lt;t;n+=2)e.push(n);return e}),odd:ve(function(e,t){for(var n=1;n&lt;t;n+=2)e.push(n);return e}),lt:ve(function(e,t,n){for(var r=n&lt;0?n+t:t&lt;n?t:n;0&lt;=--r;)e.push(r);return e}),gt:ve(function(e,t,n){for(var r=n&lt;0?n+t:n;++r&lt;t;)e.push(r);return e})}}).pseudos.nth=b.pseudos.eq,{radio:!0,checkbox:!0,file:!0,password:!0,image:!0})b.pseudos[e]=de(e);for(e in{submit:!0,reset:!0})b.pseudos[e]=he(e);function me(){}function xe(e){for(var t=0,n=e.length,r=&quot;&quot;;t&lt;n;t++)r+=e[t].value;return r}function be(s,e,t){var u=e.dir,l=e.next,c=l||u,f=t&amp;&amp;&quot;parentNode&quot;===c,p=r++;return e.first?function(e,t,n){while(e=e[u])if(1===e.nodeType||f)return s(e,t,n);return!1}:function(e,t,n){var r,i,o,a=[S,p];if(n){while(e=e[u])if((1===e.nodeType||f)&amp;&amp;s(e,t,n))return!0}else while(e=e[u])if(1===e.nodeType||f)if(i=(o=e[k]||(e[k]={}))[e.uniqueID]||(o[e.uniqueID]={}),l&amp;&amp;l===e.nodeName.toLowerCase())e=e[u]||e;else{if((r=i[c])&amp;&amp;r[0]===S&amp;&amp;r[1]===p)return a[2]=r[2];if((i[c]=a)[2]=s(e,t,n))return!0}return!1}}function we(i){return 1&lt;i.length?function(e,t,n){var r=i.length;while(r--)if(!i[r](e,t,n))return!1;return!0}:i[0]}function Te(e,t,n,r,i){for(var o,a=[],s=0,u=e.length,l=null!=t;s&lt;u;s++)(o=e[s])&amp;&amp;(n&amp;&amp;!n(o,r,i)||(a.push(o),l&amp;&amp;t.push(s)));return a}function Ce(d,h,g,v,y,e){return v&amp;&amp;!v[k]&amp;&amp;(v=Ce(v)),y&amp;&amp;!y[k]&amp;&amp;(y=Ce(y,e)),le(function(e,t,n,r){var i,o,a,s=[],u=[],l=t.length,c=e||function(e,t,n){for(var r=0,i=t.length;r&lt;i;r++)se(e,t[r],n);return n}(h||&quot;*&quot;,n.nodeType?[n]:n,[]),f=!d||!e&amp;&amp;h?c:Te(c,s,d,n,r),p=g?y||(e?d:l||v)?[]:t:f;if(g&amp;&amp;g(f,p,n,r),v){i=Te(p,u),v(i,[],n,r),o=i.length;while(o--)(a=i[o])&amp;&amp;(p[u[o]]=!(f[u[o]]=a))}if(e){if(y||d){if(y){i=[],o=p.length;while(o--)(a=p[o])&amp;&amp;i.push(f[o]=a);y(null,p=[],i,r)}o=p.length;while(o--)(a=p[o])&amp;&amp;-1&lt;(i=y?P(e,a):s[o])&amp;&amp;(e[i]=!(t[i]=a))}}else p=Te(p===t?p.splice(l,p.length):p),y?y(null,t,p,r):H.apply(t,p)})}function Ee(e){for(var i,t,n,r=e.length,o=b.relative[e[0].type],a=o||b.relative[&quot; &quot;],s=o?1:0,u=be(function(e){return e===i},a,!0),l=be(function(e){return-1&lt;P(i,e)},a,!0),c=[function(e,t,n){var r=!o&amp;&amp;(n||t!==w)||((i=t).nodeType?u(e,t,n):l(e,t,n));return i=null,r}];s&lt;r;s++)if(t=b.relative[e[s].type])c=[be(we(c),t)];else{if((t=b.filter[e[s].type].apply(null,e[s].matches))[k]){for(n=++s;n&lt;r;n++)if(b.relative[e[n].type])break;return Ce(1&lt;s&amp;&amp;we(c),1&lt;s&amp;&amp;xe(e.slice(0,s-1).concat({value:&quot; &quot;===e[s-2].type?&quot;*&quot;:&quot;&quot;})).replace(B,&quot;$1&quot;),t,s&lt;n&amp;&amp;Ee(e.slice(s,n)),n&lt;r&amp;&amp;Ee(e=e.slice(n)),n&lt;r&amp;&amp;xe(e))}c.push(t)}return we(c)}return me.prototype=b.filters=b.pseudos,b.setFilters=new me,h=se.tokenize=function(e,t){var n,r,i,o,a,s,u,l=x[e+&quot; &quot;];if(l)return t?0:l.slice(0);a=e,s=[],u=b.preFilter;while(a){for(o in n&amp;&amp;!(r=_.exec(a))||(r&amp;&amp;(a=a.slice(r[0].length)||a),s.push(i=[])),n=!1,(r=z.exec(a))&amp;&amp;(n=r.shift(),i.push({value:n,type:r[0].replace(B,&quot; &quot;)}),a=a.slice(n.length)),b.filter)!(r=G[o].exec(a))||u[o]&amp;&amp;!(r=u[o](r))||(n=r.shift(),i.push({value:n,type:o,matches:r}),a=a.slice(n.length));if(!n)break}return t?a.length:a?se.error(e):x(e,s).slice(0)},f=se.compile=function(e,t){var n,v,y,m,x,r,i=[],o=[],a=N[e+&quot; &quot;];if(!a){t||(t=h(e)),n=t.length;while(n--)(a=Ee(t[n]))[k]?i.push(a):o.push(a);(a=N(e,(v=o,m=0&lt;(y=i).length,x=0&lt;v.length,r=function(e,t,n,r,i){var o,a,s,u=0,l=&quot;0&quot;,c=e&amp;&amp;[],f=[],p=w,d=e||x&amp;&amp;b.find.TAG(&quot;*&quot;,i),h=S+=null==p?1:Math.random()||.1,g=d.length;for(i&amp;&amp;(w=t===C||t||i);l!==g&amp;&amp;null!=(o=d[l]);l++){if(x&amp;&amp;o){a=0,t||o.ownerDocument===C||(T(o),n=!E);while(s=v[a++])if(s(o,t||C,n)){r.push(o);break}i&amp;&amp;(S=h)}m&amp;&amp;((o=!s&amp;&amp;o)&amp;&amp;u--,e&amp;&amp;c.push(o))}if(u+=l,m&amp;&amp;l!==u){a=0;while(s=y[a++])s(c,f,t,n);if(e){if(0&lt;u)while(l--)c[l]||f[l]||(f[l]=q.call(r));f=Te(f)}H.apply(r,f),i&amp;&amp;!e&amp;&amp;0&lt;f.length&amp;&amp;1&lt;u+y.length&amp;&amp;se.uniqueSort(r)}return i&amp;&amp;(S=h,w=p),c},m?le(r):r))).selector=e}return a},g=se.select=function(e,t,n,r){var i,o,a,s,u,l=&quot;function&quot;==typeof e&amp;&amp;e,c=!r&amp;&amp;h(e=l.selector||e);if(n=n||[],1===c.length){if(2&lt;(o=c[0]=c[0].slice(0)).length&amp;&amp;&quot;ID&quot;===(a=o[0]).type&amp;&amp;9===t.nodeType&amp;&amp;E&amp;&amp;b.relative[o[1].type]){if(!(t=(b.find.ID(a.matches[0].replace(te,ne),t)||[])[0]))return n;l&amp;&amp;(t=t.parentNode),e=e.slice(o.shift().value.length)}i=G.needsContext.test(e)?0:o.length;while(i--){if(a=o[i],b.relative[s=a.type])break;if((u=b.find[s])&amp;&amp;(r=u(a.matches[0].replace(te,ne),ee.test(o[0].type)&amp;&amp;ye(t.parentNode)||t))){if(o.splice(i,1),!(e=r.length&amp;&amp;xe(o)))return H.apply(n,r),n;break}}}return(l||f(e,c))(r,t,!E,n,!t||ee.test(e)&amp;&amp;ye(t.parentNode)||t),n},d.sortStable=k.split(&quot;&quot;).sort(D).join(&quot;&quot;)===k,d.detectDuplicates=!!l,T(),d.sortDetached=ce(function(e){return 1&amp;e.compareDocumentPosition(C.createElement(&quot;fieldset&quot;))}),ce(function(e){return e.innerHTML=&quot;&lt;a href=&#x27;#&#x27;&gt;&lt;/a&gt;&quot;,&quot;#&quot;===e.firstChild.getAttribute(&quot;href&quot;)})||fe(&quot;type|href|height|width&quot;,function(e,t,n){if(!n)return e.getAttribute(t,&quot;type&quot;===t.toLowerCase()?1:2)}),d.attributes&amp;&amp;ce(function(e){return e.innerHTML=&quot;&lt;input/&gt;&quot;,e.firstChild.setAttribute(&quot;value&quot;,&quot;&quot;),&quot;&quot;===e.firstChild.getAttribute(&quot;value&quot;)})||fe(&quot;value&quot;,function(e,t,n){if(!n&amp;&amp;&quot;input&quot;===e.nodeName.toLowerCase())return e.defaultValue}),ce(function(e){return null==e.getAttribute(&quot;disabled&quot;)})||fe(R,function(e,t,n){var r;if(!n)return!0===e[t]?t.toLowerCase():(r=e.getAttributeNode(t))&amp;&amp;r.specified?r.value:null}),se}(C);k.find=h,k.expr=h.selectors,k.expr[&quot;:&quot;]=k.expr.pseudos,k.uniqueSort=k.unique=h.uniqueSort,k.text=h.getText,k.isXMLDoc=h.isXML,k.contains=h.contains,k.escapeSelector=h.escape;var T=function(e,t,n){var r=[],i=void 0!==n;while((e=e[t])&amp;&amp;9!==e.nodeType)if(1===e.nodeType){if(i&amp;&amp;k(e).is(n))break;r.push(e)}return r},S=function(e,t){for(var n=[];e;e=e.nextSibling)1===e.nodeType&amp;&amp;e!==t&amp;&amp;n.push(e);return n},N=k.expr.match.needsContext;function A(e,t){return e.nodeName&amp;&amp;e.nodeName.toLowerCase()===t.toLowerCase()}var D=/^&lt;([a-z][^\\/\\0&gt;:\\x20\\t\\r\\n\\f]*)[\\x20\\t\\r\\n\\f]*\\/?&gt;(?:&lt;\\/\\1&gt;|)$/i;function j(e,n,r){return m(n)?k.grep(e,function(e,t){return!!n.call(e,t,e)!==r}):n.nodeType?k.grep(e,function(e){return e===n!==r}):&quot;string&quot;!=typeof n?k.grep(e,function(e){return-1&lt;i.call(n,e)!==r}):k.filter(n,e,r)}k.filter=function(e,t,n){var r=t[0];return n&amp;&amp;(e=&quot;:not(&quot;+e+&quot;)&quot;),1===t.length&amp;&amp;1===r.nodeType?k.find.matchesSelector(r,e)?[r]:[]:k.find.matches(e,k.grep(t,function(e){return 1===e.nodeType}))},k.fn.extend({find:function(e){var t,n,r=this.length,i=this;if(&quot;string&quot;!=typeof e)return this.pushStack(k(e).filter(function(){for(t=0;t&lt;r;t++)if(k.contains(i[t],this))return!0}));for(n=this.pushStack([]),t=0;t&lt;r;t++)k.find(e,i[t],n);return 1&lt;r?k.uniqueSort(n):n},filter:function(e){return this.pushStack(j(this,e||[],!1))},not:function(e){return this.pushStack(j(this,e||[],!0))},is:function(e){return!!j(this,&quot;string&quot;==typeof e&amp;&amp;N.test(e)?k(e):e||[],!1).length}});var q,L=/^(?:\\s*(&lt;[\\w\\W]+&gt;)[^&gt;]*|#([\\w-]+))$/;(k.fn.init=function(e,t,n){var r,i;if(!e)return this;if(n=n||q,&quot;string&quot;==typeof e){if(!(r=&quot;&lt;&quot;===e[0]&amp;&amp;&quot;&gt;&quot;===e[e.length-1]&amp;&amp;3&lt;=e.length?[null,e,null]:L.exec(e))||!r[1]&amp;&amp;t)return!t||t.jquery?(t||n).find(e):this.constructor(t).find(e);if(r[1]){if(t=t instanceof k?t[0]:t,k.merge(this,k.parseHTML(r[1],t&amp;&amp;t.nodeType?t.ownerDocument||t:E,!0)),D.test(r[1])&amp;&amp;k.isPlainObject(t))for(r in t)m(this[r])?this[r](t[r]):this.attr(r,t[r]);return this}return(i=E.getElementById(r[2]))&amp;&amp;(this[0]=i,this.length=1),this}return e.nodeType?(this[0]=e,this.length=1,this):m(e)?void 0!==n.ready?n.ready(e):e(k):k.makeArray(e,this)}).prototype=k.fn,q=k(E);var H=/^(?:parents|prev(?:Until|All))/,O={children:!0,contents:!0,next:!0,prev:!0};function P(e,t){while((e=e[t])&amp;&amp;1!==e.nodeType);return e}k.fn.extend({has:function(e){var t=k(e,this),n=t.length;return this.filter(function(){for(var e=0;e&lt;n;e++)if(k.contains(this,t[e]))return!0})},closest:function(e,t){var n,r=0,i=this.length,o=[],a=&quot;string&quot;!=typeof e&amp;&amp;k(e);if(!N.test(e))for(;r&lt;i;r++)for(n=this[r];n&amp;&amp;n!==t;n=n.parentNode)if(n.nodeType&lt;11&amp;&amp;(a?-1&lt;a.index(n):1===n.nodeType&amp;&amp;k.find.matchesSelector(n,e))){o.push(n);break}return this.pushStack(1&lt;o.length?k.uniqueSort(o):o)},index:function(e){return e?&quot;string&quot;==typeof e?i.call(k(e),this[0]):i.call(this,e.jquery?e[0]:e):this[0]&amp;&amp;this[0].parentNode?this.first().prevAll().length:-1},add:function(e,t){return this.pushStack(k.uniqueSort(k.merge(this.get(),k(e,t))))},addBack:function(e){return this.add(null==e?this.prevObject:this.prevObject.filter(e))}}),k.each({parent:function(e){var t=e.parentNode;return t&amp;&amp;11!==t.nodeType?t:null},parents:function(e){return T(e,&quot;parentNode&quot;)},parentsUntil:function(e,t,n){return T(e,&quot;parentNode&quot;,n)},next:function(e){return P(e,&quot;nextSibling&quot;)},prev:function(e){return P(e,&quot;previousSibling&quot;)},nextAll:function(e){return T(e,&quot;nextSibling&quot;)},prevAll:function(e){return T(e,&quot;previousSibling&quot;)},nextUntil:function(e,t,n){return T(e,&quot;nextSibling&quot;,n)},prevUntil:function(e,t,n){return T(e,&quot;previousSibling&quot;,n)},siblings:function(e){return S((e.parentNode||{}).firstChild,e)},children:function(e){return S(e.firstChild)},contents:function(e){return&quot;undefined&quot;!=typeof e.contentDocument?e.contentDocument:(A(e,&quot;template&quot;)&amp;&amp;(e=e.content||e),k.merge([],e.childNodes))}},function(r,i){k.fn[r]=function(e,t){var n=k.map(this,i,e);return&quot;Until&quot;!==r.slice(-5)&amp;&amp;(t=e),t&amp;&amp;&quot;string&quot;==typeof t&amp;&amp;(n=k.filter(t,n)),1&lt;this.length&amp;&amp;(O[r]||k.uniqueSort(n),H.test(r)&amp;&amp;n.reverse()),this.pushStack(n)}});var R=/[^\\x20\\t\\r\\n\\f]+/g;function M(e){return e}function I(e){throw e}function W(e,t,n,r){var i;try{e&amp;&amp;m(i=e.promise)?i.call(e).done(t).fail(n):e&amp;&amp;m(i=e.then)?i.call(e,t,n):t.apply(void 0,[e].slice(r))}catch(e){n.apply(void 0,[e])}}k.Callbacks=function(r){var e,n;r=&quot;string&quot;==typeof r?(e=r,n={},k.each(e.match(R)||[],function(e,t){n[t]=!0}),n):k.extend({},r);var i,t,o,a,s=[],u=[],l=-1,c=function(){for(a=a||r.once,o=i=!0;u.length;l=-1){t=u.shift();while(++l&lt;s.length)!1===s[l].apply(t[0],t[1])&amp;&amp;r.stopOnFalse&amp;&amp;(l=s.length,t=!1)}r.memory||(t=!1),i=!1,a&amp;&amp;(s=t?[]:&quot;&quot;)},f={add:function(){return s&amp;&amp;(t&amp;&amp;!i&amp;&amp;(l=s.length-1,u.push(t)),function n(e){k.each(e,function(e,t){m(t)?r.unique&amp;&amp;f.has(t)||s.push(t):t&amp;&amp;t.length&amp;&amp;&quot;string&quot;!==w(t)&amp;&amp;n(t)})}(arguments),t&amp;&amp;!i&amp;&amp;c()),this},remove:function(){return k.each(arguments,function(e,t){var n;while(-1&lt;(n=k.inArray(t,s,n)))s.splice(n,1),n&lt;=l&amp;&amp;l--}),this},has:function(e){return e?-1&lt;k.inArray(e,s):0&lt;s.length},empty:function(){return s&amp;&amp;(s=[]),this},disable:function(){return a=u=[],s=t=&quot;&quot;,this},disabled:function(){return!s},lock:function(){return a=u=[],t||i||(s=t=&quot;&quot;),this},locked:function(){return!!a},fireWith:function(e,t){return a||(t=[e,(t=t||[]).slice?t.slice():t],u.push(t),i||c()),this},fire:function(){return f.fireWith(this,arguments),this},fired:function(){return!!o}};return f},k.extend({Deferred:function(e){var o=[[&quot;notify&quot;,&quot;progress&quot;,k.Callbacks(&quot;memory&quot;),k.Callbacks(&quot;memory&quot;),2],[&quot;resolve&quot;,&quot;done&quot;,k.Callbacks(&quot;once memory&quot;),k.Callbacks(&quot;once memory&quot;),0,&quot;resolved&quot;],[&quot;reject&quot;,&quot;fail&quot;,k.Callbacks(&quot;once memory&quot;),k.Callbacks(&quot;once memory&quot;),1,&quot;rejected&quot;]],i=&quot;pending&quot;,a={state:function(){return i},always:function(){return s.done(arguments).fail(arguments),this},&quot;catch&quot;:function(e){return a.then(null,e)},pipe:function(){var i=arguments;return k.Deferred(function(r){k.each(o,function(e,t){var n=m(i[t[4]])&amp;&amp;i[t[4]];s[t[1]](function(){var e=n&amp;&amp;n.apply(this,arguments);e&amp;&amp;m(e.promise)?e.promise().progress(r.notify).done(r.resolve).fail(r.reject):r[t[0]+&quot;With&quot;](this,n?[e]:arguments)})}),i=null}).promise()},then:function(t,n,r){var u=0;function l(i,o,a,s){return function(){var n=this,r=arguments,e=function(){var e,t;if(!(i&lt;u)){if((e=a.apply(n,r))===o.promise())throw new TypeError(&quot;Thenable self-resolution&quot;);t=e&amp;&amp;(&quot;object&quot;==typeof e||&quot;function&quot;==typeof e)&amp;&amp;e.then,m(t)?s?t.call(e,l(u,o,M,s),l(u,o,I,s)):(u++,t.call(e,l(u,o,M,s),l(u,o,I,s),l(u,o,M,o.notifyWith))):(a!==M&amp;&amp;(n=void 0,r=[e]),(s||o.resolveWith)(n,r))}},t=s?e:function(){try{e()}catch(e){k.Deferred.exceptionHook&amp;&amp;k.Deferred.exceptionHook(e,t.stackTrace),u&lt;=i+1&amp;&amp;(a!==I&amp;&amp;(n=void 0,r=[e]),o.rejectWith(n,r))}};i?t():(k.Deferred.getStackHook&amp;&amp;(t.stackTrace=k.Deferred.getStackHook()),C.setTimeout(t))}}return k.Deferred(function(e){o[0][3].add(l(0,e,m(r)?r:M,e.notifyWith)),o[1][3].add(l(0,e,m(t)?t:M)),o[2][3].add(l(0,e,m(n)?n:I))}).promise()},promise:function(e){return null!=e?k.extend(e,a):a}},s={};return k.each(o,function(e,t){var n=t[2],r=t[5];a[t[1]]=n.add,r&amp;&amp;n.add(function(){i=r},o[3-e][2].disable,o[3-e][3].disable,o[0][2].lock,o[0][3].lock),n.add(t[3].fire),s[t[0]]=function(){return s[t[0]+&quot;With&quot;](this===s?void 0:this,arguments),this},s[t[0]+&quot;With&quot;]=n.fireWith}),a.promise(s),e&amp;&amp;e.call(s,s),s},when:function(e){var n=arguments.length,t=n,r=Array(t),i=s.call(arguments),o=k.Deferred(),a=function(t){return function(e){r[t]=this,i[t]=1&lt;arguments.length?s.call(arguments):e,--n||o.resolveWith(r,i)}};if(n&lt;=1&amp;&amp;(W(e,o.done(a(t)).resolve,o.reject,!n),&quot;pending&quot;===o.state()||m(i[t]&amp;&amp;i[t].then)))return o.then();while(t--)W(i[t],a(t),o.reject);return o.promise()}});var $=/^(Eval|Internal|Range|Reference|Syntax|Type|URI)Error$/;k.Deferred.exceptionHook=function(e,t){C.console&amp;&amp;C.console.warn&amp;&amp;e&amp;&amp;$.test(e.name)&amp;&amp;C.console.warn(&quot;jQuery.Deferred exception: &quot;+e.message,e.stack,t)},k.readyException=function(e){C.setTimeout(function(){throw e})};var F=k.Deferred();function B(){E.removeEventListener(&quot;DOMContentLoaded&quot;,B),C.removeEventListener(&quot;load&quot;,B),k.ready()}k.fn.ready=function(e){return F.then(e)[&quot;catch&quot;](function(e){k.readyException(e)}),this},k.extend({isReady:!1,readyWait:1,ready:function(e){(!0===e?--k.readyWait:k.isReady)||(k.isReady=!0)!==e&amp;&amp;0&lt;--k.readyWait||F.resolveWith(E,[k])}}),k.ready.then=F.then,&quot;complete&quot;===E.readyState||&quot;loading&quot;!==E.readyState&amp;&amp;!E.documentElement.doScroll?C.setTimeout(k.ready):(E.addEventListener(&quot;DOMContentLoaded&quot;,B),C.addEventListener(&quot;load&quot;,B));var _=function(e,t,n,r,i,o,a){var s=0,u=e.length,l=null==n;if(&quot;object&quot;===w(n))for(s in i=!0,n)_(e,t,s,n[s],!0,o,a);else if(void 0!==r&amp;&amp;(i=!0,m(r)||(a=!0),l&amp;&amp;(a?(t.call(e,r),t=null):(l=t,t=function(e,t,n){return l.call(k(e),n)})),t))for(;s&lt;u;s++)t(e[s],n,a?r:r.call(e[s],s,t(e[s],n)));return i?e:l?t.call(e):u?t(e[0],n):o},z=/^-ms-/,U=/-([a-z])/g;function X(e,t){return t.toUpperCase()}function V(e){return e.replace(z,&quot;ms-&quot;).replace(U,X)}var G=function(e){return 1===e.nodeType||9===e.nodeType||!+e.nodeType};function Y(){this.expando=k.expando+Y.uid++}Y.uid=1,Y.prototype={cache:function(e){var t=e[this.expando];return t||(t={},G(e)&amp;&amp;(e.nodeType?e[this.expando]=t:Object.defineProperty(e,this.expando,{value:t,configurable:!0}))),t},set:function(e,t,n){var r,i=this.cache(e);if(&quot;string&quot;==typeof t)i[V(t)]=n;else for(r in t)i[V(r)]=t[r];return i},get:function(e,t){return void 0===t?this.cache(e):e[this.expando]&amp;&amp;e[this.expando][V(t)]},access:function(e,t,n){return void 0===t||t&amp;&amp;&quot;string&quot;==typeof t&amp;&amp;void 0===n?this.get(e,t):(this.set(e,t,n),void 0!==n?n:t)},remove:function(e,t){var n,r=e[this.expando];if(void 0!==r){if(void 0!==t){n=(t=Array.isArray(t)?t.map(V):(t=V(t))in r?[t]:t.match(R)||[]).length;while(n--)delete r[t[n]]}(void 0===t||k.isEmptyObject(r))&amp;&amp;(e.nodeType?e[this.expando]=void 0:delete e[this.expando])}},hasData:function(e){var t=e[this.expando];return void 0!==t&amp;&amp;!k.isEmptyObject(t)}};var Q=new Y,J=new Y,K=/^(?:\\{[\\w\\W]*\\}|\\[[\\w\\W]*\\])$/,Z=/[A-Z]/g;function ee(e,t,n){var r,i;if(void 0===n&amp;&amp;1===e.nodeType)if(r=&quot;data-&quot;+t.replace(Z,&quot;-$&amp;&quot;).toLowerCase(),&quot;string&quot;==typeof(n=e.getAttribute(r))){try{n=&quot;true&quot;===(i=n)||&quot;false&quot;!==i&amp;&amp;(&quot;null&quot;===i?null:i===+i+&quot;&quot;?+i:K.test(i)?JSON.parse(i):i)}catch(e){}J.set(e,t,n)}else n=void 0;return n}k.extend({hasData:function(e){return J.hasData(e)||Q.hasData(e)},data:function(e,t,n){return J.access(e,t,n)},removeData:function(e,t){J.remove(e,t)},_data:function(e,t,n){return Q.access(e,t,n)},_removeData:function(e,t){Q.remove(e,t)}}),k.fn.extend({data:function(n,e){var t,r,i,o=this[0],a=o&amp;&amp;o.attributes;if(void 0===n){if(this.length&amp;&amp;(i=J.get(o),1===o.nodeType&amp;&amp;!Q.get(o,&quot;hasDataAttrs&quot;))){t=a.length;while(t--)a[t]&amp;&amp;0===(r=a[t].name).indexOf(&quot;data-&quot;)&amp;&amp;(r=V(r.slice(5)),ee(o,r,i[r]));Q.set(o,&quot;hasDataAttrs&quot;,!0)}return i}return&quot;object&quot;==typeof n?this.each(function(){J.set(this,n)}):_(this,function(e){var t;if(o&amp;&amp;void 0===e)return void 0!==(t=J.get(o,n))?t:void 0!==(t=ee(o,n))?t:void 0;this.each(function(){J.set(this,n,e)})},null,e,1&lt;arguments.length,null,!0)},removeData:function(e){return this.each(function(){J.remove(this,e)})}}),k.extend({queue:function(e,t,n){var r;if(e)return t=(t||&quot;fx&quot;)+&quot;queue&quot;,r=Q.get(e,t),n&amp;&amp;(!r||Array.isArray(n)?r=Q.access(e,t,k.makeArray(n)):r.push(n)),r||[]},dequeue:function(e,t){t=t||&quot;fx&quot;;var n=k.queue(e,t),r=n.length,i=n.shift(),o=k._queueHooks(e,t);&quot;inprogress&quot;===i&amp;&amp;(i=n.shift(),r--),i&amp;&amp;(&quot;fx&quot;===t&amp;&amp;n.unshift(&quot;inprogress&quot;),delete o.stop,i.call(e,function(){k.dequeue(e,t)},o)),!r&amp;&amp;o&amp;&amp;o.empty.fire()},_queueHooks:function(e,t){var n=t+&quot;queueHooks&quot;;return Q.get(e,n)||Q.access(e,n,{empty:k.Callbacks(&quot;once memory&quot;).add(function(){Q.remove(e,[t+&quot;queue&quot;,n])})})}}),k.fn.extend({queue:function(t,n){var e=2;return&quot;string&quot;!=typeof t&amp;&amp;(n=t,t=&quot;fx&quot;,e--),arguments.length&lt;e?k.queue(this[0],t):void 0===n?this:this.each(function(){var e=k.queue(this,t,n);k._queueHooks(this,t),&quot;fx&quot;===t&amp;&amp;&quot;inprogress&quot;!==e[0]&amp;&amp;k.dequeue(this,t)})},dequeue:function(e){return this.each(function(){k.dequeue(this,e)})},clearQueue:function(e){return this.queue(e||&quot;fx&quot;,[])},promise:function(e,t){var n,r=1,i=k.Deferred(),o=this,a=this.length,s=function(){--r||i.resolveWith(o,[o])};&quot;string&quot;!=typeof e&amp;&amp;(t=e,e=void 0),e=e||&quot;fx&quot;;while(a--)(n=Q.get(o[a],e+&quot;queueHooks&quot;))&amp;&amp;n.empty&amp;&amp;(r++,n.empty.add(s));return s(),i.promise(t)}});var te=/[+-]?(?:\\d*\\.|)\\d+(?:[eE][+-]?\\d+|)/.source,ne=new RegExp(&quot;^(?:([+-])=|)(&quot;+te+&quot;)([a-z%]*)$&quot;,&quot;i&quot;),re=[&quot;Top&quot;,&quot;Right&quot;,&quot;Bottom&quot;,&quot;Left&quot;],ie=E.documentElement,oe=function(e){return k.contains(e.ownerDocument,e)},ae={composed:!0};ie.getRootNode&amp;&amp;(oe=function(e){return k.contains(e.ownerDocument,e)||e.getRootNode(ae)===e.ownerDocument});var se=function(e,t){return&quot;none&quot;===(e=t||e).style.display||&quot;&quot;===e.style.display&amp;&amp;oe(e)&amp;&amp;&quot;none&quot;===k.css(e,&quot;display&quot;)},ue=function(e,t,n,r){var i,o,a={};for(o in t)a[o]=e.style[o],e.style[o]=t[o];for(o in i=n.apply(e,r||[]),t)e.style[o]=a[o];return i};function le(e,t,n,r){var i,o,a=20,s=r?function(){return r.cur()}:function(){return k.css(e,t,&quot;&quot;)},u=s(),l=n&amp;&amp;n[3]||(k.cssNumber[t]?&quot;&quot;:&quot;px&quot;),c=e.nodeType&amp;&amp;(k.cssNumber[t]||&quot;px&quot;!==l&amp;&amp;+u)&amp;&amp;ne.exec(k.css(e,t));if(c&amp;&amp;c[3]!==l){u/=2,l=l||c[3],c=+u||1;while(a--)k.style(e,t,c+l),(1-o)*(1-(o=s()/u||.5))&lt;=0&amp;&amp;(a=0),c/=o;c*=2,k.style(e,t,c+l),n=n||[]}return n&amp;&amp;(c=+c||+u||0,i=n[1]?c+(n[1]+1)*n[2]:+n[2],r&amp;&amp;(r.unit=l,r.start=c,r.end=i)),i}var ce={};function fe(e,t){for(var n,r,i,o,a,s,u,l=[],c=0,f=e.length;c&lt;f;c++)(r=e[c]).style&amp;&amp;(n=r.style.display,t?(&quot;none&quot;===n&amp;&amp;(l[c]=Q.get(r,&quot;display&quot;)||null,l[c]||(r.style.display=&quot;&quot;)),&quot;&quot;===r.style.display&amp;&amp;se(r)&amp;&amp;(l[c]=(u=a=o=void 0,a=(i=r).ownerDocument,s=i.nodeName,(u=ce[s])||(o=a.body.appendChild(a.createElement(s)),u=k.css(o,&quot;display&quot;),o.parentNode.removeChild(o),&quot;none&quot;===u&amp;&amp;(u=&quot;block&quot;),ce[s]=u)))):&quot;none&quot;!==n&amp;&amp;(l[c]=&quot;none&quot;,Q.set(r,&quot;display&quot;,n)));for(c=0;c&lt;f;c++)null!=l[c]&amp;&amp;(e[c].style.display=l[c]);return e}k.fn.extend({show:function(){return fe(this,!0)},hide:function(){return fe(this)},toggle:function(e){return&quot;boolean&quot;==typeof e?e?this.show():this.hide():this.each(function(){se(this)?k(this).show():k(this).hide()})}});var pe=/^(?:checkbox|radio)$/i,de=/&lt;([a-z][^\\/\\0&gt;\\x20\\t\\r\\n\\f]*)/i,he=/^$|^module$|\\/(?:java|ecma)script/i,ge={option:[1,&quot;&lt;select multiple=&#x27;multiple&#x27;&gt;&quot;,&quot;&lt;/select&gt;&quot;],thead:[1,&quot;&lt;table&gt;&quot;,&quot;&lt;/table&gt;&quot;],col:[2,&quot;&lt;table&gt;&lt;colgroup&gt;&quot;,&quot;&lt;/colgroup&gt;&lt;/table&gt;&quot;],tr:[2,&quot;&lt;table&gt;&lt;tbody&gt;&quot;,&quot;&lt;/tbody&gt;&lt;/table&gt;&quot;],td:[3,&quot;&lt;table&gt;&lt;tbody&gt;&lt;tr&gt;&quot;,&quot;&lt;/tr&gt;&lt;/tbody&gt;&lt;/table&gt;&quot;],_default:[0,&quot;&quot;,&quot;&quot;]};function ve(e,t){var n;return n=&quot;undefined&quot;!=typeof e.getElementsByTagName?e.getElementsByTagName(t||&quot;*&quot;):&quot;undefined&quot;!=typeof e.querySelectorAll?e.querySelectorAll(t||&quot;*&quot;):[],void 0===t||t&amp;&amp;A(e,t)?k.merge([e],n):n}function ye(e,t){for(var n=0,r=e.length;n&lt;r;n++)Q.set(e[n],&quot;globalEval&quot;,!t||Q.get(t[n],&quot;globalEval&quot;))}ge.optgroup=ge.option,ge.tbody=ge.tfoot=ge.colgroup=ge.caption=ge.thead,ge.th=ge.td;var me,xe,be=/&lt;|&amp;#?\\w+;/;function we(e,t,n,r,i){for(var o,a,s,u,l,c,f=t.createDocumentFragment(),p=[],d=0,h=e.length;d&lt;h;d++)if((o=e[d])||0===o)if(&quot;object&quot;===w(o))k.merge(p,o.nodeType?[o]:o);else if(be.test(o)){a=a||f.appendChild(t.createElement(&quot;div&quot;)),s=(de.exec(o)||[&quot;&quot;,&quot;&quot;])[1].toLowerCase(),u=ge[s]||ge._default,a.innerHTML=u[1]+k.htmlPrefilter(o)+u[2],c=u[0];while(c--)a=a.lastChild;k.merge(p,a.childNodes),(a=f.firstChild).textContent=&quot;&quot;}else p.push(t.createTextNode(o));f.textContent=&quot;&quot;,d=0;while(o=p[d++])if(r&amp;&amp;-1&lt;k.inArray(o,r))i&amp;&amp;i.push(o);else if(l=oe(o),a=ve(f.appendChild(o),&quot;script&quot;),l&amp;&amp;ye(a),n){c=0;while(o=a[c++])he.test(o.type||&quot;&quot;)&amp;&amp;n.push(o)}return f}me=E.createDocumentFragment().appendChild(E.createElement(&quot;div&quot;)),(xe=E.createElement(&quot;input&quot;)).setAttribute(&quot;type&quot;,&quot;radio&quot;),xe.setAttribute(&quot;checked&quot;,&quot;checked&quot;),xe.setAttribute(&quot;name&quot;,&quot;t&quot;),me.appendChild(xe),y.checkClone=me.cloneNode(!0).cloneNode(!0).lastChild.checked,me.innerHTML=&quot;&lt;textarea&gt;x&lt;/textarea&gt;&quot;,y.noCloneChecked=!!me.cloneNode(!0).lastChild.defaultValue;var Te=/^key/,Ce=/^(?:mouse|pointer|contextmenu|drag|drop)|click/,Ee=/^([^.]*)(?:\\.(.+)|)/;function ke(){return!0}function Se(){return!1}function Ne(e,t){return e===function(){try{return E.activeElement}catch(e){}}()==(&quot;focus&quot;===t)}function Ae(e,t,n,r,i,o){var a,s;if(&quot;object&quot;==typeof t){for(s in&quot;string&quot;!=typeof n&amp;&amp;(r=r||n,n=void 0),t)Ae(e,s,n,r,t[s],o);return e}if(null==r&amp;&amp;null==i?(i=n,r=n=void 0):null==i&amp;&amp;(&quot;string&quot;==typeof n?(i=r,r=void 0):(i=r,r=n,n=void 0)),!1===i)i=Se;else if(!i)return e;return 1===o&amp;&amp;(a=i,(i=function(e){return k().off(e),a.apply(this,arguments)}).guid=a.guid||(a.guid=k.guid++)),e.each(function(){k.event.add(this,t,i,r,n)})}function De(e,i,o){o?(Q.set(e,i,!1),k.event.add(e,i,{namespace:!1,handler:function(e){var t,n,r=Q.get(this,i);if(1&amp;e.isTrigger&amp;&amp;this[i]){if(r.length)(k.event.special[i]||{}).delegateType&amp;&amp;e.stopPropagation();else if(r=s.call(arguments),Q.set(this,i,r),t=o(this,i),this[i](),r!==(n=Q.get(this,i))||t?Q.set(this,i,!1):n={},r!==n)return e.stopImmediatePropagation(),e.preventDefault(),n.value}else r.length&amp;&amp;(Q.set(this,i,{value:k.event.trigger(k.extend(r[0],k.Event.prototype),r.slice(1),this)}),e.stopImmediatePropagation())}})):void 0===Q.get(e,i)&amp;&amp;k.event.add(e,i,ke)}k.event={global:{},add:function(t,e,n,r,i){var o,a,s,u,l,c,f,p,d,h,g,v=Q.get(t);if(v){n.handler&amp;&amp;(n=(o=n).handler,i=o.selector),i&amp;&amp;k.find.matchesSelector(ie,i),n.guid||(n.guid=k.guid++),(u=v.events)||(u=v.events={}),(a=v.handle)||(a=v.handle=function(e){return&quot;undefined&quot;!=typeof k&amp;&amp;k.event.triggered!==e.type?k.event.dispatch.apply(t,arguments):void 0}),l=(e=(e||&quot;&quot;).match(R)||[&quot;&quot;]).length;while(l--)d=g=(s=Ee.exec(e[l])||[])[1],h=(s[2]||&quot;&quot;).split(&quot;.&quot;).sort(),d&amp;&amp;(f=k.event.special[d]||{},d=(i?f.delegateType:f.bindType)||d,f=k.event.special[d]||{},c=k.extend({type:d,origType:g,data:r,handler:n,guid:n.guid,selector:i,needsContext:i&amp;&amp;k.expr.match.needsContext.test(i),namespace:h.join(&quot;.&quot;)},o),(p=u[d])||((p=u[d]=[]).delegateCount=0,f.setup&amp;&amp;!1!==f.setup.call(t,r,h,a)||t.addEventListener&amp;&amp;t.addEventListener(d,a)),f.add&amp;&amp;(f.add.call(t,c),c.handler.guid||(c.handler.guid=n.guid)),i?p.splice(p.delegateCount++,0,c):p.push(c),k.event.global[d]=!0)}},remove:function(e,t,n,r,i){var o,a,s,u,l,c,f,p,d,h,g,v=Q.hasData(e)&amp;&amp;Q.get(e);if(v&amp;&amp;(u=v.events)){l=(t=(t||&quot;&quot;).match(R)||[&quot;&quot;]).length;while(l--)if(d=g=(s=Ee.exec(t[l])||[])[1],h=(s[2]||&quot;&quot;).split(&quot;.&quot;).sort(),d){f=k.event.special[d]||{},p=u[d=(r?f.delegateType:f.bindType)||d]||[],s=s[2]&amp;&amp;new RegExp(&quot;(^|\\\\.)&quot;+h.join(&quot;\\\\.(?:.*\\\\.|)&quot;)+&quot;(\\\\.|$)&quot;),a=o=p.length;while(o--)c=p[o],!i&amp;&amp;g!==c.origType||n&amp;&amp;n.guid!==c.guid||s&amp;&amp;!s.test(c.namespace)||r&amp;&amp;r!==c.selector&amp;&amp;(&quot;**&quot;!==r||!c.selector)||(p.splice(o,1),c.selector&amp;&amp;p.delegateCount--,f.remove&amp;&amp;f.remove.call(e,c));a&amp;&amp;!p.length&amp;&amp;(f.teardown&amp;&amp;!1!==f.teardown.call(e,h,v.handle)||k.removeEvent(e,d,v.handle),delete u[d])}else for(d in u)k.event.remove(e,d+t[l],n,r,!0);k.isEmptyObject(u)&amp;&amp;Q.remove(e,&quot;handle events&quot;)}},dispatch:function(e){var t,n,r,i,o,a,s=k.event.fix(e),u=new Array(arguments.length),l=(Q.get(this,&quot;events&quot;)||{})[s.type]||[],c=k.event.special[s.type]||{};for(u[0]=s,t=1;t&lt;arguments.length;t++)u[t]=arguments[t];if(s.delegateTarget=this,!c.preDispatch||!1!==c.preDispatch.call(this,s)){a=k.event.handlers.call(this,s,l),t=0;while((i=a[t++])&amp;&amp;!s.isPropagationStopped()){s.currentTarget=i.elem,n=0;while((o=i.handlers[n++])&amp;&amp;!s.isImmediatePropagationStopped())s.rnamespace&amp;&amp;!1!==o.namespace&amp;&amp;!s.rnamespace.test(o.namespace)||(s.handleObj=o,s.data=o.data,void 0!==(r=((k.event.special[o.origType]||{}).handle||o.handler).apply(i.elem,u))&amp;&amp;!1===(s.result=r)&amp;&amp;(s.preventDefault(),s.stopPropagation()))}return c.postDispatch&amp;&amp;c.postDispatch.call(this,s),s.result}},handlers:function(e,t){var n,r,i,o,a,s=[],u=t.delegateCount,l=e.target;if(u&amp;&amp;l.nodeType&amp;&amp;!(&quot;click&quot;===e.type&amp;&amp;1&lt;=e.button))for(;l!==this;l=l.parentNode||this)if(1===l.nodeType&amp;&amp;(&quot;click&quot;!==e.type||!0!==l.disabled)){for(o=[],a={},n=0;n&lt;u;n++)void 0===a[i=(r=t[n]).selector+&quot; &quot;]&amp;&amp;(a[i]=r.needsContext?-1&lt;k(i,this).index(l):k.find(i,this,null,[l]).length),a[i]&amp;&amp;o.push(r);o.length&amp;&amp;s.push({elem:l,handlers:o})}return l=this,u&lt;t.length&amp;&amp;s.push({elem:l,handlers:t.slice(u)}),s},addProp:function(t,e){Object.defineProperty(k.Event.prototype,t,{enumerable:!0,configurable:!0,get:m(e)?function(){if(this.originalEvent)return e(this.originalEvent)}:function(){if(this.originalEvent)return this.originalEvent[t]},set:function(e){Object.defineProperty(this,t,{enumerable:!0,configurable:!0,writable:!0,value:e})}})},fix:function(e){return e[k.expando]?e:new k.Event(e)},special:{load:{noBubble:!0},click:{setup:function(e){var t=this||e;return pe.test(t.type)&amp;&amp;t.click&amp;&amp;A(t,&quot;input&quot;)&amp;&amp;De(t,&quot;click&quot;,ke),!1},trigger:function(e){var t=this||e;return pe.test(t.type)&amp;&amp;t.click&amp;&amp;A(t,&quot;input&quot;)&amp;&amp;De(t,&quot;click&quot;),!0},_default:function(e){var t=e.target;return pe.test(t.type)&amp;&amp;t.click&amp;&amp;A(t,&quot;input&quot;)&amp;&amp;Q.get(t,&quot;click&quot;)||A(t,&quot;a&quot;)}},beforeunload:{postDispatch:function(e){void 0!==e.result&amp;&amp;e.originalEvent&amp;&amp;(e.originalEvent.returnValue=e.result)}}}},k.removeEvent=function(e,t,n){e.removeEventListener&amp;&amp;e.removeEventListener(t,n)},k.Event=function(e,t){if(!(this instanceof k.Event))return new k.Event(e,t);e&amp;&amp;e.type?(this.originalEvent=e,this.type=e.type,this.isDefaultPrevented=e.defaultPrevented||void 0===e.defaultPrevented&amp;&amp;!1===e.returnValue?ke:Se,this.target=e.target&amp;&amp;3===e.target.nodeType?e.target.parentNode:e.target,this.currentTarget=e.currentTarget,this.relatedTarget=e.relatedTarget):this.type=e,t&amp;&amp;k.extend(this,t),this.timeStamp=e&amp;&amp;e.timeStamp||Date.now(),this[k.expando]=!0},k.Event.prototype={constructor:k.Event,isDefaultPrevented:Se,isPropagationStopped:Se,isImmediatePropagationStopped:Se,isSimulated:!1,preventDefault:function(){var e=this.originalEvent;this.isDefaultPrevented=ke,e&amp;&amp;!this.isSimulated&amp;&amp;e.preventDefault()},stopPropagation:function(){var e=this.originalEvent;this.isPropagationStopped=ke,e&amp;&amp;!this.isSimulated&amp;&amp;e.stopPropagation()},stopImmediatePropagation:function(){var e=this.originalEvent;this.isImmediatePropagationStopped=ke,e&amp;&amp;!this.isSimulated&amp;&amp;e.stopImmediatePropagation(),this.stopPropagation()}},k.each({altKey:!0,bubbles:!0,cancelable:!0,changedTouches:!0,ctrlKey:!0,detail:!0,eventPhase:!0,metaKey:!0,pageX:!0,pageY:!0,shiftKey:!0,view:!0,&quot;char&quot;:!0,code:!0,charCode:!0,key:!0,keyCode:!0,button:!0,buttons:!0,clientX:!0,clientY:!0,offsetX:!0,offsetY:!0,pointerId:!0,pointerType:!0,screenX:!0,screenY:!0,targetTouches:!0,toElement:!0,touches:!0,which:function(e){var t=e.button;return null==e.which&amp;&amp;Te.test(e.type)?null!=e.charCode?e.charCode:e.keyCode:!e.which&amp;&amp;void 0!==t&amp;&amp;Ce.test(e.type)?1&amp;t?1:2&amp;t?3:4&amp;t?2:0:e.which}},k.event.addProp),k.each({focus:&quot;focusin&quot;,blur:&quot;focusout&quot;},function(e,t){k.event.special[e]={setup:function(){return De(this,e,Ne),!1},trigger:function(){return De(this,e),!0},delegateType:t}}),k.each({mouseenter:&quot;mouseover&quot;,mouseleave:&quot;mouseout&quot;,pointerenter:&quot;pointerover&quot;,pointerleave:&quot;pointerout&quot;},function(e,i){k.event.special[e]={delegateType:i,bindType:i,handle:function(e){var t,n=e.relatedTarget,r=e.handleObj;return n&amp;&amp;(n===this||k.contains(this,n))||(e.type=r.origType,t=r.handler.apply(this,arguments),e.type=i),t}}}),k.fn.extend({on:function(e,t,n,r){return Ae(this,e,t,n,r)},one:function(e,t,n,r){return Ae(this,e,t,n,r,1)},off:function(e,t,n){var r,i;if(e&amp;&amp;e.preventDefault&amp;&amp;e.handleObj)return r=e.handleObj,k(e.delegateTarget).off(r.namespace?r.origType+&quot;.&quot;+r.namespace:r.origType,r.selector,r.handler),this;if(&quot;object&quot;==typeof e){for(i in e)this.off(i,t,e[i]);return this}return!1!==t&amp;&amp;&quot;function&quot;!=typeof t||(n=t,t=void 0),!1===n&amp;&amp;(n=Se),this.each(function(){k.event.remove(this,e,n,t)})}});var je=/&lt;(?!area|br|col|embed|hr|img|input|link|meta|param)(([a-z][^\\/\\0&gt;\\x20\\t\\r\\n\\f]*)[^&gt;]*)\\/&gt;/gi,qe=/&lt;script|&lt;style|&lt;link/i,Le=/checked\\s*(?:[^=]|=\\s*.checked.)/i,He=/^\\s*&lt;!(?:\\[CDATA\\[|--)|(?:\\]\\]|--)&gt;\\s*$/g;function Oe(e,t){return A(e,&quot;table&quot;)&amp;&amp;A(11!==t.nodeType?t:t.firstChild,&quot;tr&quot;)&amp;&amp;k(e).children(&quot;tbody&quot;)[0]||e}function Pe(e){return e.type=(null!==e.getAttribute(&quot;type&quot;))+&quot;/&quot;+e.type,e}function Re(e){return&quot;true/&quot;===(e.type||&quot;&quot;).slice(0,5)?e.type=e.type.slice(5):e.removeAttribute(&quot;type&quot;),e}function Me(e,t){var n,r,i,o,a,s,u,l;if(1===t.nodeType){if(Q.hasData(e)&amp;&amp;(o=Q.access(e),a=Q.set(t,o),l=o.events))for(i in delete a.handle,a.events={},l)for(n=0,r=l[i].length;n&lt;r;n++)k.event.add(t,i,l[i][n]);J.hasData(e)&amp;&amp;(s=J.access(e),u=k.extend({},s),J.set(t,u))}}function Ie(n,r,i,o){r=g.apply([],r);var e,t,a,s,u,l,c=0,f=n.length,p=f-1,d=r[0],h=m(d);if(h||1&lt;f&amp;&amp;&quot;string&quot;==typeof d&amp;&amp;!y.checkClone&amp;&amp;Le.test(d))return n.each(function(e){var t=n.eq(e);h&amp;&amp;(r[0]=d.call(this,e,t.html())),Ie(t,r,i,o)});if(f&amp;&amp;(t=(e=we(r,n[0].ownerDocument,!1,n,o)).firstChild,1===e.childNodes.length&amp;&amp;(e=t),t||o)){for(s=(a=k.map(ve(e,&quot;script&quot;),Pe)).length;c&lt;f;c++)u=e,c!==p&amp;&amp;(u=k.clone(u,!0,!0),s&amp;&amp;k.merge(a,ve(u,&quot;script&quot;))),i.call(n[c],u,c);if(s)for(l=a[a.length-1].ownerDocument,k.map(a,Re),c=0;c&lt;s;c++)u=a[c],he.test(u.type||&quot;&quot;)&amp;&amp;!Q.access(u,&quot;globalEval&quot;)&amp;&amp;k.contains(l,u)&amp;&amp;(u.src&amp;&amp;&quot;module&quot;!==(u.type||&quot;&quot;).toLowerCase()?k._evalUrl&amp;&amp;!u.noModule&amp;&amp;k._evalUrl(u.src,{nonce:u.nonce||u.getAttribute(&quot;nonce&quot;)}):b(u.textContent.replace(He,&quot;&quot;),u,l))}return n}function We(e,t,n){for(var r,i=t?k.filter(t,e):e,o=0;null!=(r=i[o]);o++)n||1!==r.nodeType||k.cleanData(ve(r)),r.parentNode&amp;&amp;(n&amp;&amp;oe(r)&amp;&amp;ye(ve(r,&quot;script&quot;)),r.parentNode.removeChild(r));return e}k.extend({htmlPrefilter:function(e){return e.replace(je,&quot;&lt;$1&gt;&lt;/$2&gt;&quot;)},clone:function(e,t,n){var r,i,o,a,s,u,l,c=e.cloneNode(!0),f=oe(e);if(!(y.noCloneChecked||1!==e.nodeType&amp;&amp;11!==e.nodeType||k.isXMLDoc(e)))for(a=ve(c),r=0,i=(o=ve(e)).length;r&lt;i;r++)s=o[r],u=a[r],void 0,&quot;input&quot;===(l=u.nodeName.toLowerCase())&amp;&amp;pe.test(s.type)?u.checked=s.checked:&quot;input&quot;!==l&amp;&amp;&quot;textarea&quot;!==l||(u.defaultValue=s.defaultValue);if(t)if(n)for(o=o||ve(e),a=a||ve(c),r=0,i=o.length;r&lt;i;r++)Me(o[r],a[r]);else Me(e,c);return 0&lt;(a=ve(c,&quot;script&quot;)).length&amp;&amp;ye(a,!f&amp;&amp;ve(e,&quot;script&quot;)),c},cleanData:function(e){for(var t,n,r,i=k.event.special,o=0;void 0!==(n=e[o]);o++)if(G(n)){if(t=n[Q.expando]){if(t.events)for(r in t.events)i[r]?k.event.remove(n,r):k.removeEvent(n,r,t.handle);n[Q.expando]=void 0}n[J.expando]&amp;&amp;(n[J.expando]=void 0)}}}),k.fn.extend({detach:function(e){return We(this,e,!0)},remove:function(e){return We(this,e)},text:function(e){return _(this,function(e){return void 0===e?k.text(this):this.empty().each(function(){1!==this.nodeType&amp;&amp;11!==this.nodeType&amp;&amp;9!==this.nodeType||(this.textContent=e)})},null,e,arguments.length)},append:function(){return Ie(this,arguments,function(e){1!==this.nodeType&amp;&amp;11!==this.nodeType&amp;&amp;9!==this.nodeType||Oe(this,e).appendChild(e)})},prepend:function(){return Ie(this,arguments,function(e){if(1===this.nodeType||11===this.nodeType||9===this.nodeType){var t=Oe(this,e);t.insertBefore(e,t.firstChild)}})},before:function(){return Ie(this,arguments,function(e){this.parentNode&amp;&amp;this.parentNode.insertBefore(e,this)})},after:function(){return Ie(this,arguments,function(e){this.parentNode&amp;&amp;this.parentNode.insertBefore(e,this.nextSibling)})},empty:function(){for(var e,t=0;null!=(e=this[t]);t++)1===e.nodeType&amp;&amp;(k.cleanData(ve(e,!1)),e.textContent=&quot;&quot;);return this},clone:function(e,t){return e=null!=e&amp;&amp;e,t=null==t?e:t,this.map(function(){return k.clone(this,e,t)})},html:function(e){return _(this,function(e){var t=this[0]||{},n=0,r=this.length;if(void 0===e&amp;&amp;1===t.nodeType)return t.innerHTML;if(&quot;string&quot;==typeof e&amp;&amp;!qe.test(e)&amp;&amp;!ge[(de.exec(e)||[&quot;&quot;,&quot;&quot;])[1].toLowerCase()]){e=k.htmlPrefilter(e);try{for(;n&lt;r;n++)1===(t=this[n]||{}).nodeType&amp;&amp;(k.cleanData(ve(t,!1)),t.innerHTML=e);t=0}catch(e){}}t&amp;&amp;this.empty().append(e)},null,e,arguments.length)},replaceWith:function(){var n=[];return Ie(this,arguments,function(e){var t=this.parentNode;k.inArray(this,n)&lt;0&amp;&amp;(k.cleanData(ve(this)),t&amp;&amp;t.replaceChild(e,this))},n)}}),k.each({appendTo:&quot;append&quot;,prependTo:&quot;prepend&quot;,insertBefore:&quot;before&quot;,insertAfter:&quot;after&quot;,replaceAll:&quot;replaceWith&quot;},function(e,a){k.fn[e]=function(e){for(var t,n=[],r=k(e),i=r.length-1,o=0;o&lt;=i;o++)t=o===i?this:this.clone(!0),k(r[o])[a](t),u.apply(n,t.get());return this.pushStack(n)}});var $e=new RegExp(&quot;^(&quot;+te+&quot;)(?!px)[a-z%]+$&quot;,&quot;i&quot;),Fe=function(e){var t=e.ownerDocument.defaultView;return t&amp;&amp;t.opener||(t=C),t.getComputedStyle(e)},Be=new RegExp(re.join(&quot;|&quot;),&quot;i&quot;);function _e(e,t,n){var r,i,o,a,s=e.style;return(n=n||Fe(e))&amp;&amp;(&quot;&quot;!==(a=n.getPropertyValue(t)||n[t])||oe(e)||(a=k.style(e,t)),!y.pixelBoxStyles()&amp;&amp;$e.test(a)&amp;&amp;Be.test(t)&amp;&amp;(r=s.width,i=s.minWidth,o=s.maxWidth,s.minWidth=s.maxWidth=s.width=a,a=n.width,s.width=r,s.minWidth=i,s.maxWidth=o)),void 0!==a?a+&quot;&quot;:a}function ze(e,t){return{get:function(){if(!e())return(this.get=t).apply(this,arguments);delete this.get}}}!function(){function e(){if(u){s.style.cssText=&quot;position:absolute;left:-11111px;width:60px;margin-top:1px;padding:0;border:0&quot;,u.style.cssText=&quot;position:relative;display:block;box-sizing:border-box;overflow:scroll;margin:auto;border:1px;padding:1px;width:60%;top:1%&quot;,ie.appendChild(s).appendChild(u);var e=C.getComputedStyle(u);n=&quot;1%&quot;!==e.top,a=12===t(e.marginLeft),u.style.right=&quot;60%&quot;,o=36===t(e.right),r=36===t(e.width),u.style.position=&quot;absolute&quot;,i=12===t(u.offsetWidth/3),ie.removeChild(s),u=null}}function t(e){return Math.round(parseFloat(e))}var n,r,i,o,a,s=E.createElement(&quot;div&quot;),u=E.createElement(&quot;div&quot;);u.style&amp;&amp;(u.style.backgroundClip=&quot;content-box&quot;,u.cloneNode(!0).style.backgroundClip=&quot;&quot;,y.clearCloneStyle=&quot;content-box&quot;===u.style.backgroundClip,k.extend(y,{boxSizingReliable:function(){return e(),r},pixelBoxStyles:function(){return e(),o},pixelPosition:function(){return e(),n},reliableMarginLeft:function(){return e(),a},scrollboxSize:function(){return e(),i}}))}();var Ue=[&quot;Webkit&quot;,&quot;Moz&quot;,&quot;ms&quot;],Xe=E.createElement(&quot;div&quot;).style,Ve={};function Ge(e){var t=k.cssProps[e]||Ve[e];return t||(e in Xe?e:Ve[e]=function(e){var t=e[0].toUpperCase()+e.slice(1),n=Ue.length;while(n--)if((e=Ue[n]+t)in Xe)return e}(e)||e)}var Ye=/^(none|table(?!-c[ea]).+)/,Qe=/^--/,Je={position:&quot;absolute&quot;,visibility:&quot;hidden&quot;,display:&quot;block&quot;},Ke={letterSpacing:&quot;0&quot;,fontWeight:&quot;400&quot;};function Ze(e,t,n){var r=ne.exec(t);return r?Math.max(0,r[2]-(n||0))+(r[3]||&quot;px&quot;):t}function et(e,t,n,r,i,o){var a=&quot;width&quot;===t?1:0,s=0,u=0;if(n===(r?&quot;border&quot;:&quot;content&quot;))return 0;for(;a&lt;4;a+=2)&quot;margin&quot;===n&amp;&amp;(u+=k.css(e,n+re[a],!0,i)),r?(&quot;content&quot;===n&amp;&amp;(u-=k.css(e,&quot;padding&quot;+re[a],!0,i)),&quot;margin&quot;!==n&amp;&amp;(u-=k.css(e,&quot;border&quot;+re[a]+&quot;Width&quot;,!0,i))):(u+=k.css(e,&quot;padding&quot;+re[a],!0,i),&quot;padding&quot;!==n?u+=k.css(e,&quot;border&quot;+re[a]+&quot;Width&quot;,!0,i):s+=k.css(e,&quot;border&quot;+re[a]+&quot;Width&quot;,!0,i));return!r&amp;&amp;0&lt;=o&amp;&amp;(u+=Math.max(0,Math.ceil(e[&quot;offset&quot;+t[0].toUpperCase()+t.slice(1)]-o-u-s-.5))||0),u}function tt(e,t,n){var r=Fe(e),i=(!y.boxSizingReliable()||n)&amp;&amp;&quot;border-box&quot;===k.css(e,&quot;boxSizing&quot;,!1,r),o=i,a=_e(e,t,r),s=&quot;offset&quot;+t[0].toUpperCase()+t.slice(1);if($e.test(a)){if(!n)return a;a=&quot;auto&quot;}return(!y.boxSizingReliable()&amp;&amp;i||&quot;auto&quot;===a||!parseFloat(a)&amp;&amp;&quot;inline&quot;===k.css(e,&quot;display&quot;,!1,r))&amp;&amp;e.getClientRects().length&amp;&amp;(i=&quot;border-box&quot;===k.css(e,&quot;boxSizing&quot;,!1,r),(o=s in e)&amp;&amp;(a=e[s])),(a=parseFloat(a)||0)+et(e,t,n||(i?&quot;border&quot;:&quot;content&quot;),o,r,a)+&quot;px&quot;}function nt(e,t,n,r,i){return new nt.prototype.init(e,t,n,r,i)}k.extend({cssHooks:{opacity:{get:function(e,t){if(t){var n=_e(e,&quot;opacity&quot;);return&quot;&quot;===n?&quot;1&quot;:n}}}},cssNumber:{animationIterationCount:!0,columnCount:!0,fillOpacity:!0,flexGrow:!0,flexShrink:!0,fontWeight:!0,gridArea:!0,gridColumn:!0,gridColumnEnd:!0,gridColumnStart:!0,gridRow:!0,gridRowEnd:!0,gridRowStart:!0,lineHeight:!0,opacity:!0,order:!0,orphans:!0,widows:!0,zIndex:!0,zoom:!0},cssProps:{},style:function(e,t,n,r){if(e&amp;&amp;3!==e.nodeType&amp;&amp;8!==e.nodeType&amp;&amp;e.style){var i,o,a,s=V(t),u=Qe.test(t),l=e.style;if(u||(t=Ge(s)),a=k.cssHooks[t]||k.cssHooks[s],void 0===n)return a&amp;&amp;&quot;get&quot;in a&amp;&amp;void 0!==(i=a.get(e,!1,r))?i:l[t];&quot;string&quot;===(o=typeof n)&amp;&amp;(i=ne.exec(n))&amp;&amp;i[1]&amp;&amp;(n=le(e,t,i),o=&quot;number&quot;),null!=n&amp;&amp;n==n&amp;&amp;(&quot;number&quot;!==o||u||(n+=i&amp;&amp;i[3]||(k.cssNumber[s]?&quot;&quot;:&quot;px&quot;)),y.clearCloneStyle||&quot;&quot;!==n||0!==t.indexOf(&quot;background&quot;)||(l[t]=&quot;inherit&quot;),a&amp;&amp;&quot;set&quot;in a&amp;&amp;void 0===(n=a.set(e,n,r))||(u?l.setProperty(t,n):l[t]=n))}},css:function(e,t,n,r){var i,o,a,s=V(t);return Qe.test(t)||(t=Ge(s)),(a=k.cssHooks[t]||k.cssHooks[s])&amp;&amp;&quot;get&quot;in a&amp;&amp;(i=a.get(e,!0,n)),void 0===i&amp;&amp;(i=_e(e,t,r)),&quot;normal&quot;===i&amp;&amp;t in Ke&amp;&amp;(i=Ke[t]),&quot;&quot;===n||n?(o=parseFloat(i),!0===n||isFinite(o)?o||0:i):i}}),k.each([&quot;height&quot;,&quot;width&quot;],function(e,u){k.cssHooks[u]={get:function(e,t,n){if(t)return!Ye.test(k.css(e,&quot;display&quot;))||e.getClientRects().length&amp;&amp;e.getBoundingClientRect().width?tt(e,u,n):ue(e,Je,function(){return tt(e,u,n)})},set:function(e,t,n){var r,i=Fe(e),o=!y.scrollboxSize()&amp;&amp;&quot;absolute&quot;===i.position,a=(o||n)&amp;&amp;&quot;border-box&quot;===k.css(e,&quot;boxSizing&quot;,!1,i),s=n?et(e,u,n,a,i):0;return a&amp;&amp;o&amp;&amp;(s-=Math.ceil(e[&quot;offset&quot;+u[0].toUpperCase()+u.slice(1)]-parseFloat(i[u])-et(e,u,&quot;border&quot;,!1,i)-.5)),s&amp;&amp;(r=ne.exec(t))&amp;&amp;&quot;px&quot;!==(r[3]||&quot;px&quot;)&amp;&amp;(e.style[u]=t,t=k.css(e,u)),Ze(0,t,s)}}}),k.cssHooks.marginLeft=ze(y.reliableMarginLeft,function(e,t){if(t)return(parseFloat(_e(e,&quot;marginLeft&quot;))||e.getBoundingClientRect().left-ue(e,{marginLeft:0},function(){return e.getBoundingClientRect().left}))+&quot;px&quot;}),k.each({margin:&quot;&quot;,padding:&quot;&quot;,border:&quot;Width&quot;},function(i,o){k.cssHooks[i+o]={expand:function(e){for(var t=0,n={},r=&quot;string&quot;==typeof e?e.split(&quot; &quot;):[e];t&lt;4;t++)n[i+re[t]+o]=r[t]||r[t-2]||r[0];return n}},&quot;margin&quot;!==i&amp;&amp;(k.cssHooks[i+o].set=Ze)}),k.fn.extend({css:function(e,t){return _(this,function(e,t,n){var r,i,o={},a=0;if(Array.isArray(t)){for(r=Fe(e),i=t.length;a&lt;i;a++)o[t[a]]=k.css(e,t[a],!1,r);return o}return void 0!==n?k.style(e,t,n):k.css(e,t)},e,t,1&lt;arguments.length)}}),((k.Tween=nt).prototype={constructor:nt,init:function(e,t,n,r,i,o){this.elem=e,this.prop=n,this.easing=i||k.easing._default,this.options=t,this.start=this.now=this.cur(),this.end=r,this.unit=o||(k.cssNumber[n]?&quot;&quot;:&quot;px&quot;)},cur:function(){var e=nt.propHooks[this.prop];return e&amp;&amp;e.get?e.get(this):nt.propHooks._default.get(this)},run:function(e){var t,n=nt.propHooks[this.prop];return this.options.duration?this.pos=t=k.easing[this.easing](e,this.options.duration*e,0,1,this.options.duration):this.pos=t=e,this.now=(this.end-this.start)*t+this.start,this.options.step&amp;&amp;this.options.step.call(this.elem,this.now,this),n&amp;&amp;n.set?n.set(this):nt.propHooks._default.set(this),this}}).init.prototype=nt.prototype,(nt.propHooks={_default:{get:function(e){var t;return 1!==e.elem.nodeType||null!=e.elem[e.prop]&amp;&amp;null==e.elem.style[e.prop]?e.elem[e.prop]:(t=k.css(e.elem,e.prop,&quot;&quot;))&amp;&amp;&quot;auto&quot;!==t?t:0},set:function(e){k.fx.step[e.prop]?k.fx.step[e.prop](e):1!==e.elem.nodeType||!k.cssHooks[e.prop]&amp;&amp;null==e.elem.style[Ge(e.prop)]?e.elem[e.prop]=e.now:k.style(e.elem,e.prop,e.now+e.unit)}}}).scrollTop=nt.propHooks.scrollLeft={set:function(e){e.elem.nodeType&amp;&amp;e.elem.parentNode&amp;&amp;(e.elem[e.prop]=e.now)}},k.easing={linear:function(e){return e},swing:function(e){return.5-Math.cos(e*Math.PI)/2},_default:&quot;swing&quot;},k.fx=nt.prototype.init,k.fx.step={};var rt,it,ot,at,st=/^(?:toggle|show|hide)$/,ut=/queueHooks$/;function lt(){it&amp;&amp;(!1===E.hidden&amp;&amp;C.requestAnimationFrame?C.requestAnimationFrame(lt):C.setTimeout(lt,k.fx.interval),k.fx.tick())}function ct(){return C.setTimeout(function(){rt=void 0}),rt=Date.now()}function ft(e,t){var n,r=0,i={height:e};for(t=t?1:0;r&lt;4;r+=2-t)i[&quot;margin&quot;+(n=re[r])]=i[&quot;padding&quot;+n]=e;return t&amp;&amp;(i.opacity=i.width=e),i}function pt(e,t,n){for(var r,i=(dt.tweeners[t]||[]).concat(dt.tweeners[&quot;*&quot;]),o=0,a=i.length;o&lt;a;o++)if(r=i[o].call(n,t,e))return r}function dt(o,e,t){var n,a,r=0,i=dt.prefilters.length,s=k.Deferred().always(function(){delete u.elem}),u=function(){if(a)return!1;for(var e=rt||ct(),t=Math.max(0,l.startTime+l.duration-e),n=1-(t/l.duration||0),r=0,i=l.tweens.length;r&lt;i;r++)l.tweens[r].run(n);return s.notifyWith(o,[l,n,t]),n&lt;1&amp;&amp;i?t:(i||s.notifyWith(o,[l,1,0]),s.resolveWith(o,[l]),!1)},l=s.promise({elem:o,props:k.extend({},e),opts:k.extend(!0,{specialEasing:{},easing:k.easing._default},t),originalProperties:e,originalOptions:t,startTime:rt||ct(),duration:t.duration,tweens:[],createTween:function(e,t){var n=k.Tween(o,l.opts,e,t,l.opts.specialEasing[e]||l.opts.easing);return l.tweens.push(n),n},stop:function(e){var t=0,n=e?l.tweens.length:0;if(a)return this;for(a=!0;t&lt;n;t++)l.tweens[t].run(1);return e?(s.notifyWith(o,[l,1,0]),s.resolveWith(o,[l,e])):s.rejectWith(o,[l,e]),this}}),c=l.props;for(!function(e,t){var n,r,i,o,a;for(n in e)if(i=t[r=V(n)],o=e[n],Array.isArray(o)&amp;&amp;(i=o[1],o=e[n]=o[0]),n!==r&amp;&amp;(e[r]=o,delete e[n]),(a=k.cssHooks[r])&amp;&amp;&quot;expand&quot;in a)for(n in o=a.expand(o),delete e[r],o)n in e||(e[n]=o[n],t[n]=i);else t[r]=i}(c,l.opts.specialEasing);r&lt;i;r++)if(n=dt.prefilters[r].call(l,o,c,l.opts))return m(n.stop)&amp;&amp;(k._queueHooks(l.elem,l.opts.queue).stop=n.stop.bind(n)),n;return k.map(c,pt,l),m(l.opts.start)&amp;&amp;l.opts.start.call(o,l),l.progress(l.opts.progress).done(l.opts.done,l.opts.complete).fail(l.opts.fail).always(l.opts.always),k.fx.timer(k.extend(u,{elem:o,anim:l,queue:l.opts.queue})),l}k.Animation=k.extend(dt,{tweeners:{&quot;*&quot;:[function(e,t){var n=this.createTween(e,t);return le(n.elem,e,ne.exec(t),n),n}]},tweener:function(e,t){m(e)?(t=e,e=[&quot;*&quot;]):e=e.match(R);for(var n,r=0,i=e.length;r&lt;i;r++)n=e[r],dt.tweeners[n]=dt.tweeners[n]||[],dt.tweeners[n].unshift(t)},prefilters:[function(e,t,n){var r,i,o,a,s,u,l,c,f=&quot;width&quot;in t||&quot;height&quot;in t,p=this,d={},h=e.style,g=e.nodeType&amp;&amp;se(e),v=Q.get(e,&quot;fxshow&quot;);for(r in n.queue||(null==(a=k._queueHooks(e,&quot;fx&quot;)).unqueued&amp;&amp;(a.unqueued=0,s=a.empty.fire,a.empty.fire=function(){a.unqueued||s()}),a.unqueued++,p.always(function(){p.always(function(){a.unqueued--,k.queue(e,&quot;fx&quot;).length||a.empty.fire()})})),t)if(i=t[r],st.test(i)){if(delete t[r],o=o||&quot;toggle&quot;===i,i===(g?&quot;hide&quot;:&quot;show&quot;)){if(&quot;show&quot;!==i||!v||void 0===v[r])continue;g=!0}d[r]=v&amp;&amp;v[r]||k.style(e,r)}if((u=!k.isEmptyObject(t))||!k.isEmptyObject(d))for(r in f&amp;&amp;1===e.nodeType&amp;&amp;(n.overflow=[h.overflow,h.overflowX,h.overflowY],null==(l=v&amp;&amp;v.display)&amp;&amp;(l=Q.get(e,&quot;display&quot;)),&quot;none&quot;===(c=k.css(e,&quot;display&quot;))&amp;&amp;(l?c=l:(fe([e],!0),l=e.style.display||l,c=k.css(e,&quot;display&quot;),fe([e]))),(&quot;inline&quot;===c||&quot;inline-block&quot;===c&amp;&amp;null!=l)&amp;&amp;&quot;none&quot;===k.css(e,&quot;float&quot;)&amp;&amp;(u||(p.done(function(){h.display=l}),null==l&amp;&amp;(c=h.display,l=&quot;none&quot;===c?&quot;&quot;:c)),h.display=&quot;inline-block&quot;)),n.overflow&amp;&amp;(h.overflow=&quot;hidden&quot;,p.always(function(){h.overflow=n.overflow[0],h.overflowX=n.overflow[1],h.overflowY=n.overflow[2]})),u=!1,d)u||(v?&quot;hidden&quot;in v&amp;&amp;(g=v.hidden):v=Q.access(e,&quot;fxshow&quot;,{display:l}),o&amp;&amp;(v.hidden=!g),g&amp;&amp;fe([e],!0),p.done(function(){for(r in g||fe([e]),Q.remove(e,&quot;fxshow&quot;),d)k.style(e,r,d[r])})),u=pt(g?v[r]:0,r,p),r in v||(v[r]=u.start,g&amp;&amp;(u.end=u.start,u.start=0))}],prefilter:function(e,t){t?dt.prefilters.unshift(e):dt.prefilters.push(e)}}),k.speed=function(e,t,n){var r=e&amp;&amp;&quot;object&quot;==typeof e?k.extend({},e):{complete:n||!n&amp;&amp;t||m(e)&amp;&amp;e,duration:e,easing:n&amp;&amp;t||t&amp;&amp;!m(t)&amp;&amp;t};return k.fx.off?r.duration=0:&quot;number&quot;!=typeof r.duration&amp;&amp;(r.duration in k.fx.speeds?r.duration=k.fx.speeds[r.duration]:r.duration=k.fx.speeds._default),null!=r.queue&amp;&amp;!0!==r.queue||(r.queue=&quot;fx&quot;),r.old=r.complete,r.complete=function(){m(r.old)&amp;&amp;r.old.call(this),r.queue&amp;&amp;k.dequeue(this,r.queue)},r},k.fn.extend({fadeTo:function(e,t,n,r){return this.filter(se).css(&quot;opacity&quot;,0).show().end().animate({opacity:t},e,n,r)},animate:function(t,e,n,r){var i=k.isEmptyObject(t),o=k.speed(e,n,r),a=function(){var e=dt(this,k.extend({},t),o);(i||Q.get(this,&quot;finish&quot;))&amp;&amp;e.stop(!0)};return a.finish=a,i||!1===o.queue?this.each(a):this.queue(o.queue,a)},stop:function(i,e,o){var a=function(e){var t=e.stop;delete e.stop,t(o)};return&quot;string&quot;!=typeof i&amp;&amp;(o=e,e=i,i=void 0),e&amp;&amp;!1!==i&amp;&amp;this.queue(i||&quot;fx&quot;,[]),this.each(function(){var e=!0,t=null!=i&amp;&amp;i+&quot;queueHooks&quot;,n=k.timers,r=Q.get(this);if(t)r[t]&amp;&amp;r[t].stop&amp;&amp;a(r[t]);else for(t in r)r[t]&amp;&amp;r[t].stop&amp;&amp;ut.test(t)&amp;&amp;a(r[t]);for(t=n.length;t--;)n[t].elem!==this||null!=i&amp;&amp;n[t].queue!==i||(n[t].anim.stop(o),e=!1,n.splice(t,1));!e&amp;&amp;o||k.dequeue(this,i)})},finish:function(a){return!1!==a&amp;&amp;(a=a||&quot;fx&quot;),this.each(function(){var e,t=Q.get(this),n=t[a+&quot;queue&quot;],r=t[a+&quot;queueHooks&quot;],i=k.timers,o=n?n.length:0;for(t.finish=!0,k.queue(this,a,[]),r&amp;&amp;r.stop&amp;&amp;r.stop.call(this,!0),e=i.length;e--;)i[e].elem===this&amp;&amp;i[e].queue===a&amp;&amp;(i[e].anim.stop(!0),i.splice(e,1));for(e=0;e&lt;o;e++)n[e]&amp;&amp;n[e].finish&amp;&amp;n[e].finish.call(this);delete t.finish})}}),k.each([&quot;toggle&quot;,&quot;show&quot;,&quot;hide&quot;],function(e,r){var i=k.fn[r];k.fn[r]=function(e,t,n){return null==e||&quot;boolean&quot;==typeof e?i.apply(this,arguments):this.animate(ft(r,!0),e,t,n)}}),k.each({slideDown:ft(&quot;show&quot;),slideUp:ft(&quot;hide&quot;),slideToggle:ft(&quot;toggle&quot;),fadeIn:{opacity:&quot;show&quot;},fadeOut:{opacity:&quot;hide&quot;},fadeToggle:{opacity:&quot;toggle&quot;}},function(e,r){k.fn[e]=function(e,t,n){return this.animate(r,e,t,n)}}),k.timers=[],k.fx.tick=function(){var e,t=0,n=k.timers;for(rt=Date.now();t&lt;n.length;t++)(e=n[t])()||n[t]!==e||n.splice(t--,1);n.length||k.fx.stop(),rt=void 0},k.fx.timer=function(e){k.timers.push(e),k.fx.start()},k.fx.interval=13,k.fx.start=function(){it||(it=!0,lt())},k.fx.stop=function(){it=null},k.fx.speeds={slow:600,fast:200,_default:400},k.fn.delay=function(r,e){return r=k.fx&amp;&amp;k.fx.speeds[r]||r,e=e||&quot;fx&quot;,this.queue(e,function(e,t){var n=C.setTimeout(e,r);t.stop=function(){C.clearTimeout(n)}})},ot=E.createElement(&quot;input&quot;),at=E.createElement(&quot;select&quot;).appendChild(E.createElement(&quot;option&quot;)),ot.type=&quot;checkbox&quot;,y.checkOn=&quot;&quot;!==ot.value,y.optSelected=at.selected,(ot=E.createElement(&quot;input&quot;)).value=&quot;t&quot;,ot.type=&quot;radio&quot;,y.radioValue=&quot;t&quot;===ot.value;var ht,gt=k.expr.attrHandle;k.fn.extend({attr:function(e,t){return _(this,k.attr,e,t,1&lt;arguments.length)},removeAttr:function(e){return this.each(function(){k.removeAttr(this,e)})}}),k.extend({attr:function(e,t,n){var r,i,o=e.nodeType;if(3!==o&amp;&amp;8!==o&amp;&amp;2!==o)return&quot;undefined&quot;==typeof e.getAttribute?k.prop(e,t,n):(1===o&amp;&amp;k.isXMLDoc(e)||(i=k.attrHooks[t.toLowerCase()]||(k.expr.match.bool.test(t)?ht:void 0)),void 0!==n?null===n?void k.removeAttr(e,t):i&amp;&amp;&quot;set&quot;in i&amp;&amp;void 0!==(r=i.set(e,n,t))?r:(e.setAttribute(t,n+&quot;&quot;),n):i&amp;&amp;&quot;get&quot;in i&amp;&amp;null!==(r=i.get(e,t))?r:null==(r=k.find.attr(e,t))?void 0:r)},attrHooks:{type:{set:function(e,t){if(!y.radioValue&amp;&amp;&quot;radio&quot;===t&amp;&amp;A(e,&quot;input&quot;)){var n=e.value;return e.setAttribute(&quot;type&quot;,t),n&amp;&amp;(e.value=n),t}}}},removeAttr:function(e,t){var n,r=0,i=t&amp;&amp;t.match(R);if(i&amp;&amp;1===e.nodeType)while(n=i[r++])e.removeAttribute(n)}}),ht={set:function(e,t,n){return!1===t?k.removeAttr(e,n):e.setAttribute(n,n),n}},k.each(k.expr.match.bool.source.match(/\\w+/g),function(e,t){var a=gt[t]||k.find.attr;gt[t]=function(e,t,n){var r,i,o=t.toLowerCase();return n||(i=gt[o],gt[o]=r,r=null!=a(e,t,n)?o:null,gt[o]=i),r}});var vt=/^(?:input|select|textarea|button)$/i,yt=/^(?:a|area)$/i;function mt(e){return(e.match(R)||[]).join(&quot; &quot;)}function xt(e){return e.getAttribute&amp;&amp;e.getAttribute(&quot;class&quot;)||&quot;&quot;}function bt(e){return Array.isArray(e)?e:&quot;string&quot;==typeof e&amp;&amp;e.match(R)||[]}k.fn.extend({prop:function(e,t){return _(this,k.prop,e,t,1&lt;arguments.length)},removeProp:function(e){return this.each(function(){delete this[k.propFix[e]||e]})}}),k.extend({prop:function(e,t,n){var r,i,o=e.nodeType;if(3!==o&amp;&amp;8!==o&amp;&amp;2!==o)return 1===o&amp;&amp;k.isXMLDoc(e)||(t=k.propFix[t]||t,i=k.propHooks[t]),void 0!==n?i&amp;&amp;&quot;set&quot;in i&amp;&amp;void 0!==(r=i.set(e,n,t))?r:e[t]=n:i&amp;&amp;&quot;get&quot;in i&amp;&amp;null!==(r=i.get(e,t))?r:e[t]},propHooks:{tabIndex:{get:function(e){var t=k.find.attr(e,&quot;tabindex&quot;);return t?parseInt(t,10):vt.test(e.nodeName)||yt.test(e.nodeName)&amp;&amp;e.href?0:-1}}},propFix:{&quot;for&quot;:&quot;htmlFor&quot;,&quot;class&quot;:&quot;className&quot;}}),y.optSelected||(k.propHooks.selected={get:function(e){var t=e.parentNode;return t&amp;&amp;t.parentNode&amp;&amp;t.parentNode.selectedIndex,null},set:function(e){var t=e.parentNode;t&amp;&amp;(t.selectedIndex,t.parentNode&amp;&amp;t.parentNode.selectedIndex)}}),k.each([&quot;tabIndex&quot;,&quot;readOnly&quot;,&quot;maxLength&quot;,&quot;cellSpacing&quot;,&quot;cellPadding&quot;,&quot;rowSpan&quot;,&quot;colSpan&quot;,&quot;useMap&quot;,&quot;frameBorder&quot;,&quot;contentEditable&quot;],function(){k.propFix[this.toLowerCase()]=this}),k.fn.extend({addClass:function(t){var e,n,r,i,o,a,s,u=0;if(m(t))return this.each(function(e){k(this).addClass(t.call(this,e,xt(this)))});if((e=bt(t)).length)while(n=this[u++])if(i=xt(n),r=1===n.nodeType&amp;&amp;&quot; &quot;+mt(i)+&quot; &quot;){a=0;while(o=e[a++])r.indexOf(&quot; &quot;+o+&quot; &quot;)&lt;0&amp;&amp;(r+=o+&quot; &quot;);i!==(s=mt(r))&amp;&amp;n.setAttribute(&quot;class&quot;,s)}return this},removeClass:function(t){var e,n,r,i,o,a,s,u=0;if(m(t))return this.each(function(e){k(this).removeClass(t.call(this,e,xt(this)))});if(!arguments.length)return this.attr(&quot;class&quot;,&quot;&quot;);if((e=bt(t)).length)while(n=this[u++])if(i=xt(n),r=1===n.nodeType&amp;&amp;&quot; &quot;+mt(i)+&quot; &quot;){a=0;while(o=e[a++])while(-1&lt;r.indexOf(&quot; &quot;+o+&quot; &quot;))r=r.replace(&quot; &quot;+o+&quot; &quot;,&quot; &quot;);i!==(s=mt(r))&amp;&amp;n.setAttribute(&quot;class&quot;,s)}return this},toggleClass:function(i,t){var o=typeof i,a=&quot;string&quot;===o||Array.isArray(i);return&quot;boolean&quot;==typeof t&amp;&amp;a?t?this.addClass(i):this.removeClass(i):m(i)?this.each(function(e){k(this).toggleClass(i.call(this,e,xt(this),t),t)}):this.each(function(){var e,t,n,r;if(a){t=0,n=k(this),r=bt(i);while(e=r[t++])n.hasClass(e)?n.removeClass(e):n.addClass(e)}else void 0!==i&amp;&amp;&quot;boolean&quot;!==o||((e=xt(this))&amp;&amp;Q.set(this,&quot;__className__&quot;,e),this.setAttribute&amp;&amp;this.setAttribute(&quot;class&quot;,e||!1===i?&quot;&quot;:Q.get(this,&quot;__className__&quot;)||&quot;&quot;))})},hasClass:function(e){var t,n,r=0;t=&quot; &quot;+e+&quot; &quot;;while(n=this[r++])if(1===n.nodeType&amp;&amp;-1&lt;(&quot; &quot;+mt(xt(n))+&quot; &quot;).indexOf(t))return!0;return!1}});var wt=/\\r/g;k.fn.extend({val:function(n){var r,e,i,t=this[0];return arguments.length?(i=m(n),this.each(function(e){var t;1===this.nodeType&amp;&amp;(null==(t=i?n.call(this,e,k(this).val()):n)?t=&quot;&quot;:&quot;number&quot;==typeof t?t+=&quot;&quot;:Array.isArray(t)&amp;&amp;(t=k.map(t,function(e){return null==e?&quot;&quot;:e+&quot;&quot;})),(r=k.valHooks[this.type]||k.valHooks[this.nodeName.toLowerCase()])&amp;&amp;&quot;set&quot;in r&amp;&amp;void 0!==r.set(this,t,&quot;value&quot;)||(this.value=t))})):t?(r=k.valHooks[t.type]||k.valHooks[t.nodeName.toLowerCase()])&amp;&amp;&quot;get&quot;in r&amp;&amp;void 0!==(e=r.get(t,&quot;value&quot;))?e:&quot;string&quot;==typeof(e=t.value)?e.replace(wt,&quot;&quot;):null==e?&quot;&quot;:e:void 0}}),k.extend({valHooks:{option:{get:function(e){var t=k.find.attr(e,&quot;value&quot;);return null!=t?t:mt(k.text(e))}},select:{get:function(e){var t,n,r,i=e.options,o=e.selectedIndex,a=&quot;select-one&quot;===e.type,s=a?null:[],u=a?o+1:i.length;for(r=o&lt;0?u:a?o:0;r&lt;u;r++)if(((n=i[r]).selected||r===o)&amp;&amp;!n.disabled&amp;&amp;(!n.parentNode.disabled||!A(n.parentNode,&quot;optgroup&quot;))){if(t=k(n).val(),a)return t;s.push(t)}return s},set:function(e,t){var n,r,i=e.options,o=k.makeArray(t),a=i.length;while(a--)((r=i[a]).selected=-1&lt;k.inArray(k.valHooks.option.get(r),o))&amp;&amp;(n=!0);return n||(e.selectedIndex=-1),o}}}}),k.each([&quot;radio&quot;,&quot;checkbox&quot;],function(){k.valHooks[this]={set:function(e,t){if(Array.isArray(t))return e.checked=-1&lt;k.inArray(k(e).val(),t)}},y.checkOn||(k.valHooks[this].get=function(e){return null===e.getAttribute(&quot;value&quot;)?&quot;on&quot;:e.value})}),y.focusin=&quot;onfocusin&quot;in C;var Tt=/^(?:focusinfocus|focusoutblur)$/,Ct=function(e){e.stopPropagation()};k.extend(k.event,{trigger:function(e,t,n,r){var i,o,a,s,u,l,c,f,p=[n||E],d=v.call(e,&quot;type&quot;)?e.type:e,h=v.call(e,&quot;namespace&quot;)?e.namespace.split(&quot;.&quot;):[];if(o=f=a=n=n||E,3!==n.nodeType&amp;&amp;8!==n.nodeType&amp;&amp;!Tt.test(d+k.event.triggered)&amp;&amp;(-1&lt;d.indexOf(&quot;.&quot;)&amp;&amp;(d=(h=d.split(&quot;.&quot;)).shift(),h.sort()),u=d.indexOf(&quot;:&quot;)&lt;0&amp;&amp;&quot;on&quot;+d,(e=e[k.expando]?e:new k.Event(d,&quot;object&quot;==typeof e&amp;&amp;e)).isTrigger=r?2:3,e.namespace=h.join(&quot;.&quot;),e.rnamespace=e.namespace?new RegExp(&quot;(^|\\\\.)&quot;+h.join(&quot;\\\\.(?:.*\\\\.|)&quot;)+&quot;(\\\\.|$)&quot;):null,e.result=void 0,e.target||(e.target=n),t=null==t?[e]:k.makeArray(t,[e]),c=k.event.special[d]||{},r||!c.trigger||!1!==c.trigger.apply(n,t))){if(!r&amp;&amp;!c.noBubble&amp;&amp;!x(n)){for(s=c.delegateType||d,Tt.test(s+d)||(o=o.parentNode);o;o=o.parentNode)p.push(o),a=o;a===(n.ownerDocument||E)&amp;&amp;p.push(a.defaultView||a.parentWindow||C)}i=0;while((o=p[i++])&amp;&amp;!e.isPropagationStopped())f=o,e.type=1&lt;i?s:c.bindType||d,(l=(Q.get(o,&quot;events&quot;)||{})[e.type]&amp;&amp;Q.get(o,&quot;handle&quot;))&amp;&amp;l.apply(o,t),(l=u&amp;&amp;o[u])&amp;&amp;l.apply&amp;&amp;G(o)&amp;&amp;(e.result=l.apply(o,t),!1===e.result&amp;&amp;e.preventDefault());return e.type=d,r||e.isDefaultPrevented()||c._default&amp;&amp;!1!==c._default.apply(p.pop(),t)||!G(n)||u&amp;&amp;m(n[d])&amp;&amp;!x(n)&amp;&amp;((a=n[u])&amp;&amp;(n[u]=null),k.event.triggered=d,e.isPropagationStopped()&amp;&amp;f.addEventListener(d,Ct),n[d](),e.isPropagationStopped()&amp;&amp;f.removeEventListener(d,Ct),k.event.triggered=void 0,a&amp;&amp;(n[u]=a)),e.result}},simulate:function(e,t,n){var r=k.extend(new k.Event,n,{type:e,isSimulated:!0});k.event.trigger(r,null,t)}}),k.fn.extend({trigger:function(e,t){return this.each(function(){k.event.trigger(e,t,this)})},triggerHandler:function(e,t){var n=this[0];if(n)return k.event.trigger(e,t,n,!0)}}),y.focusin||k.each({focus:&quot;focusin&quot;,blur:&quot;focusout&quot;},function(n,r){var i=function(e){k.event.simulate(r,e.target,k.event.fix(e))};k.event.special[r]={setup:function(){var e=this.ownerDocument||this,t=Q.access(e,r);t||e.addEventListener(n,i,!0),Q.access(e,r,(t||0)+1)},teardown:function(){var e=this.ownerDocument||this,t=Q.access(e,r)-1;t?Q.access(e,r,t):(e.removeEventListener(n,i,!0),Q.remove(e,r))}}});var Et=C.location,kt=Date.now(),St=/\\?/;k.parseXML=function(e){var t;if(!e||&quot;string&quot;!=typeof e)return null;try{t=(new C.DOMParser).parseFromString(e,&quot;text/xml&quot;)}catch(e){t=void 0}return t&amp;&amp;!t.getElementsByTagName(&quot;parsererror&quot;).length||k.error(&quot;Invalid XML: &quot;+e),t};var Nt=/\\[\\]$/,At=/\\r?\\n/g,Dt=/^(?:submit|button|image|reset|file)$/i,jt=/^(?:input|select|textarea|keygen)/i;function qt(n,e,r,i){var t;if(Array.isArray(e))k.each(e,function(e,t){r||Nt.test(n)?i(n,t):qt(n+&quot;[&quot;+(&quot;object&quot;==typeof t&amp;&amp;null!=t?e:&quot;&quot;)+&quot;]&quot;,t,r,i)});else if(r||&quot;object&quot;!==w(e))i(n,e);else for(t in e)qt(n+&quot;[&quot;+t+&quot;]&quot;,e[t],r,i)}k.param=function(e,t){var n,r=[],i=function(e,t){var n=m(t)?t():t;r[r.length]=encodeURIComponent(e)+&quot;=&quot;+encodeURIComponent(null==n?&quot;&quot;:n)};if(null==e)return&quot;&quot;;if(Array.isArray(e)||e.jquery&amp;&amp;!k.isPlainObject(e))k.each(e,function(){i(this.name,this.value)});else for(n in e)qt(n,e[n],t,i);return r.join(&quot;&amp;&quot;)},k.fn.extend({serialize:function(){return k.param(this.serializeArray())},serializeArray:function(){return this.map(function(){var e=k.prop(this,&quot;elements&quot;);return e?k.makeArray(e):this}).filter(function(){var e=this.type;return this.name&amp;&amp;!k(this).is(&quot;:disabled&quot;)&amp;&amp;jt.test(this.nodeName)&amp;&amp;!Dt.test(e)&amp;&amp;(this.checked||!pe.test(e))}).map(function(e,t){var n=k(this).val();return null==n?null:Array.isArray(n)?k.map(n,function(e){return{name:t.name,value:e.replace(At,&quot;\\r\\n&quot;)}}):{name:t.name,value:n.replace(At,&quot;\\r\\n&quot;)}}).get()}});var Lt=/%20/g,Ht=/#.*$/,Ot=/([?&amp;])_=[^&amp;]*/,Pt=/^(.*?):[ \\t]*([^\\r\\n]*)$/gm,Rt=/^(?:GET|HEAD)$/,Mt=/^\\/\\//,It={},Wt={},$t=&quot;*/&quot;.concat(&quot;*&quot;),Ft=E.createElement(&quot;a&quot;);function Bt(o){return function(e,t){&quot;string&quot;!=typeof e&amp;&amp;(t=e,e=&quot;*&quot;);var n,r=0,i=e.toLowerCase().match(R)||[];if(m(t))while(n=i[r++])&quot;+&quot;===n[0]?(n=n.slice(1)||&quot;*&quot;,(o[n]=o[n]||[]).unshift(t)):(o[n]=o[n]||[]).push(t)}}function _t(t,i,o,a){var s={},u=t===Wt;function l(e){var r;return s[e]=!0,k.each(t[e]||[],function(e,t){var n=t(i,o,a);return&quot;string&quot;!=typeof n||u||s[n]?u?!(r=n):void 0:(i.dataTypes.unshift(n),l(n),!1)}),r}return l(i.dataTypes[0])||!s[&quot;*&quot;]&amp;&amp;l(&quot;*&quot;)}function zt(e,t){var n,r,i=k.ajaxSettings.flatOptions||{};for(n in t)void 0!==t[n]&amp;&amp;((i[n]?e:r||(r={}))[n]=t[n]);return r&amp;&amp;k.extend(!0,e,r),e}Ft.href=Et.href,k.extend({active:0,lastModified:{},etag:{},ajaxSettings:{url:Et.href,type:&quot;GET&quot;,isLocal:/^(?:about|app|app-storage|.+-extension|file|res|widget):$/.test(Et.protocol),global:!0,processData:!0,async:!0,contentType:&quot;application/x-www-form-urlencoded; charset=UTF-8&quot;,accepts:{&quot;*&quot;:$t,text:&quot;text/plain&quot;,html:&quot;text/html&quot;,xml:&quot;application/xml, text/xml&quot;,json:&quot;application/json, text/javascript&quot;},contents:{xml:/\\bxml\\b/,html:/\\bhtml/,json:/\\bjson\\b/},responseFields:{xml:&quot;responseXML&quot;,text:&quot;responseText&quot;,json:&quot;responseJSON&quot;},converters:{&quot;* text&quot;:String,&quot;text html&quot;:!0,&quot;text json&quot;:JSON.parse,&quot;text xml&quot;:k.parseXML},flatOptions:{url:!0,context:!0}},ajaxSetup:function(e,t){return t?zt(zt(e,k.ajaxSettings),t):zt(k.ajaxSettings,e)},ajaxPrefilter:Bt(It),ajaxTransport:Bt(Wt),ajax:function(e,t){&quot;object&quot;==typeof e&amp;&amp;(t=e,e=void 0),t=t||{};var c,f,p,n,d,r,h,g,i,o,v=k.ajaxSetup({},t),y=v.context||v,m=v.context&amp;&amp;(y.nodeType||y.jquery)?k(y):k.event,x=k.Deferred(),b=k.Callbacks(&quot;once memory&quot;),w=v.statusCode||{},a={},s={},u=&quot;canceled&quot;,T={readyState:0,getResponseHeader:function(e){var t;if(h){if(!n){n={};while(t=Pt.exec(p))n[t[1].toLowerCase()+&quot; &quot;]=(n[t[1].toLowerCase()+&quot; &quot;]||[]).concat(t[2])}t=n[e.toLowerCase()+&quot; &quot;]}return null==t?null:t.join(&quot;, &quot;)},getAllResponseHeaders:function(){return h?p:null},setRequestHeader:function(e,t){return null==h&amp;&amp;(e=s[e.toLowerCase()]=s[e.toLowerCase()]||e,a[e]=t),this},overrideMimeType:function(e){return null==h&amp;&amp;(v.mimeType=e),this},statusCode:function(e){var t;if(e)if(h)T.always(e[T.status]);else for(t in e)w[t]=[w[t],e[t]];return this},abort:function(e){var t=e||u;return c&amp;&amp;c.abort(t),l(0,t),this}};if(x.promise(T),v.url=((e||v.url||Et.href)+&quot;&quot;).replace(Mt,Et.protocol+&quot;//&quot;),v.type=t.method||t.type||v.method||v.type,v.dataTypes=(v.dataType||&quot;*&quot;).toLowerCase().match(R)||[&quot;&quot;],null==v.crossDomain){r=E.createElement(&quot;a&quot;);try{r.href=v.url,r.href=r.href,v.crossDomain=Ft.protocol+&quot;//&quot;+Ft.host!=r.protocol+&quot;//&quot;+r.host}catch(e){v.crossDomain=!0}}if(v.data&amp;&amp;v.processData&amp;&amp;&quot;string&quot;!=typeof v.data&amp;&amp;(v.data=k.param(v.data,v.traditional)),_t(It,v,t,T),h)return T;for(i in(g=k.event&amp;&amp;v.global)&amp;&amp;0==k.active++&amp;&amp;k.event.trigger(&quot;ajaxStart&quot;),v.type=v.type.toUpperCase(),v.hasContent=!Rt.test(v.type),f=v.url.replace(Ht,&quot;&quot;),v.hasContent?v.data&amp;&amp;v.processData&amp;&amp;0===(v.contentType||&quot;&quot;).indexOf(&quot;application/x-www-form-urlencoded&quot;)&amp;&amp;(v.data=v.data.replace(Lt,&quot;+&quot;)):(o=v.url.slice(f.length),v.data&amp;&amp;(v.processData||&quot;string&quot;==typeof v.data)&amp;&amp;(f+=(St.test(f)?&quot;&amp;&quot;:&quot;?&quot;)+v.data,delete v.data),!1===v.cache&amp;&amp;(f=f.replace(Ot,&quot;$1&quot;),o=(St.test(f)?&quot;&amp;&quot;:&quot;?&quot;)+&quot;_=&quot;+kt+++o),v.url=f+o),v.ifModified&amp;&amp;(k.lastModified[f]&amp;&amp;T.setRequestHeader(&quot;If-Modified-Since&quot;,k.lastModified[f]),k.etag[f]&amp;&amp;T.setRequestHeader(&quot;If-None-Match&quot;,k.etag[f])),(v.data&amp;&amp;v.hasContent&amp;&amp;!1!==v.contentType||t.contentType)&amp;&amp;T.setRequestHeader(&quot;Content-Type&quot;,v.contentType),T.setRequestHeader(&quot;Accept&quot;,v.dataTypes[0]&amp;&amp;v.accepts[v.dataTypes[0]]?v.accepts[v.dataTypes[0]]+(&quot;*&quot;!==v.dataTypes[0]?&quot;, &quot;+$t+&quot;; q=0.01&quot;:&quot;&quot;):v.accepts[&quot;*&quot;]),v.headers)T.setRequestHeader(i,v.headers[i]);if(v.beforeSend&amp;&amp;(!1===v.beforeSend.call(y,T,v)||h))return T.abort();if(u=&quot;abort&quot;,b.add(v.complete),T.done(v.success),T.fail(v.error),c=_t(Wt,v,t,T)){if(T.readyState=1,g&amp;&amp;m.trigger(&quot;ajaxSend&quot;,[T,v]),h)return T;v.async&amp;&amp;0&lt;v.timeout&amp;&amp;(d=C.setTimeout(function(){T.abort(&quot;timeout&quot;)},v.timeout));try{h=!1,c.send(a,l)}catch(e){if(h)throw e;l(-1,e)}}else l(-1,&quot;No Transport&quot;);function l(e,t,n,r){var i,o,a,s,u,l=t;h||(h=!0,d&amp;&amp;C.clearTimeout(d),c=void 0,p=r||&quot;&quot;,T.readyState=0&lt;e?4:0,i=200&lt;=e&amp;&amp;e&lt;300||304===e,n&amp;&amp;(s=function(e,t,n){var r,i,o,a,s=e.contents,u=e.dataTypes;while(&quot;*&quot;===u[0])u.shift(),void 0===r&amp;&amp;(r=e.mimeType||t.getResponseHeader(&quot;Content-Type&quot;));if(r)for(i in s)if(s[i]&amp;&amp;s[i].test(r)){u.unshift(i);break}if(u[0]in n)o=u[0];else{for(i in n){if(!u[0]||e.converters[i+&quot; &quot;+u[0]]){o=i;break}a||(a=i)}o=o||a}if(o)return o!==u[0]&amp;&amp;u.unshift(o),n[o]}(v,T,n)),s=function(e,t,n,r){var i,o,a,s,u,l={},c=e.dataTypes.slice();if(c[1])for(a in e.converters)l[a.toLowerCase()]=e.converters[a];o=c.shift();while(o)if(e.responseFields[o]&amp;&amp;(n[e.responseFields[o]]=t),!u&amp;&amp;r&amp;&amp;e.dataFilter&amp;&amp;(t=e.dataFilter(t,e.dataType)),u=o,o=c.shift())if(&quot;*&quot;===o)o=u;else if(&quot;*&quot;!==u&amp;&amp;u!==o){if(!(a=l[u+&quot; &quot;+o]||l[&quot;* &quot;+o]))for(i in l)if((s=i.split(&quot; &quot;))[1]===o&amp;&amp;(a=l[u+&quot; &quot;+s[0]]||l[&quot;* &quot;+s[0]])){!0===a?a=l[i]:!0!==l[i]&amp;&amp;(o=s[0],c.unshift(s[1]));break}if(!0!==a)if(a&amp;&amp;e[&quot;throws&quot;])t=a(t);else try{t=a(t)}catch(e){return{state:&quot;parsererror&quot;,error:a?e:&quot;No conversion from &quot;+u+&quot; to &quot;+o}}}return{state:&quot;success&quot;,data:t}}(v,s,T,i),i?(v.ifModified&amp;&amp;((u=T.getResponseHeader(&quot;Last-Modified&quot;))&amp;&amp;(k.lastModified[f]=u),(u=T.getResponseHeader(&quot;etag&quot;))&amp;&amp;(k.etag[f]=u)),204===e||&quot;HEAD&quot;===v.type?l=&quot;nocontent&quot;:304===e?l=&quot;notmodified&quot;:(l=s.state,o=s.data,i=!(a=s.error))):(a=l,!e&amp;&amp;l||(l=&quot;error&quot;,e&lt;0&amp;&amp;(e=0))),T.status=e,T.statusText=(t||l)+&quot;&quot;,i?x.resolveWith(y,[o,l,T]):x.rejectWith(y,[T,l,a]),T.statusCode(w),w=void 0,g&amp;&amp;m.trigger(i?&quot;ajaxSuccess&quot;:&quot;ajaxError&quot;,[T,v,i?o:a]),b.fireWith(y,[T,l]),g&amp;&amp;(m.trigger(&quot;ajaxComplete&quot;,[T,v]),--k.active||k.event.trigger(&quot;ajaxStop&quot;)))}return T},getJSON:function(e,t,n){return k.get(e,t,n,&quot;json&quot;)},getScript:function(e,t){return k.get(e,void 0,t,&quot;script&quot;)}}),k.each([&quot;get&quot;,&quot;post&quot;],function(e,i){k[i]=function(e,t,n,r){return m(t)&amp;&amp;(r=r||n,n=t,t=void 0),k.ajax(k.extend({url:e,type:i,dataType:r,data:t,success:n},k.isPlainObject(e)&amp;&amp;e))}}),k._evalUrl=function(e,t){return k.ajax({url:e,type:&quot;GET&quot;,dataType:&quot;script&quot;,cache:!0,async:!1,global:!1,converters:{&quot;text script&quot;:function(){}},dataFilter:function(e){k.globalEval(e,t)}})},k.fn.extend({wrapAll:function(e){var t;return this[0]&amp;&amp;(m(e)&amp;&amp;(e=e.call(this[0])),t=k(e,this[0].ownerDocument).eq(0).clone(!0),this[0].parentNode&amp;&amp;t.insertBefore(this[0]),t.map(function(){var e=this;while(e.firstElementChild)e=e.firstElementChild;return e}).append(this)),this},wrapInner:function(n){return m(n)?this.each(function(e){k(this).wrapInner(n.call(this,e))}):this.each(function(){var e=k(this),t=e.contents();t.length?t.wrapAll(n):e.append(n)})},wrap:function(t){var n=m(t);return this.each(function(e){k(this).wrapAll(n?t.call(this,e):t)})},unwrap:function(e){return this.parent(e).not(&quot;body&quot;).each(function(){k(this).replaceWith(this.childNodes)}),this}}),k.expr.pseudos.hidden=function(e){return!k.expr.pseudos.visible(e)},k.expr.pseudos.visible=function(e){return!!(e.offsetWidth||e.offsetHeight||e.getClientRects().length)},k.ajaxSettings.xhr=function(){try{return new C.XMLHttpRequest}catch(e){}};var Ut={0:200,1223:204},Xt=k.ajaxSettings.xhr();y.cors=!!Xt&amp;&amp;&quot;withCredentials&quot;in Xt,y.ajax=Xt=!!Xt,k.ajaxTransport(function(i){var o,a;if(y.cors||Xt&amp;&amp;!i.crossDomain)return{send:function(e,t){var n,r=i.xhr();if(r.open(i.type,i.url,i.async,i.username,i.password),i.xhrFields)for(n in i.xhrFields)r[n]=i.xhrFields[n];for(n in i.mimeType&amp;&amp;r.overrideMimeType&amp;&amp;r.overrideMimeType(i.mimeType),i.crossDomain||e[&quot;X-Requested-With&quot;]||(e[&quot;X-Requested-With&quot;]=&quot;XMLHttpRequest&quot;),e)r.setRequestHeader(n,e[n]);o=function(e){return function(){o&amp;&amp;(o=a=r.onload=r.onerror=r.onabort=r.ontimeout=r.onreadystatechange=null,&quot;abort&quot;===e?r.abort():&quot;error&quot;===e?&quot;number&quot;!=typeof r.status?t(0,&quot;error&quot;):t(r.status,r.statusText):t(Ut[r.status]||r.status,r.statusText,&quot;text&quot;!==(r.responseType||&quot;text&quot;)||&quot;string&quot;!=typeof r.responseText?{binary:r.response}:{text:r.responseText},r.getAllResponseHeaders()))}},r.onload=o(),a=r.onerror=r.ontimeout=o(&quot;error&quot;),void 0!==r.onabort?r.onabort=a:r.onreadystatechange=function(){4===r.readyState&amp;&amp;C.setTimeout(function(){o&amp;&amp;a()})},o=o(&quot;abort&quot;);try{r.send(i.hasContent&amp;&amp;i.data||null)}catch(e){if(o)throw e}},abort:function(){o&amp;&amp;o()}}}),k.ajaxPrefilter(function(e){e.crossDomain&amp;&amp;(e.contents.script=!1)}),k.ajaxSetup({accepts:{script:&quot;text/javascript, application/javascript, application/ecmascript, application/x-ecmascript&quot;},contents:{script:/\\b(?:java|ecma)script\\b/},converters:{&quot;text script&quot;:function(e){return k.globalEval(e),e}}}),k.ajaxPrefilter(&quot;script&quot;,function(e){void 0===e.cache&amp;&amp;(e.cache=!1),e.crossDomain&amp;&amp;(e.type=&quot;GET&quot;)}),k.ajaxTransport(&quot;script&quot;,function(n){var r,i;if(n.crossDomain||n.scriptAttrs)return{send:function(e,t){r=k(&quot;&lt;script&gt;&quot;).attr(n.scriptAttrs||{}).prop({charset:n.scriptCharset,src:n.url}).on(&quot;load error&quot;,i=function(e){r.remove(),i=null,e&amp;&amp;t(&quot;error&quot;===e.type?404:200,e.type)}),E.head.appendChild(r[0])},abort:function(){i&amp;&amp;i()}}});var Vt,Gt=[],Yt=/(=)\\?(?=&amp;|$)|\\?\\?/;k.ajaxSetup({jsonp:&quot;callback&quot;,jsonpCallback:function(){var e=Gt.pop()||k.expando+&quot;_&quot;+kt++;return this[e]=!0,e}}),k.ajaxPrefilter(&quot;json jsonp&quot;,function(e,t,n){var r,i,o,a=!1!==e.jsonp&amp;&amp;(Yt.test(e.url)?&quot;url&quot;:&quot;string&quot;==typeof e.data&amp;&amp;0===(e.contentType||&quot;&quot;).indexOf(&quot;application/x-www-form-urlencoded&quot;)&amp;&amp;Yt.test(e.data)&amp;&amp;&quot;data&quot;);if(a||&quot;jsonp&quot;===e.dataTypes[0])return r=e.jsonpCallback=m(e.jsonpCallback)?e.jsonpCallback():e.jsonpCallback,a?e[a]=e[a].replace(Yt,&quot;$1&quot;+r):!1!==e.jsonp&amp;&amp;(e.url+=(St.test(e.url)?&quot;&amp;&quot;:&quot;?&quot;)+e.jsonp+&quot;=&quot;+r),e.converters[&quot;script json&quot;]=function(){return o||k.error(r+&quot; was not called&quot;),o[0]},e.dataTypes[0]=&quot;json&quot;,i=C[r],C[r]=function(){o=arguments},n.always(function(){void 0===i?k(C).removeProp(r):C[r]=i,e[r]&amp;&amp;(e.jsonpCallback=t.jsonpCallback,Gt.push(r)),o&amp;&amp;m(i)&amp;&amp;i(o[0]),o=i=void 0}),&quot;script&quot;}),y.createHTMLDocument=((Vt=E.implementation.createHTMLDocument(&quot;&quot;).body).innerHTML=&quot;&lt;form&gt;&lt;/form&gt;&lt;form&gt;&lt;/form&gt;&quot;,2===Vt.childNodes.length),k.parseHTML=function(e,t,n){return&quot;string&quot;!=typeof e?[]:(&quot;boolean&quot;==typeof t&amp;&amp;(n=t,t=!1),t||(y.createHTMLDocument?((r=(t=E.implementation.createHTMLDocument(&quot;&quot;)).createElement(&quot;base&quot;)).href=E.location.href,t.head.appendChild(r)):t=E),o=!n&amp;&amp;[],(i=D.exec(e))?[t.createElement(i[1])]:(i=we([e],t,o),o&amp;&amp;o.length&amp;&amp;k(o).remove(),k.merge([],i.childNodes)));var r,i,o},k.fn.load=function(e,t,n){var r,i,o,a=this,s=e.indexOf(&quot; &quot;);return-1&lt;s&amp;&amp;(r=mt(e.slice(s)),e=e.slice(0,s)),m(t)?(n=t,t=void 0):t&amp;&amp;&quot;object&quot;==typeof t&amp;&amp;(i=&quot;POST&quot;),0&lt;a.length&amp;&amp;k.ajax({url:e,type:i||&quot;GET&quot;,dataType:&quot;html&quot;,data:t}).done(function(e){o=arguments,a.html(r?k(&quot;&lt;div&gt;&quot;).append(k.parseHTML(e)).find(r):e)}).always(n&amp;&amp;function(e,t){a.each(function(){n.apply(this,o||[e.responseText,t,e])})}),this},k.each([&quot;ajaxStart&quot;,&quot;ajaxStop&quot;,&quot;ajaxComplete&quot;,&quot;ajaxError&quot;,&quot;ajaxSuccess&quot;,&quot;ajaxSend&quot;],function(e,t){k.fn[t]=function(e){return this.on(t,e)}}),k.expr.pseudos.animated=function(t){return k.grep(k.timers,function(e){return t===e.elem}).length},k.offset={setOffset:function(e,t,n){var r,i,o,a,s,u,l=k.css(e,&quot;position&quot;),c=k(e),f={};&quot;static&quot;===l&amp;&amp;(e.style.position=&quot;relative&quot;),s=c.offset(),o=k.css(e,&quot;top&quot;),u=k.css(e,&quot;left&quot;),(&quot;absolute&quot;===l||&quot;fixed&quot;===l)&amp;&amp;-1&lt;(o+u).indexOf(&quot;auto&quot;)?(a=(r=c.position()).top,i=r.left):(a=parseFloat(o)||0,i=parseFloat(u)||0),m(t)&amp;&amp;(t=t.call(e,n,k.extend({},s))),null!=t.top&amp;&amp;(f.top=t.top-s.top+a),null!=t.left&amp;&amp;(f.left=t.left-s.left+i),&quot;using&quot;in t?t.using.call(e,f):c.css(f)}},k.fn.extend({offset:function(t){if(arguments.length)return void 0===t?this:this.each(function(e){k.offset.setOffset(this,t,e)});var e,n,r=this[0];return r?r.getClientRects().length?(e=r.getBoundingClientRect(),n=r.ownerDocument.defaultView,{top:e.top+n.pageYOffset,left:e.left+n.pageXOffset}):{top:0,left:0}:void 0},position:function(){if(this[0]){var e,t,n,r=this[0],i={top:0,left:0};if(&quot;fixed&quot;===k.css(r,&quot;position&quot;))t=r.getBoundingClientRect();else{t=this.offset(),n=r.ownerDocument,e=r.offsetParent||n.documentElement;while(e&amp;&amp;(e===n.body||e===n.documentElement)&amp;&amp;&quot;static&quot;===k.css(e,&quot;position&quot;))e=e.parentNode;e&amp;&amp;e!==r&amp;&amp;1===e.nodeType&amp;&amp;((i=k(e).offset()).top+=k.css(e,&quot;borderTopWidth&quot;,!0),i.left+=k.css(e,&quot;borderLeftWidth&quot;,!0))}return{top:t.top-i.top-k.css(r,&quot;marginTop&quot;,!0),left:t.left-i.left-k.css(r,&quot;marginLeft&quot;,!0)}}},offsetParent:function(){return this.map(function(){var e=this.offsetParent;while(e&amp;&amp;&quot;static&quot;===k.css(e,&quot;position&quot;))e=e.offsetParent;return e||ie})}}),k.each({scrollLeft:&quot;pageXOffset&quot;,scrollTop:&quot;pageYOffset&quot;},function(t,i){var o=&quot;pageYOffset&quot;===i;k.fn[t]=function(e){return _(this,function(e,t,n){var r;if(x(e)?r=e:9===e.nodeType&amp;&amp;(r=e.defaultView),void 0===n)return r?r[i]:e[t];r?r.scrollTo(o?r.pageXOffset:n,o?n:r.pageYOffset):e[t]=n},t,e,arguments.length)}}),k.each([&quot;top&quot;,&quot;left&quot;],function(e,n){k.cssHooks[n]=ze(y.pixelPosition,function(e,t){if(t)return t=_e(e,n),$e.test(t)?k(e).position()[n]+&quot;px&quot;:t})}),k.each({Height:&quot;height&quot;,Width:&quot;width&quot;},function(a,s){k.each({padding:&quot;inner&quot;+a,content:s,&quot;&quot;:&quot;outer&quot;+a},function(r,o){k.fn[o]=function(e,t){var n=arguments.length&amp;&amp;(r||&quot;boolean&quot;!=typeof e),i=r||(!0===e||!0===t?&quot;margin&quot;:&quot;border&quot;);return _(this,function(e,t,n){var r;return x(e)?0===o.indexOf(&quot;outer&quot;)?e[&quot;inner&quot;+a]:e.document.documentElement[&quot;client&quot;+a]:9===e.nodeType?(r=e.documentElement,Math.max(e.body[&quot;scroll&quot;+a],r[&quot;scroll&quot;+a],e.body[&quot;offset&quot;+a],r[&quot;offset&quot;+a],r[&quot;client&quot;+a])):void 0===n?k.css(e,t,i):k.style(e,t,n,i)},s,n?e:void 0,n)}})}),k.each(&quot;blur focus focusin focusout resize scroll click dblclick mousedown mouseup mousemove mouseover mouseout mouseenter mouseleave change select submit keydown keypress keyup contextmenu&quot;.split(&quot; &quot;),function(e,n){k.fn[n]=function(e,t){return 0&lt;arguments.length?this.on(n,null,e,t):this.trigger(n)}}),k.fn.extend({hover:function(e,t){return this.mouseenter(e).mouseleave(t||e)}}),k.fn.extend({bind:function(e,t,n){return this.on(e,null,t,n)},unbind:function(e,t){return this.off(e,null,t)},delegate:function(e,t,n,r){return this.on(t,e,n,r)},undelegate:function(e,t,n){return 1===arguments.length?this.off(e,&quot;**&quot;):this.off(t,e||&quot;**&quot;,n)}}),k.proxy=function(e,t){var n,r,i;if(&quot;string&quot;==typeof t&amp;&amp;(n=e[t],t=e,e=n),m(e))return r=s.call(arguments,2),(i=function(){return e.apply(t||this,r.concat(s.call(arguments)))}).guid=e.guid=e.guid||k.guid++,i},k.holdReady=function(e){e?k.readyWait++:k.ready(!0)},k.isArray=Array.isArray,k.parseJSON=JSON.parse,k.nodeName=A,k.isFunction=m,k.isWindow=x,k.camelCase=V,k.type=w,k.now=Date.now,k.isNumeric=function(e){var t=k.type(e);return(&quot;number&quot;===t||&quot;string&quot;===t)&amp;&amp;!isNaN(e-parseFloat(e))},&quot;function&quot;==typeof define&amp;&amp;define.amd&amp;&amp;define(&quot;jquery&quot;,[],function(){return k});var Qt=C.jQuery,Jt=C.$;return k.noConflict=function(e){return C.$===k&amp;&amp;(C.$=Jt),e&amp;&amp;C.jQuery===k&amp;&amp;(C.jQuery=Qt),k},e||(C.jQuery=C.$=k),k}); &lt;/script&gt;\n",
       "            &lt;script&gt; let g_snapped = &quot;&quot;;\n",
       "let g_lastHovered = &quot;&quot;;\n",
       "\n",
       "function hideAllDetails()\n",
       "{\n",
       "    $(&quot;.container-feature-detail&quot;).hide();\n",
       "    $(&quot;.container-df-associations&quot;).hide();\n",
       "    $(&quot;span.bg-tab-summary-rollover&quot;).hide();\n",
       "}\n",
       "\n",
       "\n",
       "// GLOBAL EVENTS\n",
       "// ---------------------------------------------------------------------------------------------------------------------------\n",
       "// EVENT: [ANYWHERE] RIGHT-CLICK REMOVES SELECTION\n",
       "// $(document).contextmenu(function() {\n",
       "//     if (g_snapped != &quot;&quot;)\n",
       "//     {\n",
       "//         g_snapped = &quot;&quot;;\n",
       "//         hideAllDetails();\n",
       "//     }\n",
       "//     if (g_lastHovered != &quot;&quot;)\n",
       "//     {\n",
       "//         $(g_lastHovered).show();\n",
       "//         //alert(&quot;#&quot;+g_lastHovered);\n",
       "//     }\n",
       "//     return false;\n",
       "// });\n",
       "\n",
       "$(&quot;span.bg-tab-summary-rollover&quot;).hide();\n",
       "// hideAllDetails();\n",
       "\n",
       "$(document).ready(function() {\n",
       "// INITIALIZATION\n",
       "// --------------------------------------------------------\n",
       "hideAllDetails();\n",
       "$(&quot;span.bg-tab-summary-rollover&quot;).hide();\n",
       "\n",
       "// Make the detail column the same height, so the floating element has room\n",
       "//$(&quot;#col2&quot;).height($(&quot;#col1&quot;).height());\n",
       "$(&quot;#col1&quot;).height(g_height);\n",
       "$(&quot;#col2&quot;).height(g_height);\n",
       "//alert($(&quot;#col1&quot;).height());\n",
       "\n",
       "// SUMMARY AREA\n",
       "// --------------------------------------------------------\n",
       "// EVENT: SUMMARY ROLLOVER\n",
       "// $(&quot;.selector, .container-feature-summary-target&quot;).hover(\n",
       "$(&quot;.selector&quot;).hover(\n",
       "// ENTER function\n",
       "function(event) {\n",
       "    // Rollover start!\n",
       "    // $(&quot;.container-feature-detail&quot;).hide();\n",
       "    $(&quot;span.bg-tab-summary-rollover&quot;).hide();\n",
       "    $(&quot;#&quot; + $(this).data(&quot;rollover-span&quot;)).removeClass(&quot;bg-tab-summary-rollover-locked&quot;);\n",
       "    $(&quot;#&quot; + $(this).data(&quot;rollover-span&quot;)).addClass(&quot;bg-tab-summary-rollover-vertical&quot;);\n",
       "    $(&quot;#&quot; + $(this).data(&quot;rollover-span&quot;)).show();\n",
       "    g_lastHovered = &quot;#&quot; + $(this).data(&quot;detail-div&quot;);\n",
       "    },\n",
       "// EXIT function\n",
       "function(event) {\n",
       "    // Rollover end!\n",
       "    // hideAllDetails();\n",
       "    //FBFB        $(&quot;#&quot; + $(this).data(&quot;detail-div&quot;)).hide();\n",
       "    }\n",
       ");\n",
       "\n",
       "// EVENT: SUMMARY CLICK\n",
       "// $(&quot;.container-feature-summary, .container-feature-summary-target&quot;).click(function(event) {\n",
       "$(&quot;.selector&quot;).click(function(event) {\n",
       "    if ($(this).parent().parent().data(&#x27;expanded&#x27;) != &#x27;true&#x27;)\n",
       "    {\n",
       "        // EXPAND\n",
       "        // --------------------------------------------------------\n",
       "        $(&quot;#&quot; + $(this).data(&quot;detail-div&quot;)).show();\n",
       "        $(this).parent().parent().data(&#x27;expanded&#x27;, &#x27;true&#x27;);\n",
       "        //alert($(this).parent().attr(&#x27;id&#x27;).substring(8) );\n",
       "\n",
       "        var feature_index_str = $(this).parent().attr(&#x27;id&#x27;).substring(8);\n",
       "        if ($(this).parent().attr(&#x27;id&#x27;) == &quot;summary-target&quot;) {\n",
       "            // Special feature name for target, so use common index notation for the following tasks\n",
       "            feature_index_str = &quot;f-1&quot;;\n",
       "        }\n",
       "        if ($(&#x27;#cat-assoc-window-&#x27;+feature_index_str).length) {\n",
       "            // CATEGORICAL feature: use variable-height window\n",
       "            var $el = $(&#x27;#detail_breakdown-&#x27; + feature_index_str);  //record the elem so you don&#x27;t crawl the DOM everytime\n",
       "            // HACK: BUG IN BROWSERS? DIVING BY SCALE HERE...\n",
       "            var bottom = ($el.position().top / g_scale) + $el.outerHeight(true); // passing &quot;true&quot; will also include the top and bottom margin\n",
       "            var desiredBottomBreakdown = bottom + 157;\n",
       "\n",
       "            $el = $(&#x27;#cat-assoc-window-&#x27; + feature_index_str);  //record the elem so you don&#x27;t crawl the DOM everytime\n",
       "            var bottomAssoc = $el.position().top + $el.outerHeight(true); // passing &quot;true&quot; will also include the top and bottom margin\n",
       "            var desiredBottomAssoc = bottomAssoc + 166;\n",
       "\n",
       "            var finalHeight = Math.max(desiredBottomBreakdown, desiredBottomAssoc);\n",
       "            if ($(this).parent().attr(&#x27;id&#x27;) == &quot;summary-target&quot;)\n",
       "            {\n",
       "                // More special processing for the target: change its background and limit its height (so it doesn&#x27;t show through others below)\n",
       "                // (Here, make the Height a bit taller so the black background shows through)\n",
       "               $(this).parent().css(&#x27;height&#x27;, String((finalHeight + 50))+ &#x27;px&#x27;);\n",
       "               $(&quot;#summary-target&quot;).css(&quot;overflow&quot;, &quot;hidden&quot;);\n",
       "            }\n",
       "            $(this).parent().parent().css(&#x27;height&#x27;, String(finalHeight) + &#x27;px&#x27;);\n",
       "        }\n",
       "        else\n",
       "        {\n",
       "            // NON-CATEGORICAL feature: use fixed height window\n",
       "            $(this).parent().parent().css(&#x27;height&#x27;, &#x27;1030px&#x27;);\n",
       "        }\n",
       "        // Use the &quot;big&quot; background image for the target\n",
       "        if ($(this).parent().attr(&#x27;id&#x27;) == &quot;summary-target&quot;)\n",
       "        {\n",
       "            $(&quot;#summary-target-bg&quot;).addClass(&quot;bg-tab-summary-target-full&quot;);\n",
       "            $(&quot;#summary-target-bg&quot;).removeClass(&quot;bg-tab-summary-target&quot;);\n",
       "        }\n",
       "\n",
       "        // HACK: For SOME reason, a selection gets made when we change what is hidden, unselect it\n",
       "        let sel = document.getSelection();\n",
       "        sel.removeAllRanges();\n",
       "\n",
       "        // Animate to the top of the screen when expanding, so we can see the whole thing immediately\n",
       "        $(&#x27;html,body&#x27;).animate(\n",
       "            {scrollTop: $(&quot;#&quot; + $(this).parent().attr(&#x27;id&#x27;)).offset().top}, &#x27;fast&#x27;);\n",
       "    }\n",
       "    else\n",
       "    {\n",
       "        // CONTRACT\n",
       "        // --------------------------------------------------------\n",
       "        $(&quot;#&quot; + $(this).data(&quot;detail-div&quot;)).hide();\n",
       "\n",
       "        // HACK: For SOME reason, a selection gets made when we change what is hidden, unselect it\n",
       "        let sel = document.getSelection();\n",
       "        sel.removeAllRanges();\n",
       "\n",
       "        $(this).parent().parent().data(&#x27;expanded&#x27;, &#x27;false&#x27;);\n",
       "        $(this).parent().parent().css(&#x27;height&#x27;, &#x27;161px&#x27;);\n",
       "\n",
       "        if ($(this).parent().attr(&#x27;id&#x27;) == &quot;summary-target&quot;)\n",
       "        {\n",
       "            $(&quot;#summary-target-bg&quot;).removeClass(&quot;bg-tab-summary-target-full&quot;);\n",
       "            $(&quot;#summary-target-bg&quot;).addClass(&quot;bg-tab-summary-target&quot;);\n",
       "        }\n",
       "    }\n",
       "    // var offTop = $(&quot;#&quot; + $(this).parent().attr(&#x27;id&#x27;)).offset().top;\n",
       "  //  $(&#x27;html,body&#x27;).scrollTop(offTop);\n",
       "    // let thisIndex = $(this).parent().parent().data(&#x27;order-index&#x27;);\n",
       "    //alert(thisIndex);\n",
       "    // for (let i = parseInt(thisIndex) + 1; i &lt; 10; i++) {\n",
       "    //     let currentTop = $(&quot;#summary-pos-f&quot; + i).attr(&#x27;style&#x27;)\n",
       "    //     $(&quot;#summary-pos-f&quot; + i).attr(&#x27;style&#x27;,\n",
       "    // }\n",
       "// if(g_snapped == $(this).parent().attr(&#x27;id&#x27;))\n",
       "//     {\n",
       "//         $(&quot;#&quot; + $(this).data(&quot;rollover-span&quot;)).removeClass(&quot;bg-tab-summary-rollover-locked&quot;);\n",
       "//         $(&quot;#&quot; + $(this).data(&quot;rollover-span&quot;)).addClass(&quot;bg-tab-summary-rollover&quot;);\n",
       "//         g_snapped = &quot;&quot;;\n",
       "//     }\n",
       "//     else if (g_snapped == &quot;&quot;)\n",
       "//     {\n",
       "//         $(&quot;#&quot; + $(this).data(&quot;rollover-span&quot;)).removeClass(&quot;bg-tab-summary-rollover&quot;);\n",
       "//         $(&quot;#&quot; + $(this).data(&quot;rollover-span&quot;)).addClass(&quot;bg-tab-summary-rollover-locked&quot;);\n",
       "//         g_snapped = $(this).parent().attr(&#x27;id&#x27;);\n",
       "// //        $(&quot;#&quot; + $(this).data(&quot;detail-div&quot;)).show();\n",
       "//         //$(g_lastHovered).show();\n",
       "//         // alert(this.parent().id);\n",
       "//     }\n",
       "    }\n",
       ");\n",
       "\n",
       "\n",
       "// SPECIFIC BUTTONS\n",
       "// ---------------------------------------------------------------------------------------------------------------------------\n",
       "// SUMMARY: ASSOCIATIONS\n",
       "// $(&quot;#button-summary-associations-source, #button-summary-associations-compare&quot;).hover(\n",
       "//     // ENTER function\n",
       "//     function()\n",
       "//     {\n",
       "//         if(g_snapped==&quot;&quot;)\n",
       "//         {\n",
       "//             hideAllDetails();\n",
       "//             $(&quot;#df-assoc&quot;).show();\n",
       "//             //$(&quot;#df-assoc&quot;).show();\n",
       "//         }\n",
       "//         g_lastHovered = &quot;#df-assoc&quot;;\n",
       "//     },\n",
       "//     // EXIT function\n",
       "//     function()\n",
       "//     {\n",
       "//         if(g_snapped==&quot;&quot;)\n",
       "//         {\n",
       "//             hideAllDetails();\n",
       "//         }\n",
       "//     });\n",
       "// );\n",
       "\n",
       "// ASSOCIATIONS CLICK\n",
       "$(&quot;#button-summary-associations-source, #button-summary-associations-compare&quot;).click(function(event) {\n",
       "    let actual_div = &quot;#&quot; + $(this).data(&quot;detail-div&quot;);\n",
       "    // Quick hack: just remove the selected state to both buttons and restore if needed\n",
       "    $(&quot;#button-summary-associations-source, #button-summary-associations-compare&quot;).removeClass(&quot;button-assoc-selected&quot;);\n",
       "    $(&quot;#button-summary-associations-source, #button-summary-associations-compare&quot;).addClass(&quot;button-assoc&quot;);\n",
       "    if(g_snapped == actual_div)\n",
       "    {\n",
       "        // DESELECT/HIDE ASSOC\n",
       "        // --------------------------------------------------------\n",
       "        g_snapped = &quot;&quot;;\n",
       "        $(actual_div).hide();\n",
       "        $(&quot;.page-all-summaries&quot;).css({top: &quot;160px&quot;});\n",
       "        // $(this).removeClass(&quot;button-assoc-selected&quot;);\n",
       "        // $(this).addClass(&quot;button-assoc&quot;);\n",
       "    }\n",
       "    else if(g_snapped == &quot;&quot;)\n",
       "    {\n",
       "        // SELECT/SHOW ASSOC\n",
       "        // --------------------------------------------------------\n",
       "        g_snapped =  actual_div;\n",
       "        $(actual_div).show();\n",
       "        $(&quot;.page-all-summaries&quot;).css({top: &quot;993px&quot;});\n",
       "        $(this).addClass(&quot;button-assoc-selected&quot;);\n",
       "    }\n",
       "    else\n",
       "    {\n",
       "        // SWAP to OTHER ASSOC: DESELECT old, select new\n",
       "        // --------------------------------------------------------\n",
       "        $(g_snapped).hide();\n",
       "        g_snapped =  actual_div;\n",
       "        $(this).addClass(&quot;button-assoc-selected&quot;);\n",
       "        $(actual_div).show();\n",
       "    }\n",
       "});\n",
       "\n",
       "\n",
       "// DETAIL GRAPH BUTTONS\n",
       "$(&quot;.button-bin&quot;).click(function() {\n",
       "    which_id = $(this).attr(&#x27;data-target&#x27;);\n",
       "    $(&quot;#&quot;+which_id).attr(&#x27;class&#x27;, $(this).attr(&#x27;data-new_class&#x27;) + &quot; pos-detail-num-graph&quot;);\n",
       "});\n",
       "\n",
       "\n",
       "}); // $(document).ready(...  &lt;/script&gt;\n",
       "        &lt;style&gt; span.icon-expand { content: url(data:image/png;base64,iVBORw0KGgoAAAANSUhEUgAAABwAAAAcCAYAAAByDd+UAAAAGXRFWHRTb2Z0d2FyZQBBZG9iZSBJbWFnZVJlYWR5ccllPAAAALRJREFUeNpi/P//PwM9ARMDncGohVQHLATkDYA4gEQzD0AxdgBKpTjw/P/kg/m4zMVlWQKSRgE8jkLHAkgOTcCmBlccKkDpRCD+QEJwfkDSo0DNRAMqLfbjkRcYzYeDJh8ixxk6cMAizkgtCw9gsYwBbwan0EJHLD4+gEV8NNEMrlSKr0hjpLYPH0CLp/n4iikcRdp8JDMGvnpiJNBqc0DKc8SCDUB8AWdcjDYTRy0kFQAEGAAqdjq/C2RykQAAAABJRU5ErkJggg==);}\n",
       "span.icon-categorical { content: url(data:image/png;base64,iVBORw0KGgoAAAANSUhEUgAAABwAAAAcCAYAAAByDd+UAAAAGXRFWHRTb2Z0d2FyZQBBZG9iZSBJbWFnZVJlYWR5ccllPAAAAOFJREFUeNpi/P//PwM9ARMDncGohVQHLHjkHKAYHTwA4gVQdgIQK2BRcwCKMQEolWLBCf/xgwYoxgcSsJmNy4cwVxcC8QUkcQMg7gdieyQxXGoUSA1SBqhBB6igZjSVwkE8WkqVJ1MNwVTqAMTv8aTA/VCMC7yHmoFhNiOewlsBms8YcORFBlwpEZpPHwwKH7LgKWUEoC59iBY/CVh8g02NA7bsQijRLETT5IDFQmLUjOZDlHIRH59YNQQthCXpfhzyB5Hiq5+AGURZCMtHhOrDB6TWh4yjrbZRCwe9hQABBgAyc1dqBJEdOQAAAABJRU5ErkJggg==);}\n",
       "span.icon-collapse { content: url(data:image/png;base64,iVBORw0KGgoAAAANSUhEUgAAABwAAAAcCAYAAAByDd+UAAAAGXRFWHRTb2Z0d2FyZQBBZG9iZSBJbWFnZVJlYWR5ccllPAAAAJxJREFUeNpi/P//PwM9ARMDncGohVQHLATkDYA4gEQzD0AxdgBKpTjw/P/kg/m4zMVlWQKSRgE8jkLHAkgOTcCmBlccKkDpRCD+QEJwfkDSo0DPRCMwmg8HTT6E5x4i1TFSy8ID9Pah42iiGZIWfqCnhQ+gxdN8fMUUjiJtPpIZA189MRJotTlAMSlgAxBfwFkyjDYTRy0kFQAEGAD+JDS/pyABgwAAAABJRU5ErkJggg==);}\n",
       "\n",
       "span.bg-tab-summary { position: absolute; z-index:-1000; content: url(data:image/png;base64,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);}\n",
       "span.bg-tab-summary-target { position: absolute; z-index:-1000; content: url(data:image/png;base64,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);}\n",
       "span.bg-tab-summary-target-full { position: absolute; z-index:-1000; content: url(data:image/png;base64,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);}\n",
       "span.bg-tab-summary-rollover { display: none; position: absolute; z-index:-9; content: url(data:image/png;base64,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);}\n",
       "span.bg-tab-summary-rollover-vertical { display: none; position: absolute; z-index:-9; content: url(data:image/png;base64,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);}\n",
       "span.bg-tab-summary-rollover-locked { display: inline !important; position: absolute; z-index:-9; content: url(data:image/png;base64,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);}\n",
       "span.bg-tab-detail-med { position: absolute; z-index:-10; width: 655px; content: url(data:image/png;base64,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);}\n",
       "/* used in assoc */\n",
       "span.bg-tab-detail-wide { position: absolute; z-index:-10; width: 879px; content: url(data:image/png;base64,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);}\n",
       "\n",
       "span.bg-detail-column { position: relative; z-index:-10; content: url(data:image/png;base64,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);}\n",
       "span.bg-extra-column { position: absolute; z-index:-10; width: 295px; height: 275px; content: url(data:image/png;base64,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);}\n",
       "\n",
       "div.ic-cat { z-index: 1; position: absolute; content: url(data:image/png;base64,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);}\n",
       "div.ic-cat-light { z-index: 1; position: absolute; content: url(data:image/png;base64,iVBORw0KGgoAAAANSUhEUgAAABwAAAAcCAYAAAByDd+UAAAAGXRFWHRTb2Z0d2FyZQBBZG9iZSBJbWFnZVJlYWR5ccllPAAAAP1JREFUeNpi/P//PwM9ARMDncGohVQHLLgkNqyc6wCkHLBIPQgIT14AVZMApBSwqDkAVHMAm7mM2FIp1KD5eBzaCKXr8ahJhDmMGB/CXF0IxBeQxA2AuB+I7ZHEcKlRIClIoeACctAAfU6umtFUCgfx0NQKA/JkqiFoIShO8oE4gQhHY1PzAWoGcdkCGvkKeCx8gJaa0cECYEJ6QEo+BAXReiAWwBMCDDgKBpgPA7FlflxB6gC1DJRxH6LFD7qvcalxwBashBLNQrQ85oDFQmLUjOZDRLmIVlQZkKmGoIWwJN2PQ/4gUuLqJ2AG0fmQfvXhaJtm1MJBZSFAgAEArrBnthzR+WkAAAAASUVORK5CYII=);}\n",
       "div.ic-numeric { z-index: 1; position: absolute; content: url(data:image/png;base64,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);}\n",
       "div.ic-numeric-light { z-index: 1; position: absolute; content: url(data:image/png;base64,iVBORw0KGgoAAAANSUhEUgAAABwAAAAcCAYAAAByDd+UAAAAGXRFWHRTb2Z0d2FyZQBBZG9iZSBJbWFnZVJlYWR5ccllPAAAASRJREFUeNrsVtENgjAQReMAjKAb6ATiBNYvP4U4ACOgG+gABvj0jw3UCWQER2ADfI2PxFQDIoUQpcnlJU3v3r27XtNemqZGk6tvNLz+lDA6HoawcZMKfdj1J0o6KOuAUlsAFyZgN1golutNLQpJdiJZDDNhHvb9ukqaBXagagIcUaXNZPQRIqANGMLOIAvkHjABbHnE1a1wTtw/b5JcqhRynLQQIpDJviUgiN4dIVq6FAolsLpC4qoyIdV5SmBDKWvMslrs9XdzCOcNs5a9CRD4nHPc4cj48JsCLzIEL9bHCj2S7eDo5Nb8kcwiGxOOkCj70szkgKtZ5pDKHkdPMxmXIiwo4Vd+7Xq8UZqqH54Jb3Ah4UWToJfe97pfW0fYesK7AAMAvAljVNSArLoAAAAASUVORK5CYII=);}\n",
       "div.ic-text { z-index: 1; position: absolute; content: url(data:image/png;base64,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);}\n",
       "\n",
       "span.top-header {  position: absolute; z-index:-1000; content: url(data:image/png;base64,iVBORw0KGgoAAAANSUhEUgAAAlgAAACgCAYAAADQOBKBAAAAGXRFWHRTb2Z0d2FyZQBBZG9iZSBJbWFnZVJlYWR5ccllPAAAA5RJREFUeNrs3MFNAkEUgGEGKYASrEDxIoletAPtwBaohBbsQDvQiyRwUajAEraDdV7cg1fji+6Y70te5DSZDJc/w7ql7/sJAAB5po4AAEBgAQAILAAAgQUAgMACABBYAAACCwAAgQUA8AdmWQuVUib77cu8flzXuXO0AEBD7uusTpeXXcZL2EvWm9wPu03E1VOd+Ht7cn7xFtEFADBW0UG1YRb140Odrs51bZjup+tm/kQYN1fHdc7EFQDQguiV6Jbol6Fj1hnrZgbWzeTz5qoTVwBAY5EVt1a3Q8+MKrBic8/iCgBoNLKes9abZW8w65kuAIBWeU0DAIDAAgAQWAAAAgsAAIEFACCwAAAEFgAAAgsAQGABAAgsAAAEFgCAwAIAEFgAAAILAACBBQAgsAAABBYAAAILAEBgAQAILAAABBYAgMACABBYAAAILAAAgQUAILAAAAQWAAACCwBAYAEACCwAAAQWAMA/CqwjxwkANC6lZwQWAMCIA6v4TgAAgeUGCwDgq5QLI4EFAJDcM5mB5T8SAYDWTUezyMAzWABA60b3EyEAAAILAEBgAQAILAAAgQUAgMACABBYAAACCwAAgQUAILAAAAQWAAACCwBAYAEACCwAAIEFAIDAAgAQWAAAAgsAAIEFACCwAAAEFgAAAgsAQGABAAgsAAAEFgCAwAIAEFgAAAILAACBBQAgsAAABBYAAAILAEBgAQAILAAABBYAgMACABBYAAAILAAAgQUAILAAAAQWAAACCwBAYAEACCwAAAQWAIDAAgAQWAAACCwAAIEFACCwAAAQWAAAAgsAQGABAAgsAAAEFgCAwAIAEFgAAAgsAACBBQAgsAAAEFgAAAILAEBgAQAILEcAACCwAAAEFgCAwAIAQGABAAgsAACBBQCAwAIAEFgAAAILAACBBQAgsAAABBYAgMACAEBgAQAILAAAgQUAgMACABBYAAACCwAAgQUAILAAAAQWAAACCwBAYAEACCwAAIEFAIDAAgAQWAAAAgsAgG+aZS9YSnGqAEBz+r5PWyvzBqs77DZXmZsDAPiNsIqJjomeGVtgPdZ5qJubiywAoCXRL9ExQ8+MKrBWdd7rvNZNLkQWADB2w83VIvpl6JhVxrolK4Ti2av99iXqb13nzlcGADTkPuLqdHnZZbRRcdMEAJDLaxoAAAQWAIDAAgAQWAAACCwAAIEFACCwAAAQWAAAf+FDgAEA8Z1pNK1F390AAAAASUVORK5CYII=);}\n",
       "\n",
       "div.tab-summary-rollover { content: url(data:image/png;base64,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);}\n",
       "div.tab-summary-target { content: url(data:image/png;base64,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);}\n",
       "\n",
       "div.im-logo { content: url(data:image/png;base64,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);}\n",
       "\n",
       "div.ic-missing-green { position: absolute; top: 2px; z-index: -1; content: url(data:image/png;base64,iVBORw0KGgoAAAANSUhEUgAAACMAAAANCAYAAAAjf9cfAAAAAXNSR0IArs4c6QAAAARnQU1BAACxjwv8YQUAAAAJcEhZcwAADsMAAA7DAcdvqGQAAAM+aVRYdFhNTDpjb20uYWRvYmUueG1wAAAAAAA8P3hwYWNrZXQgYmVnaW49Iu+7vyIgaWQ9Ilc1TTBNcENlaGlIenJlU3pOVGN6a2M5ZCI/Pg0KPHg6eG1wbWV0YSB4bWxuczp4PSJhZG9iZTpuczptZXRhLyIgeDp4bXB0az0iQWRvYmUgWE1QIENvcmUgNS42LWMxNDggNzkuMTY0MDM2LCAyMDE5LzA4LzEzLTAxOjA2OjU3ICAgICAgICAiPg0KICA8cmRmOlJERiB4bWxuczpyZGY9Imh0dHA6Ly93d3cudzMub3JnLzE5OTkvMDIvMjItcmRmLXN5bnRheC1ucyMiPg0KICAgIDxyZGY6RGVzY3JpcHRpb24gcmRmOmFib3V0PSIiIHhtbG5zOnhtcD0iaHR0cDovL25zLmFkb2JlLmNvbS94YXAvMS4wLyIgeG1sbnM6eG1wTU09Imh0dHA6Ly9ucy5hZG9iZS5jb20veGFwLzEuMC9tbS8iIHhtbG5zOnN0UmVmPSJodHRwOi8vbnMuYWRvYmUuY29tL3hhcC8xLjAvc1R5cGUvUmVzb3VyY2VSZWYjIiB4bXA6Q3JlYXRvclRvb2w9IkFkb2JlIFBob3Rvc2hvcCAyMS4xIChXaW5kb3dzKSIgeG1wTU06SW5zdGFuY2VJRD0ieG1wLmlpZDo4MTJBRjA2MjBFRTkxMUVCOTZFRjlFQjhDNkQ5OEJCNCIgeG1wTU06RG9jdW1lbnRJRD0ieG1wLmRpZDo4MTJBRjA2MzBFRTkxMUVCOTZFRjlFQjhDNkQ5OEJCNCI+DQogICAgICA8eG1wTU06RGVyaXZlZEZyb20gc3RSZWY6aW5zdGFuY2VJRD0ieG1wLmlpZDo4MTJBRjA2MDBFRTkxMUVCOTZFRjlFQjhDNkQ5OEJCNCIgc3RSZWY6ZG9jdW1lbnRJRD0ieG1wLmRpZDo4MTJBRjA2MTBFRTkxMUVCOTZFRjlFQjhDNkQ5OEJCNCIgLz4NCiAgICA8L3JkZjpEZXNjcmlwdGlvbj4NCiAgPC9yZGY6UkRGPg0KPC94OnhtcG1ldGE+DQo8P3hwYWNrZXQgZW5kPSJyIj8+OjfJSQAAAIxJREFUSEvtlLEJg0AUQE3qELJEyAoOIJlJsJdM4wDBASzS2AlZIsT0+t4AWt79Ig/eIdf8Byf/8FrGAq74wArPXiTiiz3W+DbmxseAF8zFB8sjR4s5Q8T5rTE+TQTuxqT8R/Y4GROGf8wW4WJcPBH4GeMGjMDTmAbdgDlxfmPMhCV2OGNKnOdc5hfTCl5aGNzdDpDTAAAAAElFTkSuQmCC);}\n",
       "div.ic-missing-yellow { position: absolute; top: 2px; z-index: -1; content: url(data:image/png;base64,iVBORw0KGgoAAAANSUhEUgAAACMAAAANCAYAAAAjf9cfAAAAAXNSR0IArs4c6QAAAARnQU1BAACxjwv8YQUAAAAJcEhZcwAADsMAAA7DAcdvqGQAAAM+aVRYdFhNTDpjb20uYWRvYmUueG1wAAAAAAA8P3hwYWNrZXQgYmVnaW49Iu+7vyIgaWQ9Ilc1TTBNcENlaGlIenJlU3pOVGN6a2M5ZCI/Pg0KPHg6eG1wbWV0YSB4bWxuczp4PSJhZG9iZTpuczptZXRhLyIgeDp4bXB0az0iQWRvYmUgWE1QIENvcmUgNS42LWMxNDggNzkuMTY0MDM2LCAyMDE5LzA4LzEzLTAxOjA2OjU3ICAgICAgICAiPg0KICA8cmRmOlJERiB4bWxuczpyZGY9Imh0dHA6Ly93d3cudzMub3JnLzE5OTkvMDIvMjItcmRmLXN5bnRheC1ucyMiPg0KICAgIDxyZGY6RGVzY3JpcHRpb24gcmRmOmFib3V0PSIiIHhtbG5zOnhtcD0iaHR0cDovL25zLmFkb2JlLmNvbS94YXAvMS4wLyIgeG1sbnM6eG1wTU09Imh0dHA6Ly9ucy5hZG9iZS5jb20veGFwLzEuMC9tbS8iIHhtbG5zOnN0UmVmPSJodHRwOi8vbnMuYWRvYmUuY29tL3hhcC8xLjAvc1R5cGUvUmVzb3VyY2VSZWYjIiB4bXA6Q3JlYXRvclRvb2w9IkFkb2JlIFBob3Rvc2hvcCAyMS4xIChXaW5kb3dzKSIgeG1wTU06SW5zdGFuY2VJRD0ieG1wLmlpZDo5M0ZFRDVDMTBFRTkxMUVCODk1OEU0QjM1RDdCNDUzRCIgeG1wTU06RG9jdW1lbnRJRD0ieG1wLmRpZDo5M0ZFRDVDMjBFRTkxMUVCODk1OEU0QjM1RDdCNDUzRCI+DQogICAgICA8eG1wTU06RGVyaXZlZEZyb20gc3RSZWY6aW5zdGFuY2VJRD0ieG1wLmlpZDo5M0ZFRDVCRjBFRTkxMUVCODk1OEU0QjM1RDdCNDUzRCIgc3RSZWY6ZG9jdW1lbnRJRD0ieG1wLmRpZDo5M0ZFRDVDMDBFRTkxMUVCODk1OEU0QjM1RDdCNDUzRCIgLz4NCiAgICA8L3JkZjpEZXNjcmlwdGlvbj4NCiAgPC9yZGY6UkRGPg0KPC94OnhtcG1ldGE+DQo8P3hwYWNrZXQgZW5kPSJyIj8+kNAGTgAAAI1JREFUSEvtlMEJg0AQAE3eIaSJkBYsQFKT4F/Shg2kALGAlCDYREh85CM4U4A+7/aRgTnkPjtwsofl1xVwxQdWePYiER8csMbJmBsfL7xgLt5YHjlazBkizm+N8WkicDcm5T+yx8mYMPxjtggX4+KJwGyMGzACvTENugFz4vzGmBFLfOIXU+I85zK/GFcMlhjQAEQbWgAAAABJRU5ErkJggg==);}\n",
       "div.ic-missing-orange { position: absolute; top: 2px; z-index: -1; content: url(data:image/png;base64,iVBORw0KGgoAAAANSUhEUgAAACMAAAANCAYAAAAjf9cfAAAAAXNSR0IArs4c6QAAAARnQU1BAACxjwv8YQUAAAAJcEhZcwAADsMAAA7DAcdvqGQAAAM+aVRYdFhNTDpjb20uYWRvYmUueG1wAAAAAAA8P3hwYWNrZXQgYmVnaW49Iu+7vyIgaWQ9Ilc1TTBNcENlaGlIenJlU3pOVGN6a2M5ZCI/Pg0KPHg6eG1wbWV0YSB4bWxuczp4PSJhZG9iZTpuczptZXRhLyIgeDp4bXB0az0iQWRvYmUgWE1QIENvcmUgNS42LWMxNDggNzkuMTY0MDM2LCAyMDE5LzA4LzEzLTAxOjA2OjU3ICAgICAgICAiPg0KICA8cmRmOlJERiB4bWxuczpyZGY9Imh0dHA6Ly93d3cudzMub3JnLzE5OTkvMDIvMjItcmRmLXN5bnRheC1ucyMiPg0KICAgIDxyZGY6RGVzY3JpcHRpb24gcmRmOmFib3V0PSIiIHhtbG5zOnhtcD0iaHR0cDovL25zLmFkb2JlLmNvbS94YXAvMS4wLyIgeG1sbnM6eG1wTU09Imh0dHA6Ly9ucy5hZG9iZS5jb20veGFwLzEuMC9tbS8iIHhtbG5zOnN0UmVmPSJodHRwOi8vbnMuYWRvYmUuY29tL3hhcC8xLjAvc1R5cGUvUmVzb3VyY2VSZWYjIiB4bXA6Q3JlYXRvclRvb2w9IkFkb2JlIFBob3Rvc2hvcCAyMS4xIChXaW5kb3dzKSIgeG1wTU06SW5zdGFuY2VJRD0ieG1wLmlpZDpBMzAyOEVCNzBFRTkxMUVCQkJCQ0MzQzAxODVGOEJCQSIgeG1wTU06RG9jdW1lbnRJRD0ieG1wLmRpZDpBMzAyOEVCODBFRTkxMUVCQkJCQ0MzQzAxODVGOEJCQSI+DQogICAgICA8eG1wTU06RGVyaXZlZEZyb20gc3RSZWY6aW5zdGFuY2VJRD0ieG1wLmlpZDpBMzAyOEVCNTBFRTkxMUVCQkJCQ0MzQzAxODVGOEJCQSIgc3RSZWY6ZG9jdW1lbnRJRD0ieG1wLmRpZDpBMzAyOEVCNjBFRTkxMUVCQkJCQ0MzQzAxODVGOEJCQSIgLz4NCiAgICA8L3JkZjpEZXNjcmlwdGlvbj4NCiAgPC9yZGY6UkRGPg0KPC94OnhtcG1ldGE+DQo8P3hwYWNrZXQgZW5kPSJyIj8+YUIbjgAAAIxJREFUSEvtlMEJg0AQAE3eIdiEpAULkBSQagL+xV4CFiApwBKENBFi/jpTQHze7SMDc8h9duBkD+vjVkCFPTZ49iIRH3ziHV/GXPiYsMRcvLE+cnSYM0Sc3xnj00TgakzKf2SPkzFh+Mf8IlyMiycCX2PcgBEYjWnRDZgT57fGzFjjgAumxHnOZX4xb8aXF5wsqUu9AAAAAElFTkSuQmCC);}\n",
       "div.ic-missing-red { position: absolute; top: 2px; z-index: -1; content: url(data:image/png;base64,iVBORw0KGgoAAAANSUhEUgAAACMAAAANCAYAAAAjf9cfAAAAGXRFWHRTb2Z0d2FyZQBBZG9iZSBJbWFnZVJlYWR5ccllPAAAAyNpVFh0WE1MOmNvbS5hZG9iZS54bXAAAAAAADw/eHBhY2tldCBiZWdpbj0i77u/IiBpZD0iVzVNME1wQ2VoaUh6cmVTek5UY3prYzlkIj8+IDx4OnhtcG1ldGEgeG1sbnM6eD0iYWRvYmU6bnM6bWV0YS8iIHg6eG1wdGs9IkFkb2JlIFhNUCBDb3JlIDUuNi1jMTQ4IDc5LjE2NDAzNiwgMjAxOS8wOC8xMy0wMTowNjo1NyAgICAgICAgIj4gPHJkZjpSREYgeG1sbnM6cmRmPSJodHRwOi8vd3d3LnczLm9yZy8xOTk5LzAyLzIyLXJkZi1zeW50YXgtbnMjIj4gPHJkZjpEZXNjcmlwdGlvbiByZGY6YWJvdXQ9IiIgeG1sbnM6eG1wPSJodHRwOi8vbnMuYWRvYmUuY29tL3hhcC8xLjAvIiB4bWxuczp4bXBNTT0iaHR0cDovL25zLmFkb2JlLmNvbS94YXAvMS4wL21tLyIgeG1sbnM6c3RSZWY9Imh0dHA6Ly9ucy5hZG9iZS5jb20veGFwLzEuMC9zVHlwZS9SZXNvdXJjZVJlZiMiIHhtcDpDcmVhdG9yVG9vbD0iQWRvYmUgUGhvdG9zaG9wIDIxLjEgKFdpbmRvd3MpIiB4bXBNTTpJbnN0YW5jZUlEPSJ4bXAuaWlkOkJEODI2MzE0MEVFOTExRUJBMDkyRkY5QkEwNEU4NThBIiB4bXBNTTpEb2N1bWVudElEPSJ4bXAuZGlkOkJEODI2MzE1MEVFOTExRUJBMDkyRkY5QkEwNEU4NThBIj4gPHhtcE1NOkRlcml2ZWRGcm9tIHN0UmVmOmluc3RhbmNlSUQ9InhtcC5paWQ6QkQ4MjYzMTIwRUU5MTFFQkEwOTJGRjlCQTA0RTg1OEEiIHN0UmVmOmRvY3VtZW50SUQ9InhtcC5kaWQ6QkQ4MjYzMTMwRUU5MTFFQkEwOTJGRjlCQTA0RTg1OEEiLz4gPC9yZGY6RGVzY3JpcHRpb24+IDwvcmRmOlJERj4gPC94OnhtcG1ldGE+IDw/eHBhY2tldCBlbmQ9InIiPz4XpOIDAAAAhUlEQVR42mL8L8DJAASqQNwBxC5AzMdAP/AJiPcAcQUQ32YEOkYdyDgBxAIMAwc+ALEFyDFrgYwghoEH60CO+UjnqMEFvjANEoeAAA8TwyACo44ZMo75NEjcAs5NewaJY3aByhkNIOP4ICiBLUEhcwNUFINKQCD+TGdHfIbaC7L/BkCAAQAYcRpVGFqHAwAAAABJRU5ErkJggg==);} &lt;/style&gt;\n",
       "        &lt;style&gt; @font-face\n",
       "{\n",
       "    font-family: RobotoBoldCond; font-style: normal; font-weight: normal;\n",
       "    src: url(data:font/truetype;charset=utf-8;base64,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) format(&#x27;truetype&#x27;);\n",
       "}\n",
       "@font-face\n",
       "{\n",
       "    font-family: RobotoMed; font-style: normal; font-weight: normal;\n",
       "    src: url(data:font/truetype;charset=utf-8;base64,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) format(&#x27;truetype&#x27;);\n",
       "}\n",
       "@font-face\n",
       "{\n",
       "    font-family: RobotoReg; font-style: normal; font-weight: normal;\n",
       "    src: url(data:font/truetype;charset=utf-8;base64,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) format(&#x27;truetype&#x27;);\n",
       "}\n",
       "\n",
       "body\n",
       "{\n",
       "/* Re-adding horizontal scrollbar\n",
       "    overflow-x: hidden;\n",
       "    background-color: #f7f7f7;\n",
       "*/\n",
       "    background-color: #f3f3f0;\n",
       "    color: #58544f;\n",
       "    margin-top: 0px;\n",
       "}\n",
       "\n",
       ".isHidden { display: none; }\n",
       "\n",
       ".page-root\n",
       "{\n",
       "\t/*width: 1880px;*/\n",
       "    /* Made this bigger to better match actual width and avoid flickering due to the horizontal Scrollbar showing up */\n",
       "\twidth: 1903px;\n",
       "\toverflow: visible;\n",
       "\t margin: 0 auto;\n",
       "    position: relative;\n",
       "}\n",
       ".page-root-vertical\n",
       "{\n",
       "\twidth: 1056px;\n",
       "\toverflow: visible;\n",
       "\t  margin: 0 auto;\n",
       "    position: relative;\n",
       "}\n",
       ".page-column-main { width: 930px; position: absolute;}\n",
       ".page-column-detail { position: absolute; left: 1005.0px; }\n",
       ".page-all-summaries { position: absolute; top:160px; left: -12px; width: 960px; }\n",
       "\n",
       ".pos-feature-summary\n",
       "{\n",
       "\twidth: 1056px;\n",
       "\theight:162px;\n",
       "    position: relative;\n",
       "}\n",
       "\n",
       ".container-feature-summary\n",
       "{\n",
       "\twidth: 1056px;\n",
       "\theight:175px;\n",
       "    position: absolute;\n",
       "}\n",
       ".container-feature-summary-target\n",
       "{\n",
       "\twidth: 1056px;\n",
       "\theight:175px;\n",
       "    position: relative;\n",
       "}\n",
       ".container-feature-detail\n",
       "{\n",
       "    height:900px;position:sticky;top:0;\n",
       "    transform: scale(1.0);transform-origin: 0 0;\n",
       "}\n",
       ".container-feature-detail-vertical\n",
       "{\n",
       "    width: 900px;height:900px;position:absolute; top: 151px; left:93px\n",
       "}\n",
       ".container-feature-detail__offset\n",
       "{\n",
       "    height:900px;position:absolute;top:0px;left:-17px\n",
       "}\n",
       "\n",
       ".color-source { color: #0088ed; }\n",
       ".button-border-source { border:1px solid #0088ed; }\n",
       ".color-source-target { color: #004bd1; }\n",
       ".color-compare { color: #f77721; }\n",
       ".button-border-compare { border:1px solid #f77721; }\n",
       ".color-compare-target { color: #e54600; }\n",
       ".color-normal { color: #58544f; }\n",
       ".color-target-summary { color: #CFC8BC; }\n",
       ".color-light { color: #837d76; }\n",
       ".color-red { color: #ff0000; }\n",
       ".dim { opacity: 0.5; }\n",
       ".color-title-disabled  { color: #e2e2e2; }\n",
       "\n",
       "a { color: #58544f; }\n",
       ".text-dataframe-title { font-family: RobotoBoldCond; font-size: 24px; }\n",
       ".text-dataframe-title-small { font-family: RobotoBoldCond; font-size: 20px; }\n",
       ".text-large-bold { font-family: RobotoBoldCond; font-size: 15.4px; }\n",
       ".text-med-bold { font-family: RobotoBoldCond; font-size: 12px; }\n",
       ".text-med { font-family: RobotoMed; font-size: 12px; }\n",
       ".text-small-med { font-family: RobotoMed; font-size: 10px; }\n",
       ".text-small-bold { font-family: RobotoBoldCond; font-size: 10px; }\n",
       ".text-label { font-family: RobotoReg; font-size: 11px;}\n",
       ".text-value { font-family: RobotoMed; font-size: 11px; }\n",
       ".text-distinct { font-family: RobotoMed; font-size: 12px; font-weight: bold;}\n",
       ".text-version { font-family: RobotoReg; font-size: 14px; font-weight: bold; }\n",
       ".text-credits { font-family: RobotoReg; font-size: 9px;}\n",
       "\n",
       ".pos-logo-group         { position: absolute; top:0px; left:0px; width: 380px; height: 200px; text-align: center;}\n",
       ".pos-logo               { position: relative;\n",
       "      margin-left: auto;\n",
       "  margin-right: auto;\n",
       "    top: 32px; }\n",
       ".pos-credits            { position: relative; top:26px; text-align: center; }\n",
       "\n",
       ".row-colored            { background-color: #00000008; }\n",
       ".row-missing            { background-color: #00000008; text-indent: 4px; height: 16px; width: 250px; }\n",
       ".assoc-row              { height: 13px; line-height: 11px; text-indent: 4px; }\n",
       ".assoc-row-target       { height: 13px; line-height: 11px; text-indent: 4px; background-color: #221F1F; color: #c1b9af; }\n",
       ".row-numeric-summary    { height: 13px; line-height: 11px; width: 140px; }\n",
       ".row-separator-bottom   { border-bottom: 1px solid #00000018; }\n",
       ".row-separator-top      { border-top: 1px solid #00000018; }\n",
       ".breakdown-row          { height: 13px; line-height: 11px; text-indent: 4px; }\n",
       ".breakdown-row-header   { height: 26px; text-indent: 4px; }\n",
       ".breakdown-row-header-2-lines   { height: 30px; text-indent: 4px; }\n",
       ".breakdown-hr           { position:absolute; top: 13px; left: 10px; width: 592px; }\n",
       ".breakdown-hr-2-lines   { position:absolute; top: 20px; left: 10px; width: 592px; }\n",
       "\n",
       "/* TAB ICON/NAME */\n",
       ".text-title-tab                     { font-family: RobotoBoldCond; font-size: 15.4px; position: absolute; left: 74px; top: 24px; width:250px; }\n",
       ".pos-tab-image                      { position: absolute; left: 45px; top: 21px; }\n",
       ".pos-detail-tab-icon-text__offset    { position: absolute; left: -4px; top: -4px; }\n",
       ".pos-text-title-tab__no-icon { position: absolute; left: 37px; top: 17px; }\n",
       "\n",
       "/*\n",
       " DATAFRAME SUMMARY\n",
       "------------------------------------*/\n",
       ".pos-dataframe-summary-title-source { position: absolute; left: 0px; top: 12px; width: 250px; text-align: right; }\n",
       ".pos-dataframe-summary-title-compare { position: absolute; left: 350px; top: 12px; width: 250px; text-align: left; }\n",
       ".pos-dataframe-summary-title-compare-none { position: absolute; left: 350px; top: 16px; width: 250px; text-align: left; }\n",
       ".pos-dataframe-summary  { position: absolute; top: 9px; left: 380px; }\n",
       ".pos-dataframe-summary-rows  { position: absolute; top: 47px; left: 19px; }\n",
       ".dataframe-summary-row  { height: 13px; width: 563px; line-height: 12px; }\n",
       ".pos-df-summary-source      { position: absolute; left: 0px; width: 231px; text-align: right;}\n",
       ".pos-df-summary-center     { position: absolute; left: 231px; width: 100px; text-align: center;}\n",
       ".pos-df-summary-compare      { position: absolute; left: 331px; width: 200px; text-align: left;}\n",
       ".size-df-summary-button     { width: 156px; height: 35px; }\n",
       ".pos-df-summary-button-assoc-source { position: absolute; top: 54px; left: 10px; }\n",
       ".pos-df-summary-button-assoc-compare { position: absolute; top: 54px; left: 397px; }\n",
       "\n",
       "/*\n",
       " FEATURE SUMMARY\n",
       "------------------------------------*/\n",
       ".summary-number\n",
       "{\n",
       "    position: absolute; top: 17px; left: 0px; width: 34px;\n",
       "    font-family: RobotoBoldCond; font-size: 26px;\n",
       "    color: #d9d9d9; text-align: right;\n",
       "}\n",
       ".summary-number-vertical\n",
       "{\n",
       "    position: absolute; top: 25px; left: 6px; width: 34px;\n",
       "    font-family: RobotoBoldCond; font-size: 26px;\n",
       "    color: #d9d9d9; text-align: right;\n",
       "    text-orientation: mixed;\n",
       "    writing-mode: vertical-rl;\n",
       "}\n",
       "\n",
       "/* BASE STATS */\n",
       ".pos-base-stats                 { position: absolute; top: 65px; left: 74px; }\n",
       ".pos-base-stats-in-detail       { position: absolute; top: 49px; left: 68px; }\n",
       ".base-stats-row                 { height: 13px; width: 200px; }\n",
       ".pos-base-stats__label         { position: absolute; left: 0px; text-align: left;}\n",
       ".pos-base-stats__source        { position: absolute; left: 55px; width: 55px; text-align: right;}\n",
       ".pos-base-stats__source-perc   { position: absolute; left: 113px; width: 35px; text-align: right;}\n",
       ".pos-base-stats__compare       { position: absolute; left: 153px; width: 55px; text-align: right;}\n",
       ".pos-base-stats__compare-perc  { position: absolute; left: 211px; width: 35px; text-align: right;}\n",
       "\n",
       "/* These are all NUMERICAL SUMMARY actually! */\n",
       ".pos-summary-numeric-group1             { position: absolute; top: 67px; left: 372px; }\n",
       ".pos-summary-numeric-group2             { position: absolute; top: 67px; left: 560px; }\n",
       ".pos-summary-numeric-source          { position: absolute; left: 40px; width: 50px; text-align: right;}\n",
       ".pos-summary-numeric-compare         { position: absolute; left: 90px; width: 50px; text-align: right;}\n",
       ".pos-summary-numeric-source-wide          { position: absolute; left: 40px; width: 64px; text-align: right;}\n",
       ".pos-summary-numeric-compare-wide         { position: absolute; left: 104px; width: 64px; text-align: right;}\n",
       ".pos-detail-num__top                  { position: absolute; top: 63px; line-height: 13px; }\n",
       ".pos-detail-num-col1__labels          { left: 320px; text-align: left; }\n",
       ".pos-detail-num-col1__source          { right: 636px; text-align: right;}\n",
       ".pos-detail-num-col1__compare         { right: 581px; text-align: right; }\n",
       ".pos-detail-num-col2__labels          { left: 520px; text-align: left; }\n",
       ".pos-detail-num-col2__source          { right: 441px; text-align: right;}\n",
       ".pos-detail-num-col2__compare         { right: 386px; text-align: right; }\n",
       "\n",
       ".pos-summary-text   { position: absolute; left: 372px; top: 67px; }\n",
       ".summary-text       { overflow: hidden; text-overflow: ellipsis; position: absolute; height: 14px; white-space: nowrap; }\n",
       "\n",
       ".pos-minigraph-cat      { position: absolute; right: 40px; top: 62px; }\n",
       ".pos-minigraph-numeric  { position: absolute; right: 40px; top: 62px; }\n",
       "\n",
       ".selector {}\n",
       ".selector__body { z-index:10; position: absolute;  left: 0px; top:40px; width: 1040px; height: 134px; }\n",
       ".selector__bottom { z-index:10; position: absolute;  left: 305px; top:174px; width: 735px; height: 22px; }\n",
       ".selector__top { z-index:10; position: absolute;  left: 0px; top:16px; width: 305px; height: 24px; }\n",
       "\n",
       "/*\n",
       "DETAILS\n",
       "------------------------------------*/\n",
       ".pos-detail-cat-graph                 { position: absolute; left: 45px; top: 120px; }\n",
       ".pos-detail-cat-breakdown             { position: absolute; left: 44px; overflow: hidden; }\n",
       ".pos-detail-num-graph                 { position: absolute; left: 50px; top: 78px; }\n",
       ".pos-detail-num-buttons               { position: absolute; left: 400px; top: 46px; width: 212px; }\n",
       "\n",
       ".pos-detail-assoc-graph               { position: absolute; left: 28px; top: 84px; }\n",
       ".pos-detail-assoc-desc-text           { position: absolute; left: 37px; top: 41px;     width: 800px;     line-height: 11px;}\n",
       "\n",
       ".pos-detail-text                   { position: absolute; left: 45px; top: 75px; }\n",
       "\n",
       "/* DETAIL LISTS */\n",
       ".container-detail-assoc               { position: absolute; left: 40px; top: 27px; width: 215px;}\n",
       ".pos-detail-num-most               { position: absolute; left: 20px; top: 606px; }\n",
       ".pos-detail-num-min               { position: absolute; left: 313px; top: 606px; }\n",
       ".pos-detail-num-max               { position: absolute; left: 607px; top: 606px; }\n",
       ".pos-detail-num-label               { position: absolute; left: 0px; width: 56px; }\n",
       ".pos-detail-num-source-pair         { position: absolute; width: 84px; left: 53px;}\n",
       ".pos-detail-num-compare-pair         { position: absolute; width: 84px; left: 135px;}\n",
       ".pos-detail-num-pair-pos__num      { position: absolute; left: 0px; width: 42px; text-align: right;}\n",
       ".pos-detail-num-pair-pos__perc     { position: absolute; left: 49px; width: 30px; text-align: right; }\n",
       "\n",
       "/* Number, percentage pairs in CATEGORICAL breakdown */\n",
       ".pair__col          { position: absolute; width: 84px; }\n",
       ".pair__header       { position: absolute; width: 79px; text-align: center;}\n",
       ".pair-pos__num      { position: absolute; left: 0px; width: 42px; text-align: right;}\n",
       ".pair-pos__perc     { position: absolute; left: 49px; width: 30px; text-align: right; }\n",
       "\n",
       "/* DETAIL-ASSOC */\n",
       ".pos-detail-cat-assoc-1              { position: absolute; left: 618px; top: 28px; width: 275px;}\n",
       ".pos-detail-cat-assoc-CN              { position: absolute; left: 618px; top: 565px; width: 275px;}\n",
       ".pos-assoc-row__label             { position: absolute; left: 0px; overflow: hidden; text-overflow: ellipsis; white-space: nowrap; width: 156px;}\n",
       ".pos-assoc-row__source            { position: absolute; left: 150px; text-align: right; width: 30px; }\n",
       ".pos-assoc-row__compare           { position: absolute; left: 120px; text-align: right; width: 30px; }\n",
       "\n",
       "/* NUM-DETAIL COLS */\n",
       ".pos-num-detail-row__label        { position: absolute; left: 0px; overflow: hidden; text-overflow: ellipsis; white-space: nowrap; width: 62px;}\n",
       "\n",
       "hr { background-color: #58544f; height: 1px; border-width: 0px; }\n",
       "\n",
       "button\n",
       "{\n",
       "\tbox-shadow:inset 0px 1px 0px 0px #ffffff;\n",
       "\tbackground:linear-gradient(to bottom, #f9f9f9 5%, #e9e9e9 100%);\n",
       "\tbackground-color:#f9f9f9;\n",
       "\tborder-radius:6px;\n",
       "\tborder:1px solid #dcdcdc;\n",
       "\tdisplay:inline-block;\n",
       "\tcursor:pointer;\n",
       "\tcolor:#666666;\n",
       "\tfont-family:Arial;\n",
       "\tfont-size:10px;\n",
       "\tpadding:3px 13px;\n",
       "\ttext-decoration:none;\n",
       "\ttext-shadow:0px 1px 0px #ffffff;\n",
       "}\n",
       ".button-assoc {\n",
       "    outline: none;\n",
       "}\n",
       ".button-assoc:hover {\n",
       "\tborder:2px solid #221f1f;\n",
       "    outline: none;\n",
       "}\n",
       ".button-assoc:focus {\n",
       "    outline: none;\n",
       "}\n",
       ".button-assoc-selected {\n",
       "\tborder:2px solid #ff0000;\n",
       "}\n",
       ".button-assoc-selected:hover {\n",
       "\tborder:2px solid #ff0000;\n",
       "}\n",
       ".button-assoc-selected:focus {\n",
       "\tborder:2px solid #ff0000;\n",
       "    outline: none;\n",
       "}\n",
       " &lt;/style&gt;\n",
       "\n",
       "    &lt;style&gt;\n",
       "\n",
       "                span.minigraph-f0::before { content: url(data:image/png;base64,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);}\n",
       "                    span.detail_graph-f0-::before { content: url(data:image/png;base64,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);}\n",
       "                span.minigraph-f1::before { content: url(data:image/png;base64,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);}\n",
       "                    span.detail_graph-f1-::before { content: url(data:image/png;base64,iVBORw0KGgoAAAANSUhEUgAAAkQAAACzCAYAAABo6APSAAAAOXRFWHRTb2Z0d2FyZQBNYXRwbG90bGliIHZlcnNpb24zLjguMCwgaHR0cHM6Ly9tYXRwbG90bGliLm9yZy81sbWrAAAACXBIWXMAAA9hAAAPYQGoP6dpAAASfUlEQVR4nO3df5hcVX3H8fcSIEJJghGVSIqIiBUUCAIKFMEfUOXn5cexHJUiIKigFguaUn1qFFuggvqoUUGxgsQbvFEvP1TAoECrqFBAqkUtimIAQwFJQCGATv84d82w7iSb3c1O7p7363n2mZk79979npzdmc+cc+5moNPpIEmSlLP1+12A1k0xFEcAZwFPAy4D3gycDpwAfA2IZVW3Mk3HUFwJ7Ne16cPAFsABwHllVZ/Sl8JGIYbi6cDrgKOBo8qq/nEMxWzg88BLgNuB48uqvjGG4mXAQuD3wEFlVd/Wp7JXq0e7IvDFrt3uL6t6sxiK1wKfBn4FvLqs6qUTX/HIxFC8GzgZmAZcDbwR2IT299dw7XoNLe6vGIoNSK8NbwAGSK+DxwOb0f7+6tW2Q2lxn43Vev0uQOueGIqnARcAZwC7AXsCbwdC8/i5wE4xFC+LoTihb4WO3izgJOCpzdeXSW3aDQgxFDNjKGIMxQF9rHG1YiimAXcCRwJzSC9sAOcAjwHbA98BLmy2nwq8G/gc8JYYiqfEUHwmhmKAdcgq2jWL1J7Bftu62f5e4DDge8DrYig2i6H46ETWPBIxFPsCHySFhV2AHUn90fb+6tWuVvcXKZC/Hngl8FLgVaQPhK3ur0avtrW9z8bEESINZ1dgCnB+WdWdGIpLgJcBj5I+ITxEGjn6V+DAvlU5erOAO8qqfhAghuIxUpt+RWrj1sA7gFf0q8ARegR4NrAxcEfX9r2Bd5ZVfWcMxWeAk5oRl/WAu4ANgGcBZwLfWQdH+nq1axZw12C/dVmP1Hf3kl7TzgM+sfbLXGOPAXPLqr4KIIbiJuCZtL+/erVrA1rcX2VVX0D6YEgMxaakdj5O+/trVW37S1rcZ2NlINJwngE83PWLvAx4OvCfzf1vAccBp5dVfW9/ShydGIoNSWHuQzEUnwWuJ00HPgEsBy4ivZC9razqR/pW6AiUVf0EcG8MxVZDnnoGKeBB6i9I/fdJoAZWkD7l7lpW9clrvdA1tIp2PQvYPYZiCfB/wLvKql4MfAT4MbAU+AIp7H5rAksekbKqrwWuBYiheD7wauAg4Bja3V+92nUcLe6vQTEUtwLbAdeQpo3m0+L+6jZM2y5iEvTZaDllppHqlFV9LOlT+78DDwOHxlD8Oobirf0tbY10gLcBf08aAt4BmFdW9X7ARsBPge8C82IofhlDUfSr0HHWKav668BM0lB/AK5o2nh5DMXU/pY3Ip8B5gH7kobuL46h2LCs6vOB6aR1YfsCS2Io7oyh+FzfKl2FGIpZwNdJ69V6vam0rr+Gadek6C9gf1KtOwLH9tindf3VGNq2ydJno2Ig0nDuA6bHUAz+fEwnDZUCbA6cQpo3fxEQgX+e8ApHbwpQl1V9dVnV3yd9otuhee5FpF/4W5vHJwLvn/AKx+4+YNPm/vTm9l6Asqr/QPok+17SurDBMLv/BNY3Wj8Fymax6sdJbz5bdD3/WdJo31zSz+UOMRRzJrzKVYihmAl8kzQyObh4v/X91aNdre6vGIodYij2Lat6SRPwvk2aLpsM/dWrba3us7EyEGk4PyBNIb0lhuJ5wMGkIVVI4eftpHUejwH3s3LRaxtsA9wVQ3FIDMXWwN+wMgDNY+UnwEdJbZsy4RWO3bXA0TEUWwJvAn5UVvX9ADEUewNLy6q+gtS2B0lXxbShnZcC58ZQPIu0KPQB0poNSAtELyur+lbSKOBvSX24zrQrhmIT4BvAPaQrsqY36zda3V+raFer+4s0avKVGIqXxFBsD+wO3ETL+6vRq21t77MxMRDpz5RVfR/pipFTgRtIU0ifap4+oazq75F+eZaSwtPH+lDmqJRV/SPSgun5wC2ky2YHR7gOKav6DtKL++bAVcCH+lDmWJ1C+t3+H2AvUl8Cf1rv8fbm4Zmkts4GrpjYEkflTcDzSH1WAKGs6sfgT4tEz2n2+yjwfdKL+U0TXmVvh5OuZHwVaX3Gb5uvtvdXr3a1vb8WAOcClwPXkS5Nn0/7+wt6t63tfTYmA/5hRkmSlDuvMtOINQsDTwPOKKt6Rb/rGS+2q30ma9tsV7tM1nbB5G5bL06ZaU1MBd7X3E4mtqt9JmvbbFe7TNZ2weRu27CcMtOIxVBMJ/3djdms/Dsck8E0YAm2q00ma9tsV7tM1nbB2Ns2Dbh7XfzDlL04ZaY1MbO5XdLXKtYe29U+k7VttqtdJmu7YGxtm83Kq9TWeQYirYkHmtvJ+GlIkjQ+BkeXWvU+YSDSaDxUVvXyfhchSVr3xFD0u4RRcVG1JEnKnoFIkiRlz0AkSZKyZyCSJEnZc1G11tiiOfOXLTzrgdXvKElqjc7cmW36j7rHnSNEkiQpewYiSZKUPQORJEnKnoFIkiRlz0AkSZKyZyCSJEnZMxBJkqTsGYgkSVL2DESSJCl7BiJJkpQ9A5EkScqegUiSJGXPQCRJkrJnIJIkSdkzEEmSpOwZiCRJUvYMRJIkKXvr97uAySiGYh/g28CVZVW/umv75sCvgbvKqt4qhuIUYK+yqoshxx8IXFZW9UDXtj2A7wD7llW9uNm2GfAb4B/Kqv5Yj1rmAQeWVb3L+LVQkqTJxRGiteuVMRRbdD1+PTBl8EFZ1ecAh4/kRGVVfxe4Azisa3PR3F48tjIlScqbI0Rr1/XAUcCZzeOjgeuArQBiKM4GdgH2iaHYBbgAmAXc2ON8XwSOjaE4qazqDilMLS6remkz+vQp4OXAMuBdZVV/qfvgGIpfAmeXVf2J7lGoGIqnAB8HjgQeAN5TVvVFXcdNBaYC08byjyFJ0rrKEaK16wJSCCKGYmdgNnBZj30/D9wC7AT8rMc+C0iBafcYihnAK5ptNPdvb47/KHBeDMXAMOcYznuB7YEXAW8Gzm8C1qDTSCFryQjPJ0lSqxiI1q5LgFkxFC8lBaMvASuG7hRDsSkpkHyyrOo7gSuGO1lZ1bcBN5OmzQ4CngC+2jx9NbAlaQTqdGAGsPEI6zwImEMKZAuBDYEXdj1/RnO+2SM8nyRJreKU2dr1KGl9z/HAwcAhwM7D7Ndpbv84gnMuAE4EtgYuLav64Wb7vwDbksLSNkAJDB0h6jC8Dmk67vSubUsH75RVvQJYEUMxgvIkSWofR4jWvguAY4AHm4XRf6as6mXArcCJMRRbAvuv4nwlaQ3SwaycLoM0grMUuB/Yvcex9wB7xlA8hzQqNOiq5vEsYFNSuBrpdJskSa1nIFrLmhB0O/CF1ex6DGna6ofAM1dxvruBa4AHgSu7nvoAaUrr5q7jZw05fB6wF3ADsNmQ7ZcAlwOLgV8Bj6ymXkmSJo2BTqfXLIr0ZDEU04Fli+bM54kpG/W7HEnSOOrMnTkuMwOD7xXAjLKql4/HOSeCI0SSJCl7BiJJkpQ9A5EkScqegUiSJGXPQCRJkrJnIJIkSdkzEEmSpOwZiCRJUvYMRJIkKXsGIkmSlD0DkSRJyp6BSJIkZc9AJEmSsmcgkiRJ2TMQSZKk7K3f7wLUPkfcfNKMsqqX97sOSZLGiyNEkiQpewYiSZKUPQORJEnKnoFIkiRlz0XVWmOL5sxftvCsB/pdhiRpBDpzZw70u4Y2cIRIkiRlz0AkSZKyZyCSJEnZMxBJkqTsGYgkSVL2DESSJCl7BiJJkpQ9A5EkScqegUiSJGXPQCRJkrJnIJIkSdkzEEmSpOwZiCRJUvYMRJIkKXsGIkmSlD0DkSRJyp6BSJIkZW/9fhcwmcRQ7AN8G5hWVvXD43zu84DXAFuWVd1ptr0TOAuYVVb1/T2O+yVwdlnVnxjPeiRJmkwcIWqPBcBsYNeubYcDV/YKQ5IkaWQcIZoAMRTrAWcCbwIeB84H3gOcAzy/rOoDYihOAN5XVvUWMRS7Ad8FNiur+sHmNNcBvwYOA34QQ7E5sDvw+uZ77E8aLdoauBF4XVnVd3XVsA9do1cxFIuAh8uqfmMMxY5NTS9ojj2mrOpfdB07FZgKTBv3fxxJktYBjhBNjOOBY4D9gL8FTgaOAhYDe8RQDAAHALNiKHYG9gRu7ApDNNNkJXBos+lQ4PfApc3jg4CzgW2BKcDckRQWQzEFuAT4MvBc4OfAR4bsdhqwDFgywvZKktQqBqKJcQBwSVnVN5ZVfQ1wFfBy4FrgL4AXA3uTpsUOIgWixcOcZwGwbQzFC0nTZV8tq/r3zXOXAm8FbgF2A2aNsLYdgGcD/wj8BDiyqafbGcAM0pSdJEmTjoFoYjwO/LHr8QBAWdW/A75Hmj67GbiQlYHom0NPUlb1rcCPSFNvgwGKGIoNgUWkabU9SOFoYMjhnR61DW4/EtgJ2I40Fdf9fVeUVb0ceGh1DZUkqY1cQ7R2PCOGYpPm/iPAlcDpMRSfBjYGXgUc1zy/GHg/cApwDbANqV+u73HuBcAHgftYOYr0lObr56S1PtsDPx5y3D3N7b7NlWc7kwLUbaSpsOOBdwL7AJuT1iNJkpQFR4jWjp+TAsg9wHzSguULgStI63U+Ulb1wmbfwVBzeVnVjwPfAK4rq/qxHuf+IqnfLi6r+g8AzejNKaSprRr4DUOmzMqq/llTy4XN173N9hXAIc3+twHvAm4YfdMlSWqfgU6n10yK9GQxFNOBZYvmzOeJKRv1uxxJ0gh05s4cuoRirRp8rwBmNB/YW8ERIkmSlD0DkSRJyp6BSJIkZc9AJEmSsmcgkiRJ2TMQSZKk7BmIJElS9gxEkiQpewYiSZKUPQORJEnKnoFIkiRlz0AkSZKyZyCSJEnZMxBJkqTsGYgkSVL21u93AWqfI24+aUZZ1cv7XYckSePFESJJkpQ9A5EkScqegUiSJGXPQCRJkrLnomqtsUVz5i9beNYD/S5DkiaNztyZA/2uIXeOEEmSpOwZiCRJUvYMRJIkKXsGIkmSlD0DkSRJyp6BSJIkZc9AJEmSsmcgkiRJ2TMQSZKk7BmIJElS9gxEkiQpewYiSZKUPQORJEnKnoFIkiRlz0AkSZKyZyCSJEnZMxBJkqTsGYjGKIZinxiKTgzFJl3bDoyh6DT3QwzFTas5xxtjKO5bzT4/i6G4aMi2S1Z17hiKrZraXjiy1kiSlCcD0VpWVnUF7DoOp1oAHBhDsQFAE8D2a7ZLkqQxWL/fBUx2MRRvA04FtoqheBpwIbAXcC2wJ/B3za4bxFBcDOwP/BA4qKzq33adagEwD3glcAVwALAhUDbf5zTgLcBTga8Axw2pYx5wYFnVuzSP7wNOLav68zEUETgD2BS4FDihrOpHu46dCkwFpo35H0SSpHWQI0TjZ0kMxYMxFA8CC3vsMw/YBtgNOJ8UXgZtRApLuwDbAa/tPrCs6tuBHwCHNZsOA64pq/ruGIrZwPbAG0ijUYcCh4yk6BiKv2pqOR7YEdgBeOuQ3U4DlgFLRnJOSZLaxkA0fvYAdmq+3tFjn72AL5RV/ZOyqushzy0vq/prZVX/FPgFsPkwxy8ADomh2Jg0krQAoKzqJcAtwLnA9aSRnFkjrPs1pNGfijQytR3w4iH7nAHMAGaP8JySJLWKU2bj586yqh8GiKG4t8c+f2y+RmJgmG0XAx8GPgBsAHy5+X5/DfwbEIEbgOuGOb7T4/t0gIdIQW7Q77p3KKt6BbAihmKEpUuS1C6OEE2s/wCOiqHYNobi8DU9uKzqpcBi4GTg8rKqlzVPzQCeAP4X2BaYOczh9wBbx1C8IIbiYGB6s/1qYBNSmOqQpsu8Kk2SlBUD0cT6AHAH8F/AMc22x9fwHAuAKTz56rIrgC+RRob+CbiLP58yW0iaErsBOBF4AKCs6v8mLew+FvgJsDNpyk6SpGwMdDq9ZlI03poFzC8BriKt3fk08Jyyqu/qa2EjFEMxHVi2aM58npiyUb/LkaRJozN35nDLJFpp8L0CmFFW9fJ+1zNSriGaWAOkkZhzSVdsHd2WMCRJ0mRmIJpAZVXfBuzd7zokSdKTuYZIkiRlz0AkSZKyZyCSJEnZMxBJkqTsGYgkSVL2DESSJCl7BiJJkpQ9A5EkScqegUiSJGXPQCRJkrJnIJIkSdkzEEmSpOwZiCRJUvb83+61xo64+aQZZVUv73cdkiSNF0eIJElS9gxEkiQpewYiSZKUPQORJEnKnoFIkiRlz6vMNBrTYij6XYMkad00rd8FjIaBSGti8Id8SV+rkCS1wTSgNX+ixUCkNXE3MBt4qN+FSJLWadNI7xmtMdDpdPpdgyRJUl+5qFqSJGXPQCRJkrJnIJIkSdkzEEmSpOwZiCRJUvYMRJIkKXsGIkmSlD0DkSRJyp6BSJIkZc9AJEmSsmcgkiRJ2TMQSZKk7BmIJElS9v4fwHLlVtBhcq8AAAAASUVORK5CYII=);}\n",
       "            span.association-graph-source::before { content: url(data:image/png;base64,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);}\n",
       "            span.association-graph-compare::before { content: url(data:image/png;base64,iVBORw0KGgoAAAANSUhEUgAAAGQAAABkCAYAAABw4pVUAAAAOXRFWHRTb2Z0d2FyZQBNYXRwbG90bGliIHZlcnNpb24zLjguMCwgaHR0cHM6Ly9tYXRwbG90bGliLm9yZy81sbWrAAAACXBIWXMAAA9hAAAPYQGoP6dpAAAC0klEQVR4nO3dMWsTYRzH8W+Pw4IQrZFu3RwUfAW+AMHxBm+4gjo46Obk0EmciiCOToIu8gy3HLi4ufkOinSvVSqItSLWJQ5JyBlySdqY3M/c7wOBpnla/twXQi/w9FnpdDqYjqjuAexvDiLGQcQ4iBgHEeMgYhxETJSlyW6WJjfqHsS6IuAV8DpLk7M1z2J0gzwH2sDVmmcxIA55cZilCcD6qAVZmqwCq0PfbgNf5zva0mkB+yEvxn5WFZe+rlq4BTz6V1M13AbwcdyCOEuTc72vDyrWbAPPSs9bwF7vlx/NOmFD9K/ZxOsVA/eBL8DOqAUhL46B4/7z3tsbwFHIi+8zDtoIpWs2UQTcBW6FvPg1r4FsenHIi8t1D2EDvlMX4yBiHESMg4hxEDEOIsZBxDiIGAcR4yBiHESMg4hxEDEOIsZBxDiIGAcR4yBiHESMg4hxEDEOIsZBxDiIGAcR4yBiHESMg4hxEDFxlib9nVOtkBc/ap3GiIELAI6hIQ558a3uIWwgytLkQ5Ymm3UPYl0xEICXWZq8C3nxaXjBiG3RrUUN10QR8BQ4A1ypWLMFHJYee4sZrZki4DbwG9itWLMNnC89NhYzWjPFwEO6u3D3Ry0Ysy3a5iAOeXGp7iFswHfqYhxEjIOIcRAxDiLGQcQ4iBgHEeMgYhxEjIOIcRAxDiLGQcQ4iBgHEeMgYhxEjIOIcRAxDiLGQcQ4iBgHEeMgYhxEjIOIcRAxDiLGQcT4cGIxPpxYjA8nFnOaw4n7u3Bb3t42tal3Ls9yOLF3455cGxh7XO0yHU6sOhcMZpt45PnSHE6sOhf4cOL/mg8nFnOaO/Vj4DGltzERqnPBCWZb6XSq/riyOvizLDEOIsZBxMRVL2RpchN4AlwE3gD3Ql78LL2+BrwArgOfgQchL97OddrpZ7sGvB/6sYX8k88sTdaBTeAO3duJnaHX1xhz3f4AKke0M4uhMrYAAAAASUVORK5CYII=);}\n",
       "        span.graph-legend { content: url(data:image/png;base64,iVBORw0KGgoAAAANSUhEUgAAAlgAAAAbCAYAAACgNfE3AAAAOXRFWHRTb2Z0d2FyZQBNYXRwbG90bGliIHZlcnNpb24zLjguMCwgaHR0cHM6Ly9tYXRwbG90bGliLm9yZy81sbWrAAAACXBIWXMAAA9hAAAPYQGoP6dpAAADa0lEQVR4nO3dT6jmUxzH8fcZ0yRkzJGmWxp/EhLGQsTIsBELytj4U0xpNtNMcRlnYWMwi1MWuiVSmJR/MyuJMkhoyp8YYuGKaDJk4XQnxnX9Oxbnd7tPlxl3xo/7uN6venr+/M45v/P8Vp++5zzPL9RakSRJUn8WzfcEJEmSFhoDliRJUs8MWJIkST1bPN8TkGYLuVwCvNq9/a57fUtN8fMD9FkLfFVT3PEXbR6b9fEDNcUNf2e+kiTNZgVLw+x44FxgEngt5HL0AdquBS6bw5gFWDbw2DR4MOQSDmmmkiQNsIKlYba3prgn5HIzsAe4IeQyCdwJjNAqW9cD24HVwOqQy1G00DQGXAn8CmypKY51Y9aa4sTgSUIudwE3AT8BL4RcMvAgcCmwF9hUU9wWctkKnAocDpwMPAIEWrj7GlhTUxwPuZwAbAXOBz4G1tUU3+31ykiShpoBS0Ovprgv5DIOnAccBtwOvA+8AqwDrgFeBHYBdwAXAVPABcBKYFvI5cluuBhymRgY/ozu+RjgCuAj4CrgU+BW4Grg4ZDL9q7dsd3xC4FHgXuBc4BngY3ABuAJ4APgOmB9127l/r5fyOUf/6+UmqKVOUn6F7lEqP+SH4GXgc3Ae8CJwEhNcR/wCzBVU5wEdtKC2A5mqkzLuzEmaIFo+vFN9/lnNcU3a4rf04LbCuB14B5gKXBE1+7DmuI4M3vEnqkp7qYFquUhl2XAKuBGWvVqFDgr5LKkv8sgSRp2VrA09EIuRwKnAc/TNqnfBjxHqxT9WWVmFLicVkECeGOg3W81xS9mjT+7/xbaUuAa4BTgqf2c5w9TBaarUaPASwPHfp5Df0nSAmEFS8NsacjldFqomq4sLQI+AY4DThpoOwWsCLlEWsWp0PZFrTqU89IqW9/SlhnnrNvf9Q5tX9Zi4ExgY03RWyZI0v+IAUvD7EvgLWAJcHFNcSdwH/A08BCwm7bZHeBxWtVqM3A/8ANtn9bZtKrSCHN3N+0XjLuYWVo8mP7XAvu6848Bbx9EX0nSAhC8F6E0v9zkLkkLjwFLkiSpZy4RSpIk9cyAJUmS1DMDliRJUs8MWJIkST0zYEmSJPXMgCVJktQzA5YkSVLPDFiSJEk9M2BJkiT1zIAlSZLUMwOWJElSzwxYkiRJPTNgSZIk9ex3VJ3LrduhOHAAAAAASUVORK5CYII=);}\n",
       "    &lt;/style&gt;\n",
       "&lt;script&gt;\n",
       "    g_height = 784;\n",
       "    g_scale = 1.0;\n",
       "&lt;/script&gt;\n",
       "&lt;/head&gt;\n",
       "\n",
       "&lt;body&gt;\n",
       "&lt;div class=&quot;page-root-vertical&quot;&gt;\n",
       "    &lt;!-- TOP HEADER --&gt;\n",
       "    &lt;!-- ALL SUMMARY TABS --&gt;\n",
       "    &lt;div class=&quot;page-column-main&quot; id=&quot;col1&quot; style=&quot;transform: scale(1.0);transform-origin: 0 0;&quot;&gt;\n",
       "        &lt;!-- DF Summary --&gt;\n",
       "\n",
       "        &lt;!-- ASSOCIATIONS (VERTICAL ONLY) --&gt;\n",
       "                &lt;div class=&quot;isHidden container-feature-detail&quot; id=&quot;df-assoc-source&quot;Yellow\n",
       "    style=&quot;display: contents; &quot;\n",
       "&gt;\n",
       "&lt;div class=&quot;container-feature-detail__offset&quot;\n",
       "    style=&quot;position: absolute; top: 137px&quot;\n",
       "&gt;\n",
       "    &lt;span class=&quot;bg-tab-detail-wide&quot;&gt;&lt;/span&gt;\n",
       "    &lt;span class=&quot;text-title-tab pos-text-title-tab__no-icon&quot;&gt;Associations&lt;/span&gt;\n",
       "    &lt;div class=&quot;text-med  pos-detail-assoc-desc-text&quot; style=&quot;font-size: 11px;&quot;&gt;\n",
       "        &lt;span class=&quot;color-source&quot;&gt;[Only including dataset &quot;DataFrame&quot;]&lt;/span&gt;&lt;br&gt;\n",
       "         &amp;#9632; &lt;b&gt;Squares&lt;/b&gt; are categorical associations (uncertainty coefficient &amp; correlation ratio) from 0 to 1. The uncertainty coefficient is &lt;b&gt;assymmetrical&lt;/b&gt;,\n",
       "        (i.e. ROW LABEL values indicate how much they PROVIDE INFORMATION to each LABEL at the TOP).\n",
       "       &lt;br&gt;&lt;br&gt;&amp;#8226; &lt;b&gt;Circles&lt;/b&gt; are the symmetrical numerical correlations (Pearson&#x27;s) from -1 to 1. The &lt;b&gt;trivial diagonal&lt;/b&gt; is intentionally left blank for clarity.\n",
       "    &lt;/div&gt;\n",
       "    &lt;span class=&quot;association-graph-source pos-detail-assoc-graph&quot;&gt;&lt;/span&gt;\n",
       "&lt;/div&gt;\n",
       "&lt;/div&gt;\n",
       "\n",
       "                &lt;div class=&quot;isHidden container-feature-detail&quot; id=&quot;df-assoc-compare&quot;Yellow\n",
       "    style=&quot;display: contents; &quot;\n",
       "&gt;\n",
       "&lt;div class=&quot;container-feature-detail__offset&quot;\n",
       "    style=&quot;position: absolute; top: 137px&quot;\n",
       "&gt;\n",
       "    &lt;span class=&quot;bg-tab-detail-wide&quot;&gt;&lt;/span&gt;\n",
       "    &lt;span class=&quot;text-title-tab pos-text-title-tab__no-icon&quot;&gt;Associations&lt;/span&gt;\n",
       "    &lt;div class=&quot;text-med  pos-detail-assoc-desc-text&quot; style=&quot;font-size: 11px;&quot;&gt;\n",
       "        &lt;span class=&quot;color-compare&quot;&gt;[Only including dataset &quot;None&quot;]&lt;/span&gt;&lt;br&gt;\n",
       "         &amp;#9632; &lt;b&gt;Squares&lt;/b&gt; are categorical associations (uncertainty coefficient &amp; correlation ratio) from 0 to 1. The uncertainty coefficient is &lt;b&gt;assymmetrical&lt;/b&gt;,\n",
       "        (i.e. ROW LABEL values indicate how much they PROVIDE INFORMATION to each LABEL at the TOP).\n",
       "       &lt;br&gt;&lt;br&gt;&amp;#8226; &lt;b&gt;Circles&lt;/b&gt; are the symmetrical numerical correlations (Pearson&#x27;s) from -1 to 1. The &lt;b&gt;trivial diagonal&lt;/b&gt; is intentionally left blank for clarity.\n",
       "    &lt;/div&gt;\n",
       "    &lt;span class=&quot;association-graph-compare pos-detail-assoc-graph&quot;&gt;&lt;/span&gt;\n",
       "&lt;/div&gt;\n",
       "&lt;/div&gt;\n",
       "\n",
       "\n",
       "        &lt;!-- ALL SUMMARIES --&gt;\n",
       "       &lt;div class=&quot;container-feature-summary&quot; id=&quot;summary-df&quot; data-detail-div=&quot;detail-df&quot;&gt;\n",
       "    &lt;div class=&quot;pos-dataframe-summary text-label&quot;&gt;\n",
       "        &lt;span class=&quot;top-header&quot;&gt;&lt;/span&gt;\n",
       "        &lt;div class=&quot;pos-dataframe-summary-title-source text-dataframe-title color-source&quot;&gt;DataFrame&lt;/div&gt;\n",
       "            &lt;div class=&quot;pos-dataframe-summary-title-compare-none text-dataframe-title-small color-title-disabled&quot;&gt;NO COMPARISON TARGET&lt;/div&gt;\n",
       "        &lt;div class=&quot;pos-dataframe-summary-rows&quot;&gt;\n",
       "            &lt;div class=&quot;dataframe-summary-row row-colored&quot;&gt;\n",
       "                &lt;div class=&quot;pos-df-summary-source color-source&quot;&gt;946&lt;/div&gt;\n",
       "                &lt;div class=&quot;pos-df-summary-center&quot;&gt;ROWS&lt;/div&gt;\n",
       "                &lt;div class=&quot;pos-df-summary-compare color-compare&quot;&gt;&lt;/div&gt;\n",
       "            &lt;/div&gt;\n",
       "             &lt;div class=&quot;dataframe-summary-row&quot;&gt;\n",
       "                &lt;div class=&quot;pos-df-summary-source color-source&quot;&gt;940&lt;/div&gt;\n",
       "                &lt;div class=&quot;pos-df-summary-center&quot;&gt;DUPLICATES&lt;/div&gt;\n",
       "                &lt;div class=&quot;pos-df-summary-compare color-compare&quot;&gt;&lt;/div&gt;\n",
       "            &lt;/div&gt;\n",
       "            &lt;div class=&quot;dataframe-summary-row row-colored&quot;&gt;\n",
       "                &lt;div class=&quot;pos-df-summary-source color-source&quot;&gt;67.1 kb&lt;/div&gt;\n",
       "                &lt;div class=&quot;pos-df-summary-center&quot;&gt;RAM&lt;/div&gt;\n",
       "                &lt;div class=&quot;pos-df-summary-compare color-compare&quot;&gt;&lt;/div&gt;\n",
       "            &lt;/div&gt;\n",
       "            &lt;div class=&quot;dataframe-summary-row row&quot;&gt;\n",
       "                &lt;div class=&quot;pos-df-summary-source color-source&quot;&gt;\n",
       "                    2\n",
       "                &lt;/div&gt;\n",
       "                &lt;div class=&quot;pos-df-summary-center&quot;&gt;FEATURES&lt;/div&gt;\n",
       "                &lt;div class=&quot;pos-df-summary-compare color-compare&quot;&gt;\n",
       "                &lt;/div&gt;\n",
       "            &lt;/div&gt;\n",
       "            &lt;div class=&quot;dataframe-summary-row row-colored&quot;&gt;\n",
       "                &lt;div class=&quot;pos-df-summary-source color-source&quot;&gt;2&lt;/div&gt;\n",
       "                &lt;div class=&quot;pos-df-summary-center&quot;&gt;CATEGORICAL&lt;/div&gt;\n",
       "                &lt;div class=&quot;pos-df-summary-compare color-compare&quot;&gt;&lt;/div&gt;\n",
       "            &lt;/div&gt;\n",
       "             &lt;div class=&quot;dataframe-summary-row &quot;&gt;\n",
       "                &lt;div class=&quot;pos-df-summary-source color-source&quot;&gt;0&lt;/div&gt;\n",
       "                &lt;div class=&quot;pos-df-summary-center&quot;&gt;NUMERICAL&lt;/div&gt;\n",
       "                &lt;div class=&quot;pos-df-summary-compare color-compare&quot;&gt;&lt;/div&gt;\n",
       "            &lt;/div&gt;\n",
       "            &lt;div class=&quot;dataframe-summary-row row-colored&quot;&gt;\n",
       "                &lt;div class=&quot;pos-df-summary-source color-source&quot;&gt;0&lt;/div&gt;\n",
       "                &lt;div class=&quot;pos-df-summary-center&quot;&gt;TEXT&lt;/div&gt;\n",
       "                &lt;div class=&quot;pos-df-summary-compare color-compare&quot;&gt;&lt;/div&gt;\n",
       "            &lt;/div&gt;\n",
       "            &lt;button class=&quot;button-assoc color-source button-border-source size-df-summary-button pos-df-summary-button-assoc-source&quot; id=&quot;button-summary-associations-source&quot;\n",
       "                data-detail-div=&quot;df-assoc-source&quot;&gt;ASSOCIATIONS&lt;/button &gt;\n",
       "        &lt;/div&gt;\n",
       "    &lt;/div&gt;\n",
       "&lt;/div&gt;\n",
       "\n",
       "\n",
       "\n",
       "            &lt;div class=&quot;pos-logo-group&quot;&gt;\n",
       "                &lt;div class=&quot;pos-logo im-logo&quot;&gt;&lt;/div&gt;\n",
       "                &lt;div class=&quot;pos-credits text-credits&quot;&gt;\n",
       "                    &lt;span class=&quot;text-version&quot;&gt;2.2.1&lt;br&gt;\n",
       "                    &lt;a href=&quot;https://github.com/fbdesignpro/sweetviz&quot;&gt;Get updates, docs &amp; report issues here&lt;/a&gt;&lt;/span&gt;&lt;br&gt;\n",
       "                    Created &amp; maintained by &lt;a href=&quot;https://www.fbdesignpro.com&quot;&gt;Francois Bertrand&lt;/a&gt; &lt;br&gt;\n",
       "                    Graphic design by &lt;a href=&quot;https://www.fbdesignpro.com&quot; data-reach=&quot;Jeff is working on his contact info :)&quot;&gt;Jean-Francois Hains&lt;/a&gt;\n",
       "                &lt;/div&gt;\n",
       "            &lt;/div&gt;\n",
       "        &lt;div class=&quot;page-all-summaries&quot;&gt;\n",
       "            &lt;span class=&quot;graph-legend&quot; style=&quot;left: 391px;position: absolute;top: 5px;&quot;&gt;&lt;/span&gt;\n",
       "            &lt;!-- TARGET Summary --&gt;\n",
       "            &lt;!-- FEATURE Summaries --&gt;\n",
       "                &lt;div class=&quot;pos-feature-summary&quot; style=&quot;top: 0.0px&quot;&gt;\n",
       "                    &lt;div class=&quot;container-feature-summary&quot; id=&quot;summary-f0&quot;\n",
       "     style=&quot;top: 0px&quot;&gt;\n",
       "    &lt;div class=&quot;selector selector__body&quot; data-detail-div=&quot;detail-f0&quot; data-rollover-span=&quot;rollover-f0&quot;&gt;&lt;/div&gt;\n",
       "    &lt;div class=&quot;selector selector__bottom&quot; data-detail-div=&quot;detail-f0&quot; data-rollover-span=&quot;rollover-f0&quot;&gt;&lt;/div&gt;\n",
       "    &lt;div class=&quot;selector selector__top&quot; data-detail-div=&quot;detail-f0&quot; data-rollover-span=&quot;rollover-f0&quot;&gt;&lt;/div&gt;\n",
       "    &lt;span class=&quot;bg-tab-summary&quot; style=&quot;z-index: -20000&quot;&gt;&lt;/span&gt;\n",
       "    &lt;span class=&quot;bg-tab-summary-rollover&quot; id=&quot;rollover-f0&quot; style=&quot;z-index: -19999&quot;&gt;&lt;/span&gt;\n",
       "    &lt;div class=&quot;summary-number&quot;\n",
       "        &gt;\n",
       "        1\n",
       "    &lt;/div&gt;\n",
       "    &lt;div class=&quot;pos-tab-image ic-cat&quot;&gt;&lt;/div&gt;\n",
       "    &lt;span class=&quot;text-title-tab color-normal &quot;&gt;customer_segment&lt;/span&gt;\n",
       "    &lt;div class=&quot;pos-base-stats&quot;&gt;\n",
       "        &lt;div class=&quot;base-stats-row&quot;&gt;\n",
       "            &lt;div class=&quot;text-label color-normal pos-base-stats__label  &quot;&gt;VALUES:&lt;/div&gt;\n",
       "            &lt;div class=&quot;text-value color-source pos-base-stats__source&quot;&gt;\n",
       "                946\n",
       "            &lt;/div&gt;\n",
       "            &lt;div class=&quot;text-value color-source pos-base-stats__source-perc&quot;&gt;\n",
       "                (100%)\n",
       "            &lt;/div&gt;\n",
       "        &lt;/div&gt;\n",
       "        &lt;div class=&quot;base-stats-row&quot;&gt;\n",
       "            &lt;div class=&quot;text-label color-normal pos-base-stats__label &quot;&gt;MISSING:&lt;/div&gt;\n",
       "            &lt;div class=&quot;text-value color-source pos-base-stats__source&quot;&gt;\n",
       "                    ---\n",
       "            &lt;/div&gt;\n",
       "            &lt;div class=&quot;text-value color-source pos-base-stats__source-perc&quot; &gt;\n",
       "\n",
       "            &lt;/div&gt;\n",
       "        &lt;/div&gt;\n",
       "        &lt;div class=&quot;base-stats-row&quot;&gt;\n",
       "        &lt;/div&gt;\n",
       "        &lt;div class=&quot;base-stats-row&quot;&gt;\n",
       "            &lt;div class=&quot;text-label color-normal pos-base-stats__label &quot;&gt;DISTINCT:&lt;/div&gt;\n",
       "            &lt;div class=&quot;text-distinct color-source pos-base-stats__source&quot;&gt;\n",
       "                4\n",
       "            &lt;/div&gt;\n",
       "            &lt;div class=&quot;text-value color-source pos-base-stats__source-perc&quot;&gt;\n",
       "                (&lt;1%)\n",
       "            &lt;/div&gt;\n",
       "        &lt;/div&gt;\n",
       "    &lt;/div&gt;\n",
       "    &lt;span class=&quot;minigraph-f0 pos-minigraph-cat&quot;&gt;&lt;/span&gt;\n",
       "&lt;/div&gt;\n",
       "                    &lt;!-- This DETAIL WINDOW (VERTICAL ONLY) --&gt;\n",
       "                        &lt;div class=&quot;isHidden container-feature-detail-vertical&quot;\n",
       "        style=&quot;top: 157px&quot;\n",
       "     id=&quot;detail-f0&quot;&gt;\n",
       "&lt;div class=&quot;container-feature-detail__offset&quot;&gt;\n",
       "\n",
       "    &lt;span class=&quot;detail_graph-f0-\n",
       "                pos-detail-cat-graph&quot; id=&quot;detail_graph-f0&quot;\n",
       "    style=&quot;top: 75px;&quot;&gt;&lt;/span&gt;\n",
       "\n",
       "    &lt;div class=&quot;pos-detail-cat-breakdown &quot; id=&quot;detail_breakdown-f0&quot;\n",
       "        style=&quot;top: 324.0px;&quot;&gt; &lt;!-- height: 586.0px;&quot;&gt; WHY was this needed? Causes issue in vertical layout. --&gt;\n",
       "        &lt;!-- HEADER ROW --&gt;\n",
       "        &lt;div class=&quot;breakdown-row-header text-value&quot; style=&quot;width:553px&quot;&gt;\n",
       "            &lt;div class=&quot;text-med-bold&quot; style=&quot;position: absolute; left:10px&quot;&gt;TOP CATEGORIES&lt;/div&gt;\n",
       "            &lt;div class=&quot;breakdown-hr&quot;&gt;&lt;hr&gt;&lt;/div&gt;\n",
       "            &lt;div class=&quot;pair__header color-source&quot; style=&quot;left: 144px&quot;&gt;&lt;/div&gt;\n",
       "            &lt;!-- Targets --&gt;\n",
       "                &lt;div class=&quot;pair__header color-compare&quot; style=&quot;position: absolute; left: px&quot;&gt;\n",
       "                    &lt;!--None--&gt;\n",
       "                &lt;/div&gt;\n",
       "        &lt;/div&gt;\n",
       "\n",
       "        &lt;!-- ROW CONTENT --&gt;\n",
       "            &lt;div class=&quot;breakdown-row text-value &quot; style=&quot;width:553px&quot;&gt;\n",
       "                &lt;!-- Name --&gt;\n",
       "                &lt;div class=&quot;text-label color-normal &quot; style=&quot;position: absolute; left:10px;\n",
       "                width: 144px; overflow: hidden; text-overflow: ellipsis; white-space: nowrap;&quot;&gt;Can&#x27;t Lose&lt;/div&gt;\n",
       "\n",
       "                &lt;!-- Freq --&gt;\n",
       "                &lt;div class=&quot;pair__col color-source&quot; style=&quot;left: 144px&quot;&gt;\n",
       "                    &lt;div class=&quot;pair-pos__num dim&quot;&gt;574&lt;/div&gt;\n",
       "                    &lt;div class=&quot;pair-pos__perc&quot;&gt;61%&lt;/div&gt;\n",
       "                &lt;/div&gt;\n",
       "                &lt;!-- Targets --&gt;\n",
       "            &lt;/div&gt;\n",
       "            &lt;div class=&quot;breakdown-row text-value row-colored&quot; style=&quot;width:553px&quot;&gt;\n",
       "                &lt;!-- Name --&gt;\n",
       "                &lt;div class=&quot;text-label color-normal &quot; style=&quot;position: absolute; left:10px;\n",
       "                width: 144px; overflow: hidden; text-overflow: ellipsis; white-space: nowrap;&quot;&gt;At Risk Customers&lt;/div&gt;\n",
       "\n",
       "                &lt;!-- Freq --&gt;\n",
       "                &lt;div class=&quot;pair__col color-source&quot; style=&quot;left: 144px&quot;&gt;\n",
       "                    &lt;div class=&quot;pair-pos__num dim&quot;&gt;321&lt;/div&gt;\n",
       "                    &lt;div class=&quot;pair-pos__perc&quot;&gt;34%&lt;/div&gt;\n",
       "                &lt;/div&gt;\n",
       "                &lt;!-- Targets --&gt;\n",
       "            &lt;/div&gt;\n",
       "            &lt;div class=&quot;breakdown-row text-value &quot; style=&quot;width:553px&quot;&gt;\n",
       "                &lt;!-- Name --&gt;\n",
       "                &lt;div class=&quot;text-label color-normal &quot; style=&quot;position: absolute; left:10px;\n",
       "                width: 144px; overflow: hidden; text-overflow: ellipsis; white-space: nowrap;&quot;&gt;Champions&lt;/div&gt;\n",
       "\n",
       "                &lt;!-- Freq --&gt;\n",
       "                &lt;div class=&quot;pair__col color-source&quot; style=&quot;left: 144px&quot;&gt;\n",
       "                    &lt;div class=&quot;pair-pos__num dim&quot;&gt;36&lt;/div&gt;\n",
       "                    &lt;div class=&quot;pair-pos__perc&quot;&gt;4%&lt;/div&gt;\n",
       "                &lt;/div&gt;\n",
       "                &lt;!-- Targets --&gt;\n",
       "            &lt;/div&gt;\n",
       "            &lt;div class=&quot;breakdown-row text-value row-colored&quot; style=&quot;width:553px&quot;&gt;\n",
       "                &lt;!-- Name --&gt;\n",
       "                &lt;div class=&quot;text-label color-normal &quot; style=&quot;position: absolute; left:10px;\n",
       "                width: 144px; overflow: hidden; text-overflow: ellipsis; white-space: nowrap;&quot;&gt;Potential Loyalists&lt;/div&gt;\n",
       "\n",
       "                &lt;!-- Freq --&gt;\n",
       "                &lt;div class=&quot;pair__col color-source&quot; style=&quot;left: 144px&quot;&gt;\n",
       "                    &lt;div class=&quot;pair-pos__num dim&quot;&gt;15&lt;/div&gt;\n",
       "                    &lt;div class=&quot;pair-pos__perc&quot;&gt;2%&lt;/div&gt;\n",
       "                &lt;/div&gt;\n",
       "                &lt;!-- Targets --&gt;\n",
       "            &lt;/div&gt;\n",
       "                &lt;div class=&quot;breakdown-row text-value&quot; style=&quot;width:553px&quot;&gt;\n",
       "                &lt;/div&gt;\n",
       "            &lt;div class=&quot;breakdown-row text-value &quot; style=&quot;width:553px&quot;&gt;\n",
       "                &lt;!-- Name --&gt;\n",
       "                &lt;div class=&quot;text-label color-normal &quot; style=&quot;position: absolute; left:10px;\n",
       "                width: 144px; overflow: hidden; text-overflow: ellipsis; white-space: nowrap;&quot;&gt;ALL&lt;/div&gt;\n",
       "\n",
       "                &lt;!-- Freq --&gt;\n",
       "                &lt;div class=&quot;pair__col color-source&quot; style=&quot;left: 144px&quot;&gt;\n",
       "                    &lt;div class=&quot;pair-pos__num dim&quot;&gt;946&lt;/div&gt;\n",
       "                    &lt;div class=&quot;pair-pos__perc&quot;&gt;100%&lt;/div&gt;\n",
       "                &lt;/div&gt;\n",
       "                &lt;!-- Targets --&gt;\n",
       "            &lt;/div&gt;\n",
       "        &lt;div id=&quot;detail_cat_end-0&quot;&gt;&lt;/div&gt;\n",
       "    &lt;/div&gt;\n",
       "\n",
       "    &lt;!-- ASSOCIATIONS --&gt;\n",
       "    &lt;div class=&quot;pos-detail-cat-assoc-1&quot; id=&quot;cat-assoc-CC-f0&quot;&gt;\n",
       "        &lt;!-- no background for target in vertical mode --&gt;\n",
       "        &lt;span class=&quot;bg-extra-column&quot;&gt;&lt;/span&gt;\n",
       "        &lt;div class=&quot;container-detail-assoc &quot; id=&quot;cat-assoc-window-f0&quot;&gt;\n",
       "            &lt;!-- CAT-CAT --&gt;\n",
       "            &lt;div class=&quot;text-small-bold color-light&quot; style=&quot;text-align:right; line-height: 10px&quot;&gt;\n",
       "                CATEGORICAL ASSOCIATIONS&lt;br&gt;\n",
       "                (UNCERTAINTY COEFFICIENT, 0 to 1)\n",
       "            &lt;/div&gt;\n",
       "            &lt;div class=&quot;text-large-bold&quot; style=&quot;line-height: 104%;&quot;&gt;customer_segment&lt;br&gt;\n",
       "            PROVIDES INFORMATION ON...&lt;/div&gt;\n",
       "            &lt;hr&gt;\n",
       "                &lt;div class=&quot;assoc-row &quot; style=&quot;font-weight: bold;&quot;&gt;\n",
       "                    &lt;div class=&quot;pos-assoc-row__label text-label&quot;&gt;RFM_Segment&lt;!----&gt;&lt;/div&gt;\n",
       "                    &lt;div class=&quot;pos-assoc-row__source text-label color-source&quot;&gt;0.45&lt;/div&gt;\n",
       "                &lt;/div&gt;\n",
       "            &lt;br&gt;\n",
       "            &lt;div class=&quot;text-large-bold&quot; style=&quot;line-height: 104%;&quot;&gt;THESE FEATURES&lt;br&gt;GIVE INFORMATION&lt;br&gt;\n",
       "            ON customer_segment:&lt;/div&gt;\n",
       "            &lt;hr&gt;\n",
       "                &lt;div class=&quot;assoc-row &quot; style=&quot;font-weight: bold;&quot;&gt;\n",
       "                    &lt;div class=&quot;pos-assoc-row__label text-label&quot;&gt;RFM_Segment&lt;/div&gt;\n",
       "                    &lt;div class=&quot;pos-assoc-row__source text-label color-source&quot;&gt;0.58&lt;/div&gt;\n",
       "                &lt;/div&gt;\n",
       "            &lt;br&gt;\n",
       "            &lt;!-- CAT-NUM --&gt;\n",
       "            &lt;div class=&quot;text-small-bold color-light&quot; style=&quot;text-align:right; line-height: 10px&quot;&gt;\n",
       "                NUMERICAL ASSOCIATIONS&lt;br&gt;\n",
       "                (CORRELATION RATIO, 0 to 1)\n",
       "            &lt;/div&gt;\n",
       "            &lt;div class=&quot;text-large-bold&quot; style=&quot;line-height: 104%;&quot;&gt;customer_segment&lt;br&gt;\n",
       "                    CORRELATION RATIO WITH...&lt;/div&gt;\n",
       "            &lt;hr&gt;\n",
       "        &lt;/div&gt;\n",
       "    &lt;/div&gt;\n",
       "&lt;/div&gt;\n",
       "&lt;/div&gt;\n",
       "                &lt;/div&gt;\n",
       "                &lt;div class=&quot;pos-feature-summary&quot; style=&quot;top: 0.0px&quot;&gt;\n",
       "                    &lt;div class=&quot;container-feature-summary&quot; id=&quot;summary-f1&quot;\n",
       "     style=&quot;top: 0px&quot;&gt;\n",
       "    &lt;div class=&quot;selector selector__body&quot; data-detail-div=&quot;detail-f1&quot; data-rollover-span=&quot;rollover-f1&quot;&gt;&lt;/div&gt;\n",
       "    &lt;div class=&quot;selector selector__bottom&quot; data-detail-div=&quot;detail-f1&quot; data-rollover-span=&quot;rollover-f1&quot;&gt;&lt;/div&gt;\n",
       "    &lt;div class=&quot;selector selector__top&quot; data-detail-div=&quot;detail-f1&quot; data-rollover-span=&quot;rollover-f1&quot;&gt;&lt;/div&gt;\n",
       "    &lt;span class=&quot;bg-tab-summary&quot; style=&quot;z-index: -19998&quot;&gt;&lt;/span&gt;\n",
       "    &lt;span class=&quot;bg-tab-summary-rollover&quot; id=&quot;rollover-f1&quot; style=&quot;z-index: -19997&quot;&gt;&lt;/span&gt;\n",
       "    &lt;div class=&quot;summary-number&quot;\n",
       "        &gt;\n",
       "        2\n",
       "    &lt;/div&gt;\n",
       "    &lt;div class=&quot;pos-tab-image ic-cat&quot;&gt;&lt;/div&gt;\n",
       "    &lt;span class=&quot;text-title-tab color-normal &quot;&gt;RFM_Segment&lt;/span&gt;\n",
       "    &lt;div class=&quot;pos-base-stats&quot;&gt;\n",
       "        &lt;div class=&quot;base-stats-row&quot;&gt;\n",
       "            &lt;div class=&quot;text-label color-normal pos-base-stats__label  &quot;&gt;VALUES:&lt;/div&gt;\n",
       "            &lt;div class=&quot;text-value color-source pos-base-stats__source&quot;&gt;\n",
       "                946\n",
       "            &lt;/div&gt;\n",
       "            &lt;div class=&quot;text-value color-source pos-base-stats__source-perc&quot;&gt;\n",
       "                (100%)\n",
       "            &lt;/div&gt;\n",
       "        &lt;/div&gt;\n",
       "        &lt;div class=&quot;base-stats-row&quot;&gt;\n",
       "            &lt;div class=&quot;text-label color-normal pos-base-stats__label &quot;&gt;MISSING:&lt;/div&gt;\n",
       "            &lt;div class=&quot;text-value color-source pos-base-stats__source&quot;&gt;\n",
       "                    ---\n",
       "            &lt;/div&gt;\n",
       "            &lt;div class=&quot;text-value color-source pos-base-stats__source-perc&quot; &gt;\n",
       "\n",
       "            &lt;/div&gt;\n",
       "        &lt;/div&gt;\n",
       "        &lt;div class=&quot;base-stats-row&quot;&gt;\n",
       "        &lt;/div&gt;\n",
       "        &lt;div class=&quot;base-stats-row&quot;&gt;\n",
       "            &lt;div class=&quot;text-label color-normal pos-base-stats__label &quot;&gt;DISTINCT:&lt;/div&gt;\n",
       "            &lt;div class=&quot;text-distinct color-source pos-base-stats__source&quot;&gt;\n",
       "                3\n",
       "            &lt;/div&gt;\n",
       "            &lt;div class=&quot;text-value color-source pos-base-stats__source-perc&quot;&gt;\n",
       "                (&lt;1%)\n",
       "            &lt;/div&gt;\n",
       "        &lt;/div&gt;\n",
       "    &lt;/div&gt;\n",
       "    &lt;span class=&quot;minigraph-f1 pos-minigraph-cat&quot;&gt;&lt;/span&gt;\n",
       "&lt;/div&gt;\n",
       "                    &lt;!-- This DETAIL WINDOW (VERTICAL ONLY) --&gt;\n",
       "                        &lt;div class=&quot;isHidden container-feature-detail-vertical&quot;\n",
       "        style=&quot;top: 157px&quot;\n",
       "     id=&quot;detail-f1&quot;&gt;\n",
       "&lt;div class=&quot;container-feature-detail__offset&quot;&gt;\n",
       "\n",
       "    &lt;span class=&quot;detail_graph-f1-\n",
       "                pos-detail-cat-graph&quot; id=&quot;detail_graph-f1&quot;\n",
       "    style=&quot;top: 75px;&quot;&gt;&lt;/span&gt;\n",
       "\n",
       "    &lt;div class=&quot;pos-detail-cat-breakdown &quot; id=&quot;detail_breakdown-f1&quot;\n",
       "        style=&quot;top: 264.0px;&quot;&gt; &lt;!-- height: 646.0px;&quot;&gt; WHY was this needed? Causes issue in vertical layout. --&gt;\n",
       "        &lt;!-- HEADER ROW --&gt;\n",
       "        &lt;div class=&quot;breakdown-row-header text-value&quot; style=&quot;width:553px&quot;&gt;\n",
       "            &lt;div class=&quot;text-med-bold&quot; style=&quot;position: absolute; left:10px&quot;&gt;TOP CATEGORIES&lt;/div&gt;\n",
       "            &lt;div class=&quot;breakdown-hr&quot;&gt;&lt;hr&gt;&lt;/div&gt;\n",
       "            &lt;div class=&quot;pair__header color-source&quot; style=&quot;left: 90px&quot;&gt;&lt;/div&gt;\n",
       "            &lt;!-- Targets --&gt;\n",
       "                &lt;div class=&quot;pair__header color-compare&quot; style=&quot;position: absolute; left: px&quot;&gt;\n",
       "                    &lt;!--None--&gt;\n",
       "                &lt;/div&gt;\n",
       "        &lt;/div&gt;\n",
       "\n",
       "        &lt;!-- ROW CONTENT --&gt;\n",
       "            &lt;div class=&quot;breakdown-row text-value &quot; style=&quot;width:553px&quot;&gt;\n",
       "                &lt;!-- Name --&gt;\n",
       "                &lt;div class=&quot;text-label color-normal &quot; style=&quot;position: absolute; left:10px;\n",
       "                width: 90px; overflow: hidden; text-overflow: ellipsis; white-space: nowrap;&quot;&gt;Mid Value&lt;/div&gt;\n",
       "\n",
       "                &lt;!-- Freq --&gt;\n",
       "                &lt;div class=&quot;pair__col color-source&quot; style=&quot;left: 90px&quot;&gt;\n",
       "                    &lt;div class=&quot;pair-pos__num dim&quot;&gt;328&lt;/div&gt;\n",
       "                    &lt;div class=&quot;pair-pos__perc&quot;&gt;35%&lt;/div&gt;\n",
       "                &lt;/div&gt;\n",
       "                &lt;!-- Targets --&gt;\n",
       "            &lt;/div&gt;\n",
       "            &lt;div class=&quot;breakdown-row text-value row-colored&quot; style=&quot;width:553px&quot;&gt;\n",
       "                &lt;!-- Name --&gt;\n",
       "                &lt;div class=&quot;text-label color-normal &quot; style=&quot;position: absolute; left:10px;\n",
       "                width: 90px; overflow: hidden; text-overflow: ellipsis; white-space: nowrap;&quot;&gt;Low Value&lt;/div&gt;\n",
       "\n",
       "                &lt;!-- Freq --&gt;\n",
       "                &lt;div class=&quot;pair__col color-source&quot; style=&quot;left: 90px&quot;&gt;\n",
       "                    &lt;div class=&quot;pair-pos__num dim&quot;&gt;319&lt;/div&gt;\n",
       "                    &lt;div class=&quot;pair-pos__perc&quot;&gt;34%&lt;/div&gt;\n",
       "                &lt;/div&gt;\n",
       "                &lt;!-- Targets --&gt;\n",
       "            &lt;/div&gt;\n",
       "            &lt;div class=&quot;breakdown-row text-value &quot; style=&quot;width:553px&quot;&gt;\n",
       "                &lt;!-- Name --&gt;\n",
       "                &lt;div class=&quot;text-label color-normal &quot; style=&quot;position: absolute; left:10px;\n",
       "                width: 90px; overflow: hidden; text-overflow: ellipsis; white-space: nowrap;&quot;&gt;High Value&lt;/div&gt;\n",
       "\n",
       "                &lt;!-- Freq --&gt;\n",
       "                &lt;div class=&quot;pair__col color-source&quot; style=&quot;left: 90px&quot;&gt;\n",
       "                    &lt;div class=&quot;pair-pos__num dim&quot;&gt;299&lt;/div&gt;\n",
       "                    &lt;div class=&quot;pair-pos__perc&quot;&gt;32%&lt;/div&gt;\n",
       "                &lt;/div&gt;\n",
       "                &lt;!-- Targets --&gt;\n",
       "            &lt;/div&gt;\n",
       "                &lt;div class=&quot;breakdown-row text-value&quot; style=&quot;width:553px&quot;&gt;\n",
       "                &lt;/div&gt;\n",
       "            &lt;div class=&quot;breakdown-row text-value row-colored&quot; style=&quot;width:553px&quot;&gt;\n",
       "                &lt;!-- Name --&gt;\n",
       "                &lt;div class=&quot;text-label color-normal &quot; style=&quot;position: absolute; left:10px;\n",
       "                width: 90px; overflow: hidden; text-overflow: ellipsis; white-space: nowrap;&quot;&gt;ALL&lt;/div&gt;\n",
       "\n",
       "                &lt;!-- Freq --&gt;\n",
       "                &lt;div class=&quot;pair__col color-source&quot; style=&quot;left: 90px&quot;&gt;\n",
       "                    &lt;div class=&quot;pair-pos__num dim&quot;&gt;946&lt;/div&gt;\n",
       "                    &lt;div class=&quot;pair-pos__perc&quot;&gt;100%&lt;/div&gt;\n",
       "                &lt;/div&gt;\n",
       "                &lt;!-- Targets --&gt;\n",
       "            &lt;/div&gt;\n",
       "        &lt;div id=&quot;detail_cat_end-1&quot;&gt;&lt;/div&gt;\n",
       "    &lt;/div&gt;\n",
       "\n",
       "    &lt;!-- ASSOCIATIONS --&gt;\n",
       "    &lt;div class=&quot;pos-detail-cat-assoc-1&quot; id=&quot;cat-assoc-CC-f1&quot;&gt;\n",
       "        &lt;!-- no background for target in vertical mode --&gt;\n",
       "        &lt;span class=&quot;bg-extra-column&quot;&gt;&lt;/span&gt;\n",
       "        &lt;div class=&quot;container-detail-assoc &quot; id=&quot;cat-assoc-window-f1&quot;&gt;\n",
       "            &lt;!-- CAT-CAT --&gt;\n",
       "            &lt;div class=&quot;text-small-bold color-light&quot; style=&quot;text-align:right; line-height: 10px&quot;&gt;\n",
       "                CATEGORICAL ASSOCIATIONS&lt;br&gt;\n",
       "                (UNCERTAINTY COEFFICIENT, 0 to 1)\n",
       "            &lt;/div&gt;\n",
       "            &lt;div class=&quot;text-large-bold&quot; style=&quot;line-height: 104%;&quot;&gt;RFM_Segment&lt;br&gt;\n",
       "            PROVIDES INFORMATION ON...&lt;/div&gt;\n",
       "            &lt;hr&gt;\n",
       "                &lt;div class=&quot;assoc-row &quot; style=&quot;font-weight: bold;&quot;&gt;\n",
       "                    &lt;div class=&quot;pos-assoc-row__label text-label&quot;&gt;customer_segment&lt;!----&gt;&lt;/div&gt;\n",
       "                    &lt;div class=&quot;pos-assoc-row__source text-label color-source&quot;&gt;0.58&lt;/div&gt;\n",
       "                &lt;/div&gt;\n",
       "            &lt;br&gt;\n",
       "            &lt;div class=&quot;text-large-bold&quot; style=&quot;line-height: 104%;&quot;&gt;THESE FEATURES&lt;br&gt;GIVE INFORMATION&lt;br&gt;\n",
       "            ON RFM_Segment:&lt;/div&gt;\n",
       "            &lt;hr&gt;\n",
       "                &lt;div class=&quot;assoc-row &quot; style=&quot;font-weight: bold;&quot;&gt;\n",
       "                    &lt;div class=&quot;pos-assoc-row__label text-label&quot;&gt;customer_segment&lt;/div&gt;\n",
       "                    &lt;div class=&quot;pos-assoc-row__source text-label color-source&quot;&gt;0.45&lt;/div&gt;\n",
       "                &lt;/div&gt;\n",
       "            &lt;br&gt;\n",
       "            &lt;!-- CAT-NUM --&gt;\n",
       "            &lt;div class=&quot;text-small-bold color-light&quot; style=&quot;text-align:right; line-height: 10px&quot;&gt;\n",
       "                NUMERICAL ASSOCIATIONS&lt;br&gt;\n",
       "                (CORRELATION RATIO, 0 to 1)\n",
       "            &lt;/div&gt;\n",
       "            &lt;div class=&quot;text-large-bold&quot; style=&quot;line-height: 104%;&quot;&gt;RFM_Segment&lt;br&gt;\n",
       "                    CORRELATION RATIO WITH...&lt;/div&gt;\n",
       "            &lt;hr&gt;\n",
       "        &lt;/div&gt;\n",
       "    &lt;/div&gt;\n",
       "&lt;/div&gt;\n",
       "&lt;/div&gt;\n",
       "                &lt;/div&gt;\n",
       "        &lt;/div&gt;\n",
       "    &lt;/div&gt;\n",
       "\n",
       "    &lt;!-- ALL DETAIL WINDOWS (WIDESCREEN ONLY) --&gt;\n",
       "&lt;/div&gt;\n",
       "&lt;/body&gt;\n",
       "&lt;/html&gt;\" frameborder=\"0\" allowfullscreen></iframe>"
      ],
      "text/plain": [
       "<IPython.core.display.HTML object>"
      ]
     },
     "metadata": {},
     "output_type": "display_data"
    }
   ],
   "source": [
    "import sweetviz as sv\n",
    "\n",
    "#specifying columns to visualize\n",
    "viz_columns = ['customer_segment', 'RFM_Segment']\n",
    "\n",
    "#creating a report using the sweetviz library\n",
    "report = sv.analyze(rfm_df[viz_columns])\n",
    "show_logo = 0\n",
    "\n",
    "#saving the report as an html file\n",
    "report.show_notebook()"
   ]
  },
  {
   "cell_type": "code",
   "execution_count": 19,
   "metadata": {},
   "outputs": [
    {
     "data": {
      "image/png": "[encoded data removed]",
      "text/plain": [
       "<Figure size 1200x800 with 1 Axes>"
      ]
     },
     "metadata": {},
     "output_type": "display_data"
    }
   ],
   "source": [
    "#visuaizing customer segment\n",
    "\n",
    "#setting the figure size\n",
    "plt.figure(figsize=(12,8))\n",
    "\n",
    "#plotting the data\n",
    "ax = sns.countplot(x='customer_segment',data=rfm_df)\n",
    "\n",
    "#adding anottations\n",
    "for bar in ax.patches:\n",
    "    ax.annotate(int(bar.get_height()),\n",
    "                xy=(bar.get_x() + bar.get_width() / 2, bar.get_height()),\n",
    "                ha='center', va='center',\n",
    "                xytext = (0, 10), fontsize=11, color='Black',\n",
    "                textcoords = 'offset points')\n",
    "#removing spines\n",
    "ax.spines['right'].set_visible(False)\n",
    "ax.spines['top'].set_visible(False)\n",
    "ax.spines['left'].set_visible(False)\n",
    "ax.spines['bottom'].set_visible(False)\n",
    "\n",
    "sns.despine(left=True, bottom=True)\n",
    "sns.set_style('white')\n",
    "sns.set_context('notebook')\n",
    "\n",
    "#setting the plot title\n",
    "plt.title('Customer Segmentation', fontsize=20)\n",
    "\n",
    "#setting x and y labels\n",
    "ax.set_xlabel('Segment', fontsize=15)\n",
    "ax.set_ylabel('Customer Count', fontsize=15)\n",
    "\n",
    "#displaying the plot\n",
    "plt.show()"
   ]
  },
  {
   "cell_type": "code",
   "execution_count": 20,
   "metadata": {},
   "outputs": [
    {
     "data": {
      "image/png": "[encoded data removed]",
      "text/plain": [
       "<Figure size 1200x600 with 1 Axes>"
      ]
     },
     "metadata": {},
     "output_type": "display_data"
    }
   ],
   "source": [
    "#visualizing RFM segment\n",
    "\n",
    "#setting the figure size\n",
    "plt.figure(figsize=(12,6))\n",
    "\n",
    "#plotting the data\n",
    "ax = sns.countplot(x='RFM_Segment',data=rfm_df)\n",
    "\n",
    "#annotating the count plot\n",
    "for bar in ax.patches:\n",
    "    ax.annotate(int(bar.get_height()),\n",
    "                xy=(bar.get_x() + bar.get_width() / 2, bar.get_height()),\n",
    "                ha='center', va='center',\n",
    "                xytext = (0, 10), fontsize=12, color='Black',\n",
    "                textcoords='offset points')\n",
    "    \n",
    "#removing spines in the countplot\n",
    "ax.spines['top'].set_visible(False)\n",
    "ax.spines['right'].set_visible(False)\n",
    "ax.spines['left'].set_visible(False)\n",
    "ax.spines['bottom'].set_visible(False)\n",
    "\n",
    "sns.set_style('whitegrid')\n",
    "sns.set_context('notebook')\n",
    "\n",
    "#adding title and labels\n",
    "ax.set_title('RFM Segmentation',fontsize=14)\n",
    "ax.set_xlabel('Segments',fontsize=14)\n",
    "ax.set_ylabel('Customer Count',fontsize=14)\n",
    "\n",
    "#displaying the plot\n",
    "plt.show()"
   ]
  },
  {
   "cell_type": "code",
   "execution_count": 21,
   "metadata": {},
   "outputs": [
    {
     "data": {
      "image/png": "[encoded data removed]",
      "text/plain": [
       "<Figure size 1200x600 with 2 Axes>"
      ]
     },
     "metadata": {},
     "output_type": "display_data"
    }
   ],
   "source": [
    "\n",
    "# Create a cross-tabulation (pivot table) of 'customer_segment' and 'RFM_Segment'\n",
    "cross_tab = pd.crosstab(rfm_df['RFM_Segment'], rfm_df['customer_segment'])\n",
    "\n",
    "# Create a heatmap\n",
    "plt.figure(figsize=(12, 6))\n",
    "sns.heatmap(cross_tab, annot=True, fmt='d', cmap='YlGnBu')\n",
    "plt.title('Heatmap: Distribution of Customer Segments in RFM Segments')\n",
    "plt.xlabel('Customer Segment')\n",
    "plt.ylabel('RFM Segment')\n",
    "\n",
    "# Show the heatmap\n",
    "plt.show()"
   ]
  },
  {
   "cell_type": "code",
   "execution_count": 23,
   "metadata": {},
   "outputs": [
    {
     "data": {
      "application/vnd.plotly.v1+json": {
       "config": {
        "plotlyServerURL": "https://plot.ly"
       },
       "data": [
        {
         "branchvalues": "total",
         "customdata": [
          [
           null
          ],
          [
           5.047882110290925
          ],
          [
           5.328735131779191
          ],
          [
           4.289966784214455
          ],
          [
           4.773355557930564
          ],
          [
           null
          ],
          [
           null
          ],
          [
           null
          ],
          [
           9.420284129466259
          ],
          [
           null
          ],
          [
           null
          ],
          [
           8.771845966699612
          ],
          [
           4.289966784214455
          ],
          [
           4.837183392750103
          ],
          [
           6.355750685283297
          ]
         ],
         "domain": {
          "x": [
           0,
           1
          ],
          "y": [
           0,
           1
          ]
         },
         "hovertemplate": "labels=%{label}<br>RFM_Score_sum=%{value}<br>parent=%{parent}<br>id=%{id}<br>RFM_Score=%{color}<extra></extra>",
         "ids": [
          "Low Value/At Risk Customers",
          "Mid Value/At Risk Customers",
          "High Value/At Risk Customers",
          "Low Value/Can't Lose",
          "Mid Value/Can't Lose",
          "High Value/Can't Lose",
          "Low Value/Champions",
          "Mid Value/Champions",
          "High Value/Champions",
          "Low Value/Potential Loyalists",
          "Mid Value/Potential Loyalists",
          "High Value/Potential Loyalists",
          "Low Value",
          "Mid Value",
          "High Value"
         ],
         "labels": [
          "At Risk Customers",
          "At Risk Customers",
          "At Risk Customers",
          "Can't Lose",
          "Can't Lose",
          "Can't Lose",
          "Champions",
          "Champions",
          "Champions",
          "Potential Loyalists",
          "Potential Loyalists",
          "Potential Loyalists",
          "Low Value",
          "Mid Value",
          "High Value"
         ],
         "marker": {
          "coloraxis": "coloraxis",
          "colors": [
           null,
           5.047882110290925,
           5.328735131779191,
           4.289966784214455,
           4.773355557930564,
           null,
           null,
           null,
           9.420284129466259,
           null,
           null,
           8.771845966699612,
           4.289966784214455,
           4.837183392750103,
           6.355750685283297
          ]
         },
         "name": "",
         "parents": [
          "Low Value",
          "Mid Value",
          "High Value",
          "Low Value",
          "Mid Value",
          "High Value",
          "Low Value",
          "Mid Value",
          "High Value",
          "Low Value",
          "Mid Value",
          "High Value",
          "",
          "",
          ""
         ],
         "type": "treemap",
         "values": [
          0,
          368.48,
          1320.77,
          1366.82,
          1216.37,
          0,
          0,
          0,
          338.93,
          0,
          0,
          131.53,
          1366.82,
          1584.85,
          1791.23
         ]
        }
       ],
       "layout": {
        "coloraxis": {
         "colorbar": {
          "title": {
           "text": "RFM_Score"
          }
         },
         "colorscale": [
          [
           0,
           "rgb(0, 155, 158)"
          ],
          [
           0.16666666666666666,
           "rgb(66, 183, 185)"
          ],
          [
           0.3333333333333333,
           "rgb(167, 211, 212)"
          ],
          [
           0.5,
           "rgb(241, 241, 241)"
          ],
          [
           0.6666666666666666,
           "rgb(228, 193, 217)"
          ],
          [
           0.8333333333333334,
           "rgb(214, 145, 193)"
          ],
          [
           1,
           "rgb(199, 93, 171)"
          ]
         ]
        },
        "legend": {
         "tracegroupgap": 0
        },
        "template": {
         "data": {
          "bar": [
           {
            "error_x": {
             "color": "#2a3f5f"
            },
            "error_y": {
             "color": "#2a3f5f"
            },
            "marker": {
             "line": {
              "color": "#E5ECF6",
              "width": 0.5
             },
             "pattern": {
              "fillmode": "overlay",
              "size": 10,
              "solidity": 0.2
             }
            },
            "type": "bar"
           }
          ],
          "barpolar": [
           {
            "marker": {
             "line": {
              "color": "#E5ECF6",
              "width": 0.5
             },
             "pattern": {
              "fillmode": "overlay",
              "size": 10,
              "solidity": 0.2
             }
            },
            "type": "barpolar"
           }
          ],
          "carpet": [
           {
            "aaxis": {
             "endlinecolor": "#2a3f5f",
             "gridcolor": "white",
             "linecolor": "white",
             "minorgridcolor": "white",
             "startlinecolor": "#2a3f5f"
            },
            "baxis": {
             "endlinecolor": "#2a3f5f",
             "gridcolor": "white",
             "linecolor": "white",
             "minorgridcolor": "white",
             "startlinecolor": "#2a3f5f"
            },
            "type": "carpet"
           }
          ],
          "choropleth": [
           {
            "colorbar": {
             "outlinewidth": 0,
             "ticks": ""
            },
            "type": "choropleth"
           }
          ],
          "contour": [
           {
            "colorbar": {
             "outlinewidth": 0,
             "ticks": ""
            },
            "colorscale": [
             [
              0,
              "#0d0887"
             ],
             [
              0.1111111111111111,
              "#46039f"
             ],
             [
              0.2222222222222222,
              "#7201a8"
             ],
             [
              0.3333333333333333,
              "#9c179e"
             ],
             [
              0.4444444444444444,
              "#bd3786"
             ],
             [
              0.5555555555555556,
              "#d8576b"
             ],
             [
              0.6666666666666666,
              "#ed7953"
             ],
             [
              0.7777777777777778,
              "#fb9f3a"
             ],
             [
              0.8888888888888888,
              "#fdca26"
             ],
             [
              1,
              "#f0f921"
             ]
            ],
            "type": "contour"
           }
          ],
          "contourcarpet": [
           {
            "colorbar": {
             "outlinewidth": 0,
             "ticks": ""
            },
            "type": "contourcarpet"
           }
          ],
          "heatmap": [
           {
            "colorbar": {
             "outlinewidth": 0,
             "ticks": ""
            },
            "colorscale": [
             [
              0,
              "#0d0887"
             ],
             [
              0.1111111111111111,
              "#46039f"
             ],
             [
              0.2222222222222222,
              "#7201a8"
             ],
             [
              0.3333333333333333,
              "#9c179e"
             ],
             [
              0.4444444444444444,
              "#bd3786"
             ],
             [
              0.5555555555555556,
              "#d8576b"
             ],
             [
              0.6666666666666666,
              "#ed7953"
             ],
             [
              0.7777777777777778,
              "#fb9f3a"
             ],
             [
              0.8888888888888888,
              "#fdca26"
             ],
             [
              1,
              "#f0f921"
             ]
            ],
            "type": "heatmap"
           }
          ],
          "heatmapgl": [
           {
            "colorbar": {
             "outlinewidth": 0,
             "ticks": ""
            },
            "colorscale": [
             [
              0,
              "#0d0887"
             ],
             [
              0.1111111111111111,
              "#46039f"
             ],
             [
              0.2222222222222222,
              "#7201a8"
             ],
             [
              0.3333333333333333,
              "#9c179e"
             ],
             [
              0.4444444444444444,
              "#bd3786"
             ],
             [
              0.5555555555555556,
              "#d8576b"
             ],
             [
              0.6666666666666666,
              "#ed7953"
             ],
             [
              0.7777777777777778,
              "#fb9f3a"
             ],
             [
              0.8888888888888888,
              "#fdca26"
             ],
             [
              1,
              "#f0f921"
             ]
            ],
            "type": "heatmapgl"
           }
          ],
          "histogram": [
           {
            "marker": {
             "pattern": {
              "fillmode": "overlay",
              "size": 10,
              "solidity": 0.2
             }
            },
            "type": "histogram"
           }
          ],
          "histogram2d": [
           {
            "colorbar": {
             "outlinewidth": 0,
             "ticks": ""
            },
            "colorscale": [
             [
              0,
              "#0d0887"
             ],
             [
              0.1111111111111111,
              "#46039f"
             ],
             [
              0.2222222222222222,
              "#7201a8"
             ],
             [
              0.3333333333333333,
              "#9c179e"
             ],
             [
              0.4444444444444444,
              "#bd3786"
             ],
             [
              0.5555555555555556,
              "#d8576b"
             ],
             [
              0.6666666666666666,
              "#ed7953"
             ],
             [
              0.7777777777777778,
              "#fb9f3a"
             ],
             [
              0.8888888888888888,
              "#fdca26"
             ],
             [
              1,
              "#f0f921"
             ]
            ],
            "type": "histogram2d"
           }
          ],
          "histogram2dcontour": [
           {
            "colorbar": {
             "outlinewidth": 0,
             "ticks": ""
            },
            "colorscale": [
             [
              0,
              "#0d0887"
             ],
             [
              0.1111111111111111,
              "#46039f"
             ],
             [
              0.2222222222222222,
              "#7201a8"
             ],
             [
              0.3333333333333333,
              "#9c179e"
             ],
             [
              0.4444444444444444,
              "#bd3786"
             ],
             [
              0.5555555555555556,
              "#d8576b"
             ],
             [
              0.6666666666666666,
              "#ed7953"
             ],
             [
              0.7777777777777778,
              "#fb9f3a"
             ],
             [
              0.8888888888888888,
              "#fdca26"
             ],
             [
              1,
              "#f0f921"
             ]
            ],
            "type": "histogram2dcontour"
           }
          ],
          "mesh3d": [
           {
            "colorbar": {
             "outlinewidth": 0,
             "ticks": ""
            },
            "type": "mesh3d"
           }
          ],
          "parcoords": [
           {
            "line": {
             "colorbar": {
              "outlinewidth": 0,
              "ticks": ""
             }
            },
            "type": "parcoords"
           }
          ],
          "pie": [
           {
            "automargin": true,
            "type": "pie"
           }
          ],
          "scatter": [
           {
            "fillpattern": {
             "fillmode": "overlay",
             "size": 10,
             "solidity": 0.2
            },
            "type": "scatter"
           }
          ],
          "scatter3d": [
           {
            "line": {
             "colorbar": {
              "outlinewidth": 0,
              "ticks": ""
             }
            },
            "marker": {
             "colorbar": {
              "outlinewidth": 0,
              "ticks": ""
             }
            },
            "type": "scatter3d"
           }
          ],
          "scattercarpet": [
           {
            "marker": {
             "colorbar": {
              "outlinewidth": 0,
              "ticks": ""
             }
            },
            "type": "scattercarpet"
           }
          ],
          "scattergeo": [
           {
            "marker": {
             "colorbar": {
              "outlinewidth": 0,
              "ticks": ""
             }
            },
            "type": "scattergeo"
           }
          ],
          "scattergl": [
           {
            "marker": {
             "colorbar": {
              "outlinewidth": 0,
              "ticks": ""
             }
            },
            "type": "scattergl"
           }
          ],
          "scattermapbox": [
           {
            "marker": {
             "colorbar": {
              "outlinewidth": 0,
              "ticks": ""
             }
            },
            "type": "scattermapbox"
           }
          ],
          "scatterpolar": [
           {
            "marker": {
             "colorbar": {
              "outlinewidth": 0,
              "ticks": ""
             }
            },
            "type": "scatterpolar"
           }
          ],
          "scatterpolargl": [
           {
            "marker": {
             "colorbar": {
              "outlinewidth": 0,
              "ticks": ""
             }
            },
            "type": "scatterpolargl"
           }
          ],
          "scatterternary": [
           {
            "marker": {
             "colorbar": {
              "outlinewidth": 0,
              "ticks": ""
             }
            },
            "type": "scatterternary"
           }
          ],
          "surface": [
           {
            "colorbar": {
             "outlinewidth": 0,
             "ticks": ""
            },
            "colorscale": [
             [
              0,
              "#0d0887"
             ],
             [
              0.1111111111111111,
              "#46039f"
             ],
             [
              0.2222222222222222,
              "#7201a8"
             ],
             [
              0.3333333333333333,
              "#9c179e"
             ],
             [
              0.4444444444444444,
              "#bd3786"
             ],
             [
              0.5555555555555556,
              "#d8576b"
             ],
             [
              0.6666666666666666,
              "#ed7953"
             ],
             [
              0.7777777777777778,
              "#fb9f3a"
             ],
             [
              0.8888888888888888,
              "#fdca26"
             ],
             [
              1,
              "#f0f921"
             ]
            ],
            "type": "surface"
           }
          ],
          "table": [
           {
            "cells": {
             "fill": {
              "color": "#EBF0F8"
             },
             "line": {
              "color": "white"
             }
            },
            "header": {
             "fill": {
              "color": "#C8D4E3"
             },
             "line": {
              "color": "white"
             }
            },
            "type": "table"
           }
          ]
         },
         "layout": {
          "annotationdefaults": {
           "arrowcolor": "#2a3f5f",
           "arrowhead": 0,
           "arrowwidth": 1
          },
          "autotypenumbers": "strict",
          "coloraxis": {
           "colorbar": {
            "outlinewidth": 0,
            "ticks": ""
           }
          },
          "colorscale": {
           "diverging": [
            [
             0,
             "#8e0152"
            ],
            [
             0.1,
             "#c51b7d"
            ],
            [
             0.2,
             "#de77ae"
            ],
            [
             0.3,
             "#f1b6da"
            ],
            [
             0.4,
             "#fde0ef"
            ],
            [
             0.5,
             "#f7f7f7"
            ],
            [
             0.6,
             "#e6f5d0"
            ],
            [
             0.7,
             "#b8e186"
            ],
            [
             0.8,
             "#7fbc41"
            ],
            [
             0.9,
             "#4d9221"
            ],
            [
             1,
             "#276419"
            ]
           ],
           "sequential": [
            [
             0,
             "#0d0887"
            ],
            [
             0.1111111111111111,
             "#46039f"
            ],
            [
             0.2222222222222222,
             "#7201a8"
            ],
            [
             0.3333333333333333,
             "#9c179e"
            ],
            [
             0.4444444444444444,
             "#bd3786"
            ],
            [
             0.5555555555555556,
             "#d8576b"
            ],
            [
             0.6666666666666666,
             "#ed7953"
            ],
            [
             0.7777777777777778,
             "#fb9f3a"
            ],
            [
             0.8888888888888888,
             "#fdca26"
            ],
            [
             1,
             "#f0f921"
            ]
           ],
           "sequentialminus": [
            [
             0,
             "#0d0887"
            ],
            [
             0.1111111111111111,
             "#46039f"
            ],
            [
             0.2222222222222222,
             "#7201a8"
            ],
            [
             0.3333333333333333,
             "#9c179e"
            ],
            [
             0.4444444444444444,
             "#bd3786"
            ],
            [
             0.5555555555555556,
             "#d8576b"
            ],
            [
             0.6666666666666666,
             "#ed7953"
            ],
            [
             0.7777777777777778,
             "#fb9f3a"
            ],
            [
             0.8888888888888888,
             "#fdca26"
            ],
            [
             1,
             "#f0f921"
            ]
           ]
          },
          "colorway": [
           "#636efa",
           "#EF553B",
           "#00cc96",
           "#ab63fa",
           "#FFA15A",
           "#19d3f3",
           "#FF6692",
           "#B6E880",
           "#FF97FF",
           "#FECB52"
          ],
          "font": {
           "color": "#2a3f5f"
          },
          "geo": {
           "bgcolor": "white",
           "lakecolor": "white",
           "landcolor": "#E5ECF6",
           "showlakes": true,
           "showland": true,
           "subunitcolor": "white"
          },
          "hoverlabel": {
           "align": "left"
          },
          "hovermode": "closest",
          "mapbox": {
           "style": "light"
          },
          "paper_bgcolor": "white",
          "plot_bgcolor": "#E5ECF6",
          "polar": {
           "angularaxis": {
            "gridcolor": "white",
            "linecolor": "white",
            "ticks": ""
           },
           "bgcolor": "#E5ECF6",
           "radialaxis": {
            "gridcolor": "white",
            "linecolor": "white",
            "ticks": ""
           }
          },
          "scene": {
           "xaxis": {
            "backgroundcolor": "#E5ECF6",
            "gridcolor": "white",
            "gridwidth": 2,
            "linecolor": "white",
            "showbackground": true,
            "ticks": "",
            "zerolinecolor": "white"
           },
           "yaxis": {
            "backgroundcolor": "#E5ECF6",
            "gridcolor": "white",
            "gridwidth": 2,
            "linecolor": "white",
            "showbackground": true,
            "ticks": "",
            "zerolinecolor": "white"
           },
           "zaxis": {
            "backgroundcolor": "#E5ECF6",
            "gridcolor": "white",
            "gridwidth": 2,
            "linecolor": "white",
            "showbackground": true,
            "ticks": "",
            "zerolinecolor": "white"
           }
          },
          "shapedefaults": {
           "line": {
            "color": "#2a3f5f"
           }
          },
          "ternary": {
           "aaxis": {
            "gridcolor": "white",
            "linecolor": "white",
            "ticks": ""
           },
           "baxis": {
            "gridcolor": "white",
            "linecolor": "white",
            "ticks": ""
           },
           "bgcolor": "#E5ECF6",
           "caxis": {
            "gridcolor": "white",
            "linecolor": "white",
            "ticks": ""
           }
          },
          "title": {
           "x": 0.05
          },
          "xaxis": {
           "automargin": true,
           "gridcolor": "white",
           "linecolor": "white",
           "ticks": "",
           "title": {
            "standoff": 15
           },
           "zerolinecolor": "white",
           "zerolinewidth": 2
          },
          "yaxis": {
           "automargin": true,
           "gridcolor": "white",
           "linecolor": "white",
           "ticks": "",
           "title": {
            "standoff": 15
           },
           "zerolinecolor": "white",
           "zerolinewidth": 2
          }
         }
        },
        "title": {
         "text": "Distribution of Customer segments in RFM segments"
        }
       }
      }
     },
     "metadata": {},
     "output_type": "display_data"
    }
   ],
   "source": [
    "import plotly.express as px\n",
    "\n",
    "#calculating weights\n",
    "weights = rfm_df['Frequency']\n",
    "values = rfm_df['monetary']\n",
    "\n",
    "#calculating the average\n",
    "try:\n",
    "    average = np.divide(np.sum(weights * values), np.sum(weights))\n",
    "except ZeroDivisionError:\n",
    "    average = np.nan\n",
    "\n",
    "#plotting the treemap\n",
    "treemap_data = rfm_df.copy()\n",
    "treemap_data['Frequency'].fillna(0, inplace=True)\n",
    "fig = px.treemap(\n",
    "    treemap_data,\n",
    "    path=['RFM_Segment', 'customer_segment'],\n",
    "    values='RFM_Score',\n",
    "    color='RFM_Score',\n",
    "    color_continuous_scale='tropic',\n",
    "    title='Distribution of Customer segments in RFM segments')\n",
    "\n",
    "fig.show()\n",
    "\n"
   ]
  },
  {
   "cell_type": "code",
   "execution_count": 30,
   "metadata": {},
   "outputs": [
    {
     "data": {
      "application/vnd.plotly.v1+json": {
       "config": {
        "plotlyServerURL": "https://plot.ly"
       },
       "data": [
        {
         "branchvalues": "total",
         "customdata": [
          [
           "At Risk Customers"
          ],
          [
           "Can't Lose"
          ],
          [
           "Champions"
          ],
          [
           "At Risk Customers"
          ],
          [
           "At Risk Customers"
          ],
          [
           "Potential Loyalists"
          ],
          [
           "Can't Lose"
          ],
          [
           "Champions"
          ],
          [
           "Potential Loyalists"
          ],
          [
           "Can't Lose"
          ],
          [
           "Champions"
          ],
          [
           "Potential Loyalists"
          ],
          [
           "(?)"
          ],
          [
           "(?)"
          ],
          [
           "(?)"
          ]
         ],
         "domain": {
          "x": [
           0,
           1
          ],
          "y": [
           0,
           1
          ]
         },
         "hovertemplate": "labels=%{label}<br>Count=%{value}<br>parent=%{parent}<br>id=%{id}<br>customer_segment=%{customdata[0]}<extra></extra>",
         "ids": [
          "High Value/At Risk Customers",
          "Low Value/Can't Lose",
          "Low Value/Champions",
          "Low Value/At Risk Customers",
          "Mid Value/At Risk Customers",
          "High Value/Potential Loyalists",
          "Mid Value/Can't Lose",
          "Mid Value/Champions",
          "Low Value/Potential Loyalists",
          "High Value/Can't Lose",
          "High Value/Champions",
          "Mid Value/Potential Loyalists",
          "Low Value",
          "Mid Value",
          "High Value"
         ],
         "labels": [
          "At Risk Customers",
          "Can't Lose",
          "Champions",
          "At Risk Customers",
          "At Risk Customers",
          "Potential Loyalists",
          "Can't Lose",
          "Champions",
          "Potential Loyalists",
          "Can't Lose",
          "Champions",
          "Potential Loyalists",
          "Low Value",
          "Mid Value",
          "High Value"
         ],
         "marker": {
          "colors": [
           "rgb(102, 197, 204)",
           "rgb(246, 207, 113)",
           "rgb(248, 156, 116)",
           "rgb(102, 197, 204)",
           "rgb(102, 197, 204)",
           "rgb(220, 176, 242)",
           "rgb(246, 207, 113)",
           "rgb(248, 156, 116)",
           "rgb(220, 176, 242)",
           "rgb(246, 207, 113)",
           "rgb(248, 156, 116)",
           "rgb(220, 176, 242)",
           "rgb(135, 197, 95)",
           "rgb(135, 197, 95)",
           "rgb(135, 197, 95)"
          ]
         },
         "name": "",
         "parents": [
          "High Value",
          "Low Value",
          "Low Value",
          "Low Value",
          "Mid Value",
          "High Value",
          "Mid Value",
          "Mid Value",
          "Low Value",
          "High Value",
          "High Value",
          "Mid Value",
          "",
          "",
          ""
         ],
         "type": "treemap",
         "values": [
          248,
          319,
          0,
          0,
          73,
          15,
          255,
          0,
          0,
          0,
          36,
          0,
          319,
          328,
          299
         ]
        }
       ],
       "layout": {
        "legend": {
         "tracegroupgap": 0
        },
        "template": {
         "data": {
          "bar": [
           {
            "error_x": {
             "color": "#2a3f5f"
            },
            "error_y": {
             "color": "#2a3f5f"
            },
            "marker": {
             "line": {
              "color": "#E5ECF6",
              "width": 0.5
             },
             "pattern": {
              "fillmode": "overlay",
              "size": 10,
              "solidity": 0.2
             }
            },
            "type": "bar"
           }
          ],
          "barpolar": [
           {
            "marker": {
             "line": {
              "color": "#E5ECF6",
              "width": 0.5
             },
             "pattern": {
              "fillmode": "overlay",
              "size": 10,
              "solidity": 0.2
             }
            },
            "type": "barpolar"
           }
          ],
          "carpet": [
           {
            "aaxis": {
             "endlinecolor": "#2a3f5f",
             "gridcolor": "white",
             "linecolor": "white",
             "minorgridcolor": "white",
             "startlinecolor": "#2a3f5f"
            },
            "baxis": {
             "endlinecolor": "#2a3f5f",
             "gridcolor": "white",
             "linecolor": "white",
             "minorgridcolor": "white",
             "startlinecolor": "#2a3f5f"
            },
            "type": "carpet"
           }
          ],
          "choropleth": [
           {
            "colorbar": {
             "outlinewidth": 0,
             "ticks": ""
            },
            "type": "choropleth"
           }
          ],
          "contour": [
           {
            "colorbar": {
             "outlinewidth": 0,
             "ticks": ""
            },
            "colorscale": [
             [
              0,
              "#0d0887"
             ],
             [
              0.1111111111111111,
              "#46039f"
             ],
             [
              0.2222222222222222,
              "#7201a8"
             ],
             [
              0.3333333333333333,
              "#9c179e"
             ],
             [
              0.4444444444444444,
              "#bd3786"
             ],
             [
              0.5555555555555556,
              "#d8576b"
             ],
             [
              0.6666666666666666,
              "#ed7953"
             ],
             [
              0.7777777777777778,
              "#fb9f3a"
             ],
             [
              0.8888888888888888,
              "#fdca26"
             ],
             [
              1,
              "#f0f921"
             ]
            ],
            "type": "contour"
           }
          ],
          "contourcarpet": [
           {
            "colorbar": {
             "outlinewidth": 0,
             "ticks": ""
            },
            "type": "contourcarpet"
           }
          ],
          "heatmap": [
           {
            "colorbar": {
             "outlinewidth": 0,
             "ticks": ""
            },
            "colorscale": [
             [
              0,
              "#0d0887"
             ],
             [
              0.1111111111111111,
              "#46039f"
             ],
             [
              0.2222222222222222,
              "#7201a8"
             ],
             [
              0.3333333333333333,
              "#9c179e"
             ],
             [
              0.4444444444444444,
              "#bd3786"
             ],
             [
              0.5555555555555556,
              "#d8576b"
             ],
             [
              0.6666666666666666,
              "#ed7953"
             ],
             [
              0.7777777777777778,
              "#fb9f3a"
             ],
             [
              0.8888888888888888,
              "#fdca26"
             ],
             [
              1,
              "#f0f921"
             ]
            ],
            "type": "heatmap"
           }
          ],
          "heatmapgl": [
           {
            "colorbar": {
             "outlinewidth": 0,
             "ticks": ""
            },
            "colorscale": [
             [
              0,
              "#0d0887"
             ],
             [
              0.1111111111111111,
              "#46039f"
             ],
             [
              0.2222222222222222,
              "#7201a8"
             ],
             [
              0.3333333333333333,
              "#9c179e"
             ],
             [
              0.4444444444444444,
              "#bd3786"
             ],
             [
              0.5555555555555556,
              "#d8576b"
             ],
             [
              0.6666666666666666,
              "#ed7953"
             ],
             [
              0.7777777777777778,
              "#fb9f3a"
             ],
             [
              0.8888888888888888,
              "#fdca26"
             ],
             [
              1,
              "#f0f921"
             ]
            ],
            "type": "heatmapgl"
           }
          ],
          "histogram": [
           {
            "marker": {
             "pattern": {
              "fillmode": "overlay",
              "size": 10,
              "solidity": 0.2
             }
            },
            "type": "histogram"
           }
          ],
          "histogram2d": [
           {
            "colorbar": {
             "outlinewidth": 0,
             "ticks": ""
            },
            "colorscale": [
             [
              0,
              "#0d0887"
             ],
             [
              0.1111111111111111,
              "#46039f"
             ],
             [
              0.2222222222222222,
              "#7201a8"
             ],
             [
              0.3333333333333333,
              "#9c179e"
             ],
             [
              0.4444444444444444,
              "#bd3786"
             ],
             [
              0.5555555555555556,
              "#d8576b"
             ],
             [
              0.6666666666666666,
              "#ed7953"
             ],
             [
              0.7777777777777778,
              "#fb9f3a"
             ],
             [
              0.8888888888888888,
              "#fdca26"
             ],
             [
              1,
              "#f0f921"
             ]
            ],
            "type": "histogram2d"
           }
          ],
          "histogram2dcontour": [
           {
            "colorbar": {
             "outlinewidth": 0,
             "ticks": ""
            },
            "colorscale": [
             [
              0,
              "#0d0887"
             ],
             [
              0.1111111111111111,
              "#46039f"
             ],
             [
              0.2222222222222222,
              "#7201a8"
             ],
             [
              0.3333333333333333,
              "#9c179e"
             ],
             [
              0.4444444444444444,
              "#bd3786"
             ],
             [
              0.5555555555555556,
              "#d8576b"
             ],
             [
              0.6666666666666666,
              "#ed7953"
             ],
             [
              0.7777777777777778,
              "#fb9f3a"
             ],
             [
              0.8888888888888888,
              "#fdca26"
             ],
             [
              1,
              "#f0f921"
             ]
            ],
            "type": "histogram2dcontour"
           }
          ],
          "mesh3d": [
           {
            "colorbar": {
             "outlinewidth": 0,
             "ticks": ""
            },
            "type": "mesh3d"
           }
          ],
          "parcoords": [
           {
            "line": {
             "colorbar": {
              "outlinewidth": 0,
              "ticks": ""
             }
            },
            "type": "parcoords"
           }
          ],
          "pie": [
           {
            "automargin": true,
            "type": "pie"
           }
          ],
          "scatter": [
           {
            "fillpattern": {
             "fillmode": "overlay",
             "size": 10,
             "solidity": 0.2
            },
            "type": "scatter"
           }
          ],
          "scatter3d": [
           {
            "line": {
             "colorbar": {
              "outlinewidth": 0,
              "ticks": ""
             }
            },
            "marker": {
             "colorbar": {
              "outlinewidth": 0,
              "ticks": ""
             }
            },
            "type": "scatter3d"
           }
          ],
          "scattercarpet": [
           {
            "marker": {
             "colorbar": {
              "outlinewidth": 0,
              "ticks": ""
             }
            },
            "type": "scattercarpet"
           }
          ],
          "scattergeo": [
           {
            "marker": {
             "colorbar": {
              "outlinewidth": 0,
              "ticks": ""
             }
            },
            "type": "scattergeo"
           }
          ],
          "scattergl": [
           {
            "marker": {
             "colorbar": {
              "outlinewidth": 0,
              "ticks": ""
             }
            },
            "type": "scattergl"
           }
          ],
          "scattermapbox": [
           {
            "marker": {
             "colorbar": {
              "outlinewidth": 0,
              "ticks": ""
             }
            },
            "type": "scattermapbox"
           }
          ],
          "scatterpolar": [
           {
            "marker": {
             "colorbar": {
              "outlinewidth": 0,
              "ticks": ""
             }
            },
            "type": "scatterpolar"
           }
          ],
          "scatterpolargl": [
           {
            "marker": {
             "colorbar": {
              "outlinewidth": 0,
              "ticks": ""
             }
            },
            "type": "scatterpolargl"
           }
          ],
          "scatterternary": [
           {
            "marker": {
             "colorbar": {
              "outlinewidth": 0,
              "ticks": ""
             }
            },
            "type": "scatterternary"
           }
          ],
          "surface": [
           {
            "colorbar": {
             "outlinewidth": 0,
             "ticks": ""
            },
            "colorscale": [
             [
              0,
              "#0d0887"
             ],
             [
              0.1111111111111111,
              "#46039f"
             ],
             [
              0.2222222222222222,
              "#7201a8"
             ],
             [
              0.3333333333333333,
              "#9c179e"
             ],
             [
              0.4444444444444444,
              "#bd3786"
             ],
             [
              0.5555555555555556,
              "#d8576b"
             ],
             [
              0.6666666666666666,
              "#ed7953"
             ],
             [
              0.7777777777777778,
              "#fb9f3a"
             ],
             [
              0.8888888888888888,
              "#fdca26"
             ],
             [
              1,
              "#f0f921"
             ]
            ],
            "type": "surface"
           }
          ],
          "table": [
           {
            "cells": {
             "fill": {
              "color": "#EBF0F8"
             },
             "line": {
              "color": "white"
             }
            },
            "header": {
             "fill": {
              "color": "#C8D4E3"
             },
             "line": {
              "color": "white"
             }
            },
            "type": "table"
           }
          ]
         },
         "layout": {
          "annotationdefaults": {
           "arrowcolor": "#2a3f5f",
           "arrowhead": 0,
           "arrowwidth": 1
          },
          "autotypenumbers": "strict",
          "coloraxis": {
           "colorbar": {
            "outlinewidth": 0,
            "ticks": ""
           }
          },
          "colorscale": {
           "diverging": [
            [
             0,
             "#8e0152"
            ],
            [
             0.1,
             "#c51b7d"
            ],
            [
             0.2,
             "#de77ae"
            ],
            [
             0.3,
             "#f1b6da"
            ],
            [
             0.4,
             "#fde0ef"
            ],
            [
             0.5,
             "#f7f7f7"
            ],
            [
             0.6,
             "#e6f5d0"
            ],
            [
             0.7,
             "#b8e186"
            ],
            [
             0.8,
             "#7fbc41"
            ],
            [
             0.9,
             "#4d9221"
            ],
            [
             1,
             "#276419"
            ]
           ],
           "sequential": [
            [
             0,
             "#0d0887"
            ],
            [
             0.1111111111111111,
             "#46039f"
            ],
            [
             0.2222222222222222,
             "#7201a8"
            ],
            [
             0.3333333333333333,
             "#9c179e"
            ],
            [
             0.4444444444444444,
             "#bd3786"
            ],
            [
             0.5555555555555556,
             "#d8576b"
            ],
            [
             0.6666666666666666,
             "#ed7953"
            ],
            [
             0.7777777777777778,
             "#fb9f3a"
            ],
            [
             0.8888888888888888,
             "#fdca26"
            ],
            [
             1,
             "#f0f921"
            ]
           ],
           "sequentialminus": [
            [
             0,
             "#0d0887"
            ],
            [
             0.1111111111111111,
             "#46039f"
            ],
            [
             0.2222222222222222,
             "#7201a8"
            ],
            [
             0.3333333333333333,
             "#9c179e"
            ],
            [
             0.4444444444444444,
             "#bd3786"
            ],
            [
             0.5555555555555556,
             "#d8576b"
            ],
            [
             0.6666666666666666,
             "#ed7953"
            ],
            [
             0.7777777777777778,
             "#fb9f3a"
            ],
            [
             0.8888888888888888,
             "#fdca26"
            ],
            [
             1,
             "#f0f921"
            ]
           ]
          },
          "colorway": [
           "#636efa",
           "#EF553B",
           "#00cc96",
           "#ab63fa",
           "#FFA15A",
           "#19d3f3",
           "#FF6692",
           "#B6E880",
           "#FF97FF",
           "#FECB52"
          ],
          "font": {
           "color": "#2a3f5f"
          },
          "geo": {
           "bgcolor": "white",
           "lakecolor": "white",
           "landcolor": "#E5ECF6",
           "showlakes": true,
           "showland": true,
           "subunitcolor": "white"
          },
          "hoverlabel": {
           "align": "left"
          },
          "hovermode": "closest",
          "mapbox": {
           "style": "light"
          },
          "paper_bgcolor": "white",
          "plot_bgcolor": "#E5ECF6",
          "polar": {
           "angularaxis": {
            "gridcolor": "white",
            "linecolor": "white",
            "ticks": ""
           },
           "bgcolor": "#E5ECF6",
           "radialaxis": {
            "gridcolor": "white",
            "linecolor": "white",
            "ticks": ""
           }
          },
          "scene": {
           "xaxis": {
            "backgroundcolor": "#E5ECF6",
            "gridcolor": "white",
            "gridwidth": 2,
            "linecolor": "white",
            "showbackground": true,
            "ticks": "",
            "zerolinecolor": "white"
           },
           "yaxis": {
            "backgroundcolor": "#E5ECF6",
            "gridcolor": "white",
            "gridwidth": 2,
            "linecolor": "white",
            "showbackground": true,
            "ticks": "",
            "zerolinecolor": "white"
           },
           "zaxis": {
            "backgroundcolor": "#E5ECF6",
            "gridcolor": "white",
            "gridwidth": 2,
            "linecolor": "white",
            "showbackground": true,
            "ticks": "",
            "zerolinecolor": "white"
           }
          },
          "shapedefaults": {
           "line": {
            "color": "#2a3f5f"
           }
          },
          "ternary": {
           "aaxis": {
            "gridcolor": "white",
            "linecolor": "white",
            "ticks": ""
           },
           "baxis": {
            "gridcolor": "white",
            "linecolor": "white",
            "ticks": ""
           },
           "bgcolor": "#E5ECF6",
           "caxis": {
            "gridcolor": "white",
            "linecolor": "white",
            "ticks": ""
           }
          },
          "title": {
           "x": 0.05
          },
          "xaxis": {
           "automargin": true,
           "gridcolor": "white",
           "linecolor": "white",
           "ticks": "",
           "title": {
            "standoff": 15
           },
           "zerolinecolor": "white",
           "zerolinewidth": 2
          },
          "yaxis": {
           "automargin": true,
           "gridcolor": "white",
           "linecolor": "white",
           "ticks": "",
           "title": {
            "standoff": 15
           },
           "zerolinecolor": "white",
           "zerolinewidth": 2
          }
         }
        },
        "title": {
         "text": "RFM Customer Segments by Value"
        },
        "treemapcolorway": [
         "rgb(102, 197, 204)",
         "rgb(246, 207, 113)",
         "rgb(248, 156, 116)",
         "rgb(220, 176, 242)",
         "rgb(135, 197, 95)",
         "rgb(158, 185, 243)",
         "rgb(254, 136, 177)",
         "rgb(201, 219, 116)",
         "rgb(139, 224, 164)",
         "rgb(180, 151, 231)",
         "rgb(179, 179, 179)"
        ]
       }
      }
     },
     "metadata": {},
     "output_type": "display_data"
    }
   ],
   "source": [
    "data = rfm_df\n",
    "segment_product_counts = data.groupby(['RFM_Segment', 'customer_segment']).size().reset_index(name='Count')\n",
    "\n",
    "segment_product_counts = segment_product_counts.sort_values('Count', ascending=False)\n",
    "\n",
    "fig_treemap_segment_product = px.treemap(segment_product_counts, \n",
    "                                         path=['RFM_Segment', 'customer_segment'], \n",
    "                                         values='Count',\n",
    "                                         color='customer_segment', color_discrete_sequence=px.colors.qualitative.Pastel,\n",
    "                                         title='RFM Customer Segments by Value')\n",
    "fig_treemap_segment_product.show()"
   ]
  }
 ],
 "metadata": {
  "kernelspec": {
   "display_name": "Python 3",
   "language": "python",
   "name": "python3"
  },
  "language_info": {
   "codemirror_mode": {
    "name": "ipython",
    "version": 3
   },
   "file_extension": ".py",
   "mimetype": "text/x-python",
   "name": "python",
   "nbconvert_exporter": "python",
   "pygments_lexer": "ipython3",
   "version": "3.11.5"
  },
  "orig_nbformat": 4
 },
 "nbformat": 4,
 "nbformat_minor": 2
}
